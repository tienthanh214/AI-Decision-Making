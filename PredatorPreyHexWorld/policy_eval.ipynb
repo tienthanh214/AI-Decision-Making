{
 "cells": [
  {
   "cell_type": "code",
   "execution_count": 8,
   "metadata": {},
   "outputs": [
    {
     "name": "stderr",
     "output_type": "stream",
     "text": [
      "┌ Warning: Pkg.installed() is deprecated\n",
      "└ @ Pkg C:\\buildbot\\worker\\package_win64\\build\\usr\\share\\julia\\stdlib\\v1.6\\Pkg\\src\\Pkg.jl:570\n"
     ]
    },
    {
     "name": "stderr",
     "output_type": "stream",
     "text": [
      "┌ Warning: Pkg.installed() is deprecated\n",
      "└ @ Pkg C:\\buildbot\\worker\\package_win64\\build\\usr\\share\\julia\\stdlib\\v1.6\\Pkg\\src\\Pkg.jl:570\n",
      "┌ Warning: Pkg.installed() is deprecated\n",
      "└ @ Pkg C:\\buildbot\\worker\\package_win64\\build\\usr\\share\\julia\\stdlib\\v1.6\\Pkg\\src\\Pkg.jl:570\n"
     ]
    },
    {
     "name": "stderr",
     "output_type": "stream",
     "text": [
      "\u001b[32m\u001b[1m    Updating\u001b[22m\u001b[39m registry at `C:\\Users\\tubmt\\.julia\\registries\\General`\n"
     ]
    },
    {
     "name": "stderr",
     "output_type": "stream",
     "text": [
      "\u001b[32m\u001b[1m    Updating\u001b[22m\u001b[39m git-repo `https://github.com/JuliaRegistries/General.git`"
     ]
    },
    {
     "name": "stderr",
     "output_type": "stream",
     "text": [
      "\n",
      "\u001b[32m\u001b[1m   Resolving\u001b[22m\u001b[39m package versions..."
     ]
    },
    {
     "name": "stderr",
     "output_type": "stream",
     "text": [
      "\n",
      "\u001b[32m\u001b[1m  No Changes\u001b[22m\u001b[39m to `C:\\Users\\tubmt\\.julia\\environments\\v1.6\\Project.toml`\n",
      "\u001b[32m\u001b[1m  No Changes\u001b[22m\u001b[39m to `C:\\Users\\tubmt\\.julia\\environments\\v1.6\\Manifest.toml`"
     ]
    },
    {
     "name": "stderr",
     "output_type": "stream",
     "text": [
      "\n"
     ]
    },
    {
     "name": "stderr",
     "output_type": "stream",
     "text": [
      "┌ Warning: Pkg.installed() is deprecated\n",
      "└ @ Pkg C:\\buildbot\\worker\\package_win64\\build\\usr\\share\\julia\\stdlib\\v1.6\\Pkg\\src\\Pkg.jl:570\n"
     ]
    },
    {
     "name": "stderr",
     "output_type": "stream",
     "text": [
      "┌ Warning: Pkg.installed() is deprecated\n",
      "└ @ Pkg C:\\buildbot\\worker\\package_win64\\build\\usr\\share\\julia\\stdlib\\v1.6\\Pkg\\src\\Pkg.jl:570\n"
     ]
    }
   ],
   "source": [
    "include(\"simple_game.jl\")\n",
    "include(\"markov_game.jl\")\n",
    "\n",
    "import Pkg\n",
    "import_packages = [\"Statistics\", \"PlotlyJS\", \"JLD\"]\n",
    "\n",
    "for pkg in import_packages\n",
    "    if !haskey(Pkg.installed(), pkg)\n",
    "        Pkg.add(pkg)\n",
    "    end\n",
    "end\n",
    "\n",
    "using JLD, DecisionMakingProblems, PlotlyJS\n",
    "using Statistics"
   ]
  },
  {
   "cell_type": "code",
   "execution_count": 20,
   "metadata": {},
   "outputs": [
    {
     "data": {
      "text/plain": [
       "2-element Vector{MGPolicy}:\n",
       " MGPolicy(Dict{Tuple{Int64, Int64}, SimpleGamePolicy}((11, 8) => SimpleGamePolicy(Dict(4 => 1.0)), (8, 12) => SimpleGamePolicy(Dict(1 => 1.0)), (11, 10) => SimpleGamePolicy(Dict(4 => 1.0)), (1, 12) => SimpleGamePolicy(Dict(1 => 1.0)), (11, 2) => SimpleGamePolicy(Dict(4 => 1.0)), (7, 1) => SimpleGamePolicy(Dict(5 => 1.0)), (4, 6) => SimpleGamePolicy(Dict(6 => 1.0)), (9, 3) => SimpleGamePolicy(Dict(2 => 1.0)), (5, 5) => SimpleGamePolicy(Dict(5 => 1.0)), (7, 8) => SimpleGamePolicy(Dict(5 => 1.0))…))\n",
       " MGPolicy(Dict{Tuple{Int64, Int64}, SimpleGamePolicy}((11, 8) => SimpleGamePolicy(Dict(3 => 1.0)), (8, 12) => SimpleGamePolicy(Dict(2 => 1.0)), (11, 10) => SimpleGamePolicy(Dict(3 => 1.0)), (1, 12) => SimpleGamePolicy(Dict(6 => 1.0)), (11, 2) => SimpleGamePolicy(Dict(4 => 1.0)), (7, 1) => SimpleGamePolicy(Dict(3 => 1.0)), (4, 6) => SimpleGamePolicy(Dict(1 => 1.0)), (9, 3) => SimpleGamePolicy(Dict(4 => 1.0)), (5, 5) => SimpleGamePolicy(Dict(4 => 1.0)), (7, 8) => SimpleGamePolicy(Dict(3 => 1.0))…))"
      ]
     },
     "metadata": {},
     "output_type": "display_data"
    }
   ],
   "source": [
    "pphw = PredatorPreyHexWorld()\n",
    "mg = MG(pphw)\n",
    "π_continuous = load(\"trained_policy/10000_continuous_iter_FP.jld\", \"trained_pi\")\n",
    "π_independent = load(\"trained_policy/independent_full_trained_FP.jld\", \"trained_pi\")\n",
    "π_concurrent = load(\"trained_policy/concurrent_full_trained_FP.jld\", \"trained_pi\")"
   ]
  },
  {
   "cell_type": "markdown",
   "metadata": {},
   "source": [
    "# pi1, pi2 and pi3"
   ]
  },
  {
   "cell_type": "code",
   "execution_count": 21,
   "metadata": {},
   "outputs": [
    {
     "name": "stdout",
     "output_type": "stream",
     "text": [
      "(-4.423917151454457, -160.18474563690972)\n"
     ]
    },
    {
     "name": "stdout",
     "output_type": "stream",
     "text": [
      "(-7.477254959281169, -132.70470536646934)\n"
     ]
    },
    {
     "name": "stdout",
     "output_type": "stream",
     "text": [
      "(-7.869454355398569, -129.17491080141275)\n"
     ]
    }
   ],
   "source": [
    "π = [π_continuous, π_independent, π_concurrent]\n",
    "for i in collect(1:length(π))\n",
    "    print(Tuple(mean(policy_evaluation(mg, π[i], j)) for j in mg.ℐ), '\\n')\n",
    "end"
   ]
  },
  {
   "cell_type": "markdown",
   "metadata": {},
   "source": [
    "# My policy vs random policy"
   ]
  },
  {
   "cell_type": "code",
   "execution_count": 29,
   "metadata": {},
   "outputs": [
    {
     "name": "stdout",
     "output_type": "stream",
     "text": [
      "(-17.927893774400577, -38.64895603039465)\n"
     ]
    },
    {
     "name": "stdout",
     "output_type": "stream",
     "text": [
      "(-17.926789089843282, -38.658898191410145)\n"
     ]
    },
    {
     "name": "stdout",
     "output_type": "stream",
     "text": [
      "(-18.04480723174632, -37.596734914282884)\n"
     ]
    }
   ],
   "source": [
    "function random_policy(mg::MG)\n",
    "    random_simple_policy = SimpleGamePolicy(Dict((action => 1.0) for action in mg.𝒜[1]))\n",
    "    return MGPolicy(s => deepcopy(random_simple_policy) for s in mg.𝒮)\n",
    "end\n",
    "\n",
    "π_random = random_policy(mg)\n",
    "for i in collect(1:length(π))\n",
    "    print(Tuple(mean(policy_evaluation(mg, [π_random, π[i][2]], j)) for j in mg.ℐ), '\\n')\n",
    "end\n"
   ]
  }
 ],
 "metadata": {
  "kernelspec": {
   "display_name": "Julia 1.6.4",
   "language": "julia",
   "name": "julia-1.6"
  },
  "language_info": {
   "file_extension": ".jl",
   "mimetype": "application/julia",
   "name": "julia",
   "version": "1.6.4"
  },
  "orig_nbformat": 4
 },
 "nbformat": 4,
 "nbformat_minor": 2
}
