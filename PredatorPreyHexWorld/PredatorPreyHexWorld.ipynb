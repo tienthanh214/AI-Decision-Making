{
  "cells": [
    {
      "cell_type": "code",
      "execution_count": 67,
      "metadata": {
        "id": "YcJvRMfGSROx"
      },
      "outputs": [
        {
          "name": "stderr",
          "output_type": "stream",
          "text": [
            "\u001b[32m\u001b[1m   Resolving\u001b[22m\u001b[39m package versions...\n"
          ]
        },
        {
          "name": "stderr",
          "output_type": "stream",
          "text": [
            "\u001b[32m\u001b[1m  No Changes\u001b[22m\u001b[39m to `C:\\Users\\tubmt\\.julia\\environments\\v1.6\\Project.toml`\n",
            "\u001b[32m\u001b[1m  No Changes\u001b[22m\u001b[39m to `C:\\Users\\tubmt\\.julia\\environments\\v1.6\\Manifest.toml`"
          ]
        },
        {
          "name": "stderr",
          "output_type": "stream",
          "text": [
            "\n"
          ]
        },
        {
          "name": "stderr",
          "output_type": "stream",
          "text": [
            "\u001b[32m\u001b[1m   Resolving\u001b[22m\u001b[39m package versions..."
          ]
        },
        {
          "name": "stderr",
          "output_type": "stream",
          "text": [
            "\n",
            "\u001b[32m\u001b[1m  No Changes\u001b[22m\u001b[39m to `C:\\Users\\tubmt\\.julia\\environments\\v1.6\\Project.toml`\n",
            "\u001b[32m\u001b[1m  No Changes\u001b[22m\u001b[39m to `C:\\Users\\tubmt\\.julia\\environments\\v1.6\\Manifest.toml`\n"
          ]
        },
        {
          "name": "stderr",
          "output_type": "stream",
          "text": [
            "\u001b[32m\u001b[1m    Updating\u001b[22m\u001b[39m git-repo `https://github.com/algorithmsbooks/DecisionMakingProblems.jl`"
          ]
        },
        {
          "name": "stderr",
          "output_type": "stream",
          "text": [
            "\n",
            "\u001b[32m\u001b[1m   Resolving\u001b[22m\u001b[39m package versions..."
          ]
        },
        {
          "name": "stderr",
          "output_type": "stream",
          "text": [
            "\n",
            "\u001b[32m\u001b[1m  No Changes\u001b[22m\u001b[39m to `C:\\Users\\tubmt\\.julia\\environments\\v1.6\\Project.toml`\n",
            "\u001b[32m\u001b[1m  No Changes\u001b[22m\u001b[39m to `C:\\Users\\tubmt\\.julia\\environments\\v1.6\\Manifest.toml`"
          ]
        },
        {
          "name": "stderr",
          "output_type": "stream",
          "text": [
            "\n"
          ]
        },
        {
          "name": "stderr",
          "output_type": "stream",
          "text": [
            "\u001b[32m\u001b[1m   Resolving\u001b[22m\u001b[39m package versions..."
          ]
        },
        {
          "name": "stderr",
          "output_type": "stream",
          "text": [
            "\n",
            "\u001b[32m\u001b[1m  No Changes\u001b[22m\u001b[39m to `C:\\Users\\tubmt\\.julia\\environments\\v1.6\\Project.toml`\n",
            "\u001b[32m\u001b[1m  No Changes\u001b[22m\u001b[39m to `C:\\Users\\tubmt\\.julia\\environments\\v1.6\\Manifest.toml`"
          ]
        },
        {
          "name": "stderr",
          "output_type": "stream",
          "text": [
            "\n"
          ]
        },
        {
          "name": "stderr",
          "output_type": "stream",
          "text": [
            "\u001b[32m\u001b[1m   Resolving\u001b[22m\u001b[39m package versions..."
          ]
        },
        {
          "name": "stderr",
          "output_type": "stream",
          "text": [
            "\n",
            "\u001b[32m\u001b[1m  No Changes\u001b[22m\u001b[39m to `C:\\Users\\tubmt\\.julia\\environments\\v1.6\\Project.toml`\n",
            "\u001b[32m\u001b[1m  No Changes\u001b[22m\u001b[39m to `C:\\Users\\tubmt\\.julia\\environments\\v1.6\\Manifest.toml`"
          ]
        },
        {
          "name": "stderr",
          "output_type": "stream",
          "text": [
            "\n"
          ]
        },
        {
          "name": "stderr",
          "output_type": "stream",
          "text": [
            "\u001b[32m\u001b[1m   Resolving\u001b[22m\u001b[39m package versions...\n"
          ]
        },
        {
          "name": "stderr",
          "output_type": "stream",
          "text": [
            "\u001b[32m\u001b[1m  No Changes\u001b[22m\u001b[39m to `C:\\Users\\tubmt\\.julia\\environments\\v1.6\\Project.toml`\n",
            "\u001b[32m\u001b[1m  No Changes\u001b[22m\u001b[39m to `C:\\Users\\tubmt\\.julia\\environments\\v1.6\\Manifest.toml`\n"
          ]
        },
        {
          "name": "stderr",
          "output_type": "stream",
          "text": [
            "\u001b[32m\u001b[1m   Resolving\u001b[22m\u001b[39m package versions..."
          ]
        },
        {
          "name": "stderr",
          "output_type": "stream",
          "text": [
            "\n",
            "\u001b[32m\u001b[1m  No Changes\u001b[22m\u001b[39m to `C:\\Users\\tubmt\\.julia\\environments\\v1.6\\Project.toml`\n",
            "\u001b[32m\u001b[1m  No Changes\u001b[22m\u001b[39m to `C:\\Users\\tubmt\\.julia\\environments\\v1.6\\Manifest.toml`"
          ]
        },
        {
          "name": "stderr",
          "output_type": "stream",
          "text": [
            "\n"
          ]
        }
      ],
      "source": [
        "import Pkg\n",
        "Pkg.add(\"Ipopt\")\n",
        "Pkg.add(\"JuMP\")\n",
        "Pkg.add(url = \"https://github.com/algorithmsbooks/DecisionMakingProblems.jl\")\n",
        "Pkg.add(\"Distributions\")\n",
        "Pkg.add(\"LinearAlgebra\")\n",
        "Pkg.add(\"JLD\")\n",
        "Pkg.add(\"Plots\")\n",
        "\n",
        "import Base.Iterators: product\n",
        "using JuMP, Ipopt, Distributions, LinearAlgebra, JLD, Plots\n",
        "using DecisionMakingProblems"
      ]
    },
    {
      "cell_type": "code",
      "execution_count": 68,
      "metadata": {},
      "outputs": [],
      "source": [
        "struct SetCategorical{S}\n",
        "    elements::Vector{S} # Set elements (could be repeated)\n",
        "    distr::Categorical # Categorical distribution over set elements\n",
        "    \n",
        "    function SetCategorical(elements::AbstractVector{S}) where S\n",
        "        weights = ones(length(elements))\n",
        "        return new{S}(elements, Categorical(normalize(weights, 1)))\n",
        "    end\n",
        "\n",
        "    function SetCategorical(elements::AbstractVector{S}, weights::AbstractVector{Float64}) where S\n",
        "        ℓ₁ = norm(weights,1)\n",
        "        if ℓ₁ < 1e-6 || isinf(ℓ₁)\n",
        "            return SetCategorical(elements)\n",
        "        end\n",
        "        distr = Categorical(normalize(weights, 1))\n",
        "        return new{S}(elements, distr)\n",
        "    end\n",
        "end\n",
        "\n",
        "Distributions.rand(D::SetCategorical) = D.elements[rand(D.distr)]\n",
        "Distributions.rand(D::SetCategorical, n::Int) = D.elements[rand(D.distr, n)]\n",
        "\n",
        "    function Distributions.pdf(D::SetCategorical, x)\n",
        "    sum(e == x ? w : 0.0 for (e,w) in zip(D.elements, D.distr.p))\n",
        "end"
      ]
    },
    {
      "cell_type": "code",
      "execution_count": 69,
      "metadata": {
        "id": "ctTldWwXSUEB"
      },
      "outputs": [
        {
          "data": {
            "text/plain": [
              "utility (generic function with 1 method)"
            ]
          },
          "metadata": {},
          "output_type": "display_data"
        }
      ],
      "source": [
        "struct SimpleGamePolicy\n",
        "    p # dictionary mapping actions to probabilities\n",
        "\n",
        "    function SimpleGamePolicy(p::Base.Generator)\n",
        "        return SimpleGamePolicy(Dict(p))\n",
        "    end\n",
        "\n",
        "    function SimpleGamePolicy(p::Dict)\n",
        "        vs = collect(values(p))\n",
        "        vs ./= sum(vs)\n",
        "        return new(Dict(k => v for (k,v) in zip(keys(p), vs)))\n",
        "    end\n",
        "    \n",
        "    SimpleGamePolicy(ai) = new(Dict(ai => 1.0))\n",
        "end\n",
        "\n",
        "(πi::SimpleGamePolicy)(ai) = get(πi.p, ai, 0.0)\n",
        "\n",
        "function (πi::SimpleGamePolicy)()\n",
        "    D = SetCategorical(collect(keys(πi.p)), collect(values(πi.p)))\n",
        "    return rand(D)\n",
        "end\n",
        "\n",
        "joint(X) = vec(collect(product(X...)))\n",
        "joint(π, πi, i) = [i == j ? πi : πj for (j, πj) in enumerate(π)]\n",
        "\n",
        "function utility(𝒫::SimpleGame, π, i)\n",
        "    𝒜, R = 𝒫.𝒜, 𝒫.R\n",
        "    p(a) = prod(πj(aj) for (πj, aj) in zip(π, a))\n",
        "    return sum(R(a)[i]*p(a) for a in joint(𝒜))\n",
        "end"
      ]
    },
    {
      "cell_type": "code",
      "execution_count": 70,
      "metadata": {
        "id": "QHbZR4W7SZNS"
      },
      "outputs": [
        {
          "data": {
            "text/plain": [
              "policy_evaluation (generic function with 1 method)"
            ]
          },
          "metadata": {},
          "output_type": "display_data"
        }
      ],
      "source": [
        "struct MGPolicy\n",
        "    p # dictionary mapping states to simple game policies\n",
        "    MGPolicy(p::Base.Generator) = new(Dict(p))\n",
        "end\n",
        "\n",
        "(πi::MGPolicy)(s, ai) = πi.p[s](ai)\n",
        "(πi::SimpleGamePolicy)(s, ai) = πi(ai)\n",
        "\n",
        "probability(𝒫::MG, s, π, a) = prod(πj(s, aj) for (πj, aj) in zip(π, a))\n",
        "reward(𝒫::MG, s, π, i) =\n",
        "    sum(𝒫.R(s,a)[i]*probability(𝒫,s,π,a) for a in joint(𝒫.𝒜))\n",
        "transition(𝒫::MG, s, π, s′) =\n",
        "    sum(𝒫.T(s,a,s′)*probability(𝒫,s,π,a) for a in joint(𝒫.𝒜))\n",
        "\n",
        "function policy_evaluation(𝒫::MG, π, i)\n",
        "    𝒮, 𝒜, R, T, γ = 𝒫.𝒮, 𝒫.𝒜, 𝒫.R, 𝒫.T, 𝒫.γ\n",
        "    p(s,a) = prod(πj(s, aj) for (πj, aj) in zip(π, a))\n",
        "    R′ = [sum(R(s,a)[i]*p(s,a) for a in joint(𝒜)) for s in 𝒮]\n",
        "    T′ = [sum(T(s,a,s′)*p(s,a) for a in joint(𝒜)) for s in 𝒮, s′ in 𝒮]\n",
        "    return (I - γ*T′)\\R′\n",
        "end"
      ]
    },
    {
      "cell_type": "markdown",
      "metadata": {
        "id": "qWNVhXJfgj3H"
      },
      "source": [
        "# Fictitious Play"
      ]
    },
    {
      "cell_type": "code",
      "execution_count": 71,
      "metadata": {
        "id": "ttY0CNO3gtDU"
      },
      "outputs": [
        {
          "data": {
            "text/plain": [
              "update! (generic function with 1 method)"
            ]
          },
          "metadata": {},
          "output_type": "display_data"
        }
      ],
      "source": [
        "mutable struct MGFictitiousPlay\n",
        "    𝒫 # Markov game\n",
        "    i # agent index\n",
        "    Qi # state-action value estimates\n",
        "    Ni # state-action counts\n",
        "end\n",
        "\n",
        "function MGFictitiousPlay(𝒫::MG, i)\n",
        "    ℐ, 𝒮, 𝒜, R = 𝒫.ℐ, 𝒫.𝒮, 𝒫.𝒜, 𝒫.R\n",
        "    Qi = Dict((s, a) => R(s, a)[i] for s in 𝒮 for a in joint(𝒜))\n",
        "    Ni = Dict((j, s, aj) => 1.0 for j in ℐ for s in 𝒮 for aj in 𝒜[j])\n",
        "    return MGFictitiousPlay(𝒫, i, Qi, Ni)\n",
        "end\n",
        "\n",
        "function (πi::MGFictitiousPlay)(s)\n",
        "    𝒫, i, Qi = πi.𝒫, πi.i, πi.Qi\n",
        "    ℐ, 𝒮, 𝒜, T, R, γ = 𝒫.ℐ, 𝒫.𝒮, 𝒫.𝒜, 𝒫.T, 𝒫.R, 𝒫.γ\n",
        "    πi′(i,s) = SimpleGamePolicy(ai => πi.Ni[i,s,ai] for ai in 𝒜[i])\n",
        "    πi′(i) = MGPolicy(s => πi′(i,s) for s in 𝒮)\n",
        "    π = [πi′(i) for i in ℐ]\n",
        "    U(s,π) = sum(πi.Qi[s,a]*probability(𝒫,s,π,a) for a in joint(𝒜))\n",
        "    Q(s,π) = reward(𝒫,s,π,i) + γ*sum(transition(𝒫,s,π,s′)*U(s′,π) for s′ in 𝒮)\n",
        "    Q(ai) = Q(s, joint(π, SimpleGamePolicy(ai), i))\n",
        "    ai = argmax(Q, 𝒫.𝒜[πi.i])\n",
        "    return SimpleGamePolicy(ai)\n",
        "end\n",
        "\n",
        "function update!(πi::MGFictitiousPlay, s, a, s′)\n",
        "    𝒫, i, Qi = πi.𝒫, πi.i, πi.Qi\n",
        "    ℐ, 𝒮, 𝒜, T, R, γ = 𝒫.ℐ, 𝒫.𝒮, 𝒫.𝒜, 𝒫.T, 𝒫.R, 𝒫.γ\n",
        "    for (j,aj) in enumerate(a)\n",
        "        πi.Ni[j,s,aj] += 1\n",
        "    end\n",
        "    πi′(i,s) = SimpleGamePolicy(ai => πi.Ni[i,s,ai] for ai in 𝒜[i])\n",
        "    πi′(i) = MGPolicy(s => πi′(i,s) for s in 𝒮)\n",
        "    π = [πi′(i) for i in ℐ]\n",
        "    U(π,s) = sum(πi.Qi[s,a]*probability(𝒫,s,π,a) for a in joint(𝒜))\n",
        "    Q(s,a) = R(s,a)[i] + γ*sum(T(s,a,s′)*U(π,s′) for s′ in 𝒮)\n",
        "    for a in joint(𝒜)\n",
        "        πi.Qi[s,a] = Q(s,a)\n",
        "    end\n",
        "end"
      ]
    },
    {
      "cell_type": "markdown",
      "metadata": {
        "id": "IZHTo_yfgxVt"
      },
      "source": [
        "# Stimulate For Learning\n"
      ]
    },
    {
      "cell_type": "code",
      "execution_count": 72,
      "metadata": {
        "id": "_j4CsSS4gy1w"
      },
      "outputs": [
        {
          "data": {
            "text/plain": [
              "simulate (generic function with 1 method)"
            ]
          },
          "metadata": {},
          "output_type": "display_data"
        }
      ],
      "source": [
        "function randstep(𝒫::MG, s, a)\n",
        "    s′ = rand(SetCategorical(𝒫.𝒮, [𝒫.T(s, a, s′) for s′ in 𝒫.𝒮]))\n",
        "    r = 𝒫.R(s,a)\n",
        "    return s′, r\n",
        "end\n",
        "\n",
        "function simulate(𝒫::MG, π, start_state, k_max, k_reset)\n",
        "    print(\"Start state: \", start_state, '\\n')\n",
        "    s = start_state\n",
        "    for k = 1:k_max\n",
        "        if k % 100 == 0\n",
        "            print(k, '/', k_max, '\\n')\n",
        "        end\n",
        "        a = Tuple(πi(s)() for πi in π)\n",
        "        s′, r = randstep(𝒫, s, a)\n",
        "        for πi in π\n",
        "            update!(πi, s, a, s′)\n",
        "        end\n",
        "        s = s′\n",
        "        if k % k_reset == 0\n",
        "            s = start_state\n",
        "        end\n",
        "    end\n",
        "    return π\n",
        "end"
      ]
    },
    {
      "cell_type": "markdown",
      "metadata": {},
      "source": [
        "# Fictitious Play Training"
      ]
    },
    {
      "cell_type": "code",
      "execution_count": 73,
      "metadata": {},
      "outputs": [
        {
          "data": {
            "text/plain": [
              "train_fictitious_play (generic function with 1 method)"
            ]
          },
          "metadata": {},
          "output_type": "display_data"
        }
      ],
      "source": [
        "function MGFPtoMGPolicy(𝒫::MG, πi::MGFictitiousPlay)\n",
        "    return MGPolicy(s => πi(s) for s in 𝒫.𝒮)\n",
        "end\n",
        "\n",
        "function train_fictitious_play(PPHW::DecisionMakingProblems.PredatorPreyHexWorldMG, k_max)\n",
        "    𝒫 = MG(PPHW)\n",
        "    π = [MGFictitiousPlay(𝒫, i) for i in 𝒫.ℐ]\n",
        "    cnt = 0\n",
        "    for s in 𝒫.𝒮\n",
        "        cnt += 1\n",
        "        if s[1] == s[2]\n",
        "            continue\n",
        "        end\n",
        "        print(cnt, '/', length(𝒫.𝒮), '\\n')\n",
        "        simulate(𝒫, π, s, k_max, 10)\n",
        "    end\n",
        "    π = [MGFPtoMGPolicy(𝒫, πi) for πi in π]\n",
        "    return π\n",
        "end"
      ]
    },
    {
      "cell_type": "code",
      "execution_count": 74,
      "metadata": {},
      "outputs": [
        {
          "data": {
            "text/plain": [
              "MG(0.95, [1, 2], [(1, 1), (2, 1), (3, 1), (4, 1), (5, 1), (6, 1), (7, 1), (8, 1), (9, 1), (10, 1)  …  (3, 12), (4, 12), (5, 12), (6, 12), (7, 12), (8, 12), (9, 12), (10, 12), (11, 12), (12, 12)], [[1, 2, 3, 4, 5, 6], [1, 2, 3, 4, 5, 6]], DecisionMakingProblems.var\"#166#169\"{DecisionMakingProblems.PredatorPreyHexWorldMG}(DecisionMakingProblems.PredatorPreyHexWorldMG([(-1, 2), (0, 2), (1, 2), (-1, 1), (1, 1), (3, 1), (4, 1), (0, 0), (1, 0), (2, 0), (3, 0), (4, 0)], DecisionMakingProblems.DiscreteMDP([0.30000000000000004 0.85 … 0.30000000000000004 0.7; 0.0 0.0 … 0.15000000000000002 0.0; … ; 0.0 0.0 … 0.0 0.0; 0.0 0.0 … 0.0 0.0]\n",
              "\n",
              "[0.7 0.15000000000000002 … 0.0 0.15000000000000002; 0.15000000000000002 0.85 … 0.7 0.15000000000000002; … ; 0.0 0.0 … 0.0 0.0; 0.0 0.0 … 0.0 0.0]\n",
              "\n",
              "[0.0 0.0 … 0.0 0.0; 0.7 0.15000000000000002 … 0.0 0.15000000000000002; … ; 0.0 0.0 … 0.0 0.0; 0.0 0.0 … 0.0 0.0]\n",
              "\n",
              "...\n",
              "\n",
              "[0.0 0.0 … 0.0 0.0; 0.0 0.0 … 0.0 0.0; … ; 0.0 0.0 … 0.15000000000000002 0.0; 0.0 0.0 … 0.0 0.0]\n",
              "\n",
              "[0.0 0.0 … 0.0 0.0; 0.0 0.0 … 0.0 0.0; … ; 0.85 0.15000000000000002 … 0.85 1.0; 0.0 0.0 … 0.0 0.0]\n",
              "\n",
              "[0.0 0.0 … 0.0 0.0; 0.0 0.0 … 0.0 0.0; … ; 0.0 0.0 … 0.0 0.0; 1.0 1.0 … 1.0 1.0], [-0.30000000000000004 -0.85 … -0.30000000000000004 -0.7; -0.15000000000000002 -0.85 … -0.7 -0.15000000000000002; … ; -0.85 -0.15000000000000002 … -0.85 -1.0; 0.0 0.0 … 0.0 0.0], 0.95))), DecisionMakingProblems.var\"#167#170\"{DecisionMakingProblems.PredatorPreyHexWorldMG}(DecisionMakingProblems.PredatorPreyHexWorldMG([(-1, 2), (0, 2), (1, 2), (-1, 1), (1, 1), (3, 1), (4, 1), (0, 0), (1, 0), (2, 0), (3, 0), (4, 0)], DecisionMakingProblems.DiscreteMDP([0.30000000000000004 0.85 … 0.30000000000000004 0.7; 0.0 0.0 … 0.15000000000000002 0.0; … ; 0.0 0.0 … 0.0 0.0; 0.0 0.0 … 0.0 0.0]\n",
              "\n",
              "[0.7 0.15000000000000002 … 0.0 0.15000000000000002; 0.15000000000000002 0.85 … 0.7 0.15000000000000002; … ; 0.0 0.0 … 0.0 0.0; 0.0 0.0 … 0.0 0.0]\n",
              "\n",
              "[0.0 0.0 … 0.0 0.0; 0.7 0.15000000000000002 … 0.0 0.15000000000000002; … ; 0.0 0.0 … 0.0 0.0; 0.0 0.0 … 0.0 0.0]\n",
              "\n",
              "...\n",
              "\n",
              "[0.0 0.0 … 0.0 0.0; 0.0 0.0 … 0.0 0.0; … ; 0.0 0.0 … 0.15000000000000002 0.0; 0.0 0.0 … 0.0 0.0]\n",
              "\n",
              "[0.0 0.0 … 0.0 0.0; 0.0 0.0 … 0.0 0.0; … ; 0.85 0.15000000000000002 … 0.85 1.0; 0.0 0.0 … 0.0 0.0]\n",
              "\n",
              "[0.0 0.0 … 0.0 0.0; 0.0 0.0 … 0.0 0.0; … ; 0.0 0.0 … 0.0 0.0; 1.0 1.0 … 1.0 1.0], [-0.30000000000000004 -0.85 … -0.30000000000000004 -0.7; -0.15000000000000002 -0.85 … -0.7 -0.15000000000000002; … ; -0.85 -0.15000000000000002 … -0.85 -1.0; 0.0 0.0 … 0.0 0.0], 0.95))))"
            ]
          },
          "metadata": {},
          "output_type": "display_data"
        }
      ],
      "source": [
        "pphw = PredatorPreyHexWorld()\n",
        "𝒫 = MG(pphw)\n",
        "# π = train_fictitious_play(pphw, 300)\n",
        "# save(\"sample_test.jld\", \"trained_pi\", π)"
      ]
    },
    {
      "cell_type": "markdown",
      "metadata": {},
      "source": [
        "# Visualization"
      ]
    },
    {
      "cell_type": "code",
      "execution_count": 75,
      "metadata": {},
      "outputs": [
        {
          "data": {
            "text/plain": [
              "IntendedPPHW (generic function with 1 method)"
            ]
          },
          "metadata": {},
          "output_type": "display_data"
        }
      ],
      "source": [
        "pphw = PredatorPreyHexWorld()\n",
        "𝒫 = MG(pphw)\n",
        "\n",
        "function IntendedPPHW(p_intended = 1.0)\n",
        "    PredatorPreyHexWorld = DecisionMakingProblems.PredatorPreyHexWorldMG(\n",
        "        [\n",
        "         (-1, 2), (0, 2), (1, 2),\n",
        "         (-1, 1), (1, 1), (3, 1), (4, 1),\n",
        "         (0, 0), (1, 0), (2, 0), (3, 0), (4, 0),\n",
        "         ],\n",
        "        -1.0,\n",
        "        p_intended,\n",
        "        0.95\n",
        "    )\n",
        "    return PredatorPreyHexWorld\n",
        "end"
      ]
    },
    {
      "cell_type": "code",
      "execution_count": 76,
      "metadata": {},
      "outputs": [
        {
          "name": "stderr",
          "output_type": "stream",
          "text": [
            "WARNING: redefinition of constant ACTIONS. This may fail, cause incorrect answers, or produce other errors.\n",
            "WARNING: redefinition of constant MOVEMENTS. This may fail, cause incorrect answers, or produce other errors.\n",
            "WARNING: redefinition of constant MOVE_TO_ARROW. This may fail, cause incorrect answers, or produce other errors.\n"
          ]
        },
        {
          "data": {
            "text/plain": [
              "Dict{Int64, String} with 6 entries:\n",
              "  5 => \"↙\"\n",
              "  4 => \"←\"\n",
              "  6 => \"↘\"\n",
              "  2 => \"↗\"\n",
              "  3 => \"↖\"\n",
              "  1 => \"→\""
            ]
          },
          "metadata": {},
          "output_type": "display_data"
        }
      ],
      "source": [
        "# 6 direction can take in one action \n",
        "const ACTIONS = [\"→\", \"↗\", \"↖\", \"←\", \"↙\", \"↘\"]\n",
        "const MOVEMENTS = [(1, 0), (0, 1), (-1, 1), (-1, 0), (0, -1), (1, -1)] \n",
        "\n",
        "const MOVE_TO_ARROW = Dict([i => ACTIONS[i] for i = 1 : length(MOVEMENTS)]) "
      ]
    },
    {
      "cell_type": "code",
      "execution_count": 77,
      "metadata": {},
      "outputs": [
        {
          "data": {
            "image/png": "[encoded data removed]",
            "image/svg+xml": "<?xml version=\"1.0\" encoding=\"utf-8\"?>\n<svg xmlns=\"http://www.w3.org/2000/svg\" xmlns:xlink=\"http://www.w3.org/1999/xlink\" width=\"600\" height=\"400\" viewBox=\"0 0 2400 1600\">\n<defs>\n  <clipPath id=\"clip160\">\n    <rect x=\"0\" y=\"0\" width=\"2400\" height=\"1600\"/>\n  </clipPath>\n</defs>\n<path clip-path=\"url(#clip160)\" d=\"\nM0 1600 L2400 1600 L2400 0 L0 0  Z\n  \" fill=\"#ffffff\" fill-rule=\"evenodd\" fill-opacity=\"1\"/>\n<defs>\n  <clipPath id=\"clip161\">\n    <rect x=\"480\" y=\"0\" width=\"1681\" height=\"1600\"/>\n  </clipPath>\n</defs>\n<path clip-path=\"url(#clip160)\" d=\"\nM147.478 1486.45 L2352.76 1486.45 L2352.76 47.2441 L147.478 47.2441  Z\n  \" fill=\"#ffffff\" fill-rule=\"evenodd\" fill-opacity=\"1\"/>\n<defs>\n  <clipPath id=\"clip162\">\n    <rect x=\"147\" y=\"47\" width=\"2206\" height=\"1440\"/>\n  </clipPath>\n</defs>\n<polyline clip-path=\"url(#clip162)\" style=\"stroke:#000000; stroke-linecap:butt; stroke-linejoin:round; stroke-width:2; stroke-opacity:0.1; fill:none\" points=\"\n  507.099,1486.45 507.099,47.2441 \n  \"/>\n<polyline clip-path=\"url(#clip162)\" style=\"stroke:#000000; stroke-linecap:butt; stroke-linejoin:round; stroke-width:2; stroke-opacity:0.1; fill:none\" points=\"\n  1101.51,1486.45 1101.51,47.2441 \n  \"/>\n<polyline clip-path=\"url(#clip162)\" style=\"stroke:#000000; stroke-linecap:butt; stroke-linejoin:round; stroke-width:2; stroke-opacity:0.1; fill:none\" points=\"\n  1695.93,1486.45 1695.93,47.2441 \n  \"/>\n<polyline clip-path=\"url(#clip162)\" style=\"stroke:#000000; stroke-linecap:butt; stroke-linejoin:round; stroke-width:2; stroke-opacity:0.1; fill:none\" points=\"\n  2290.34,1486.45 2290.34,47.2441 \n  \"/>\n<polyline clip-path=\"url(#clip160)\" style=\"stroke:#000000; stroke-linecap:butt; stroke-linejoin:round; stroke-width:4; stroke-opacity:1; fill:none\" points=\"\n  147.478,1486.45 2352.76,1486.45 \n  \"/>\n<polyline clip-path=\"url(#clip160)\" style=\"stroke:#000000; stroke-linecap:butt; stroke-linejoin:round; stroke-width:4; stroke-opacity:1; fill:none\" points=\"\n  507.099,1486.45 507.099,1467.55 \n  \"/>\n<polyline clip-path=\"url(#clip160)\" style=\"stroke:#000000; stroke-linecap:butt; stroke-linejoin:round; stroke-width:4; stroke-opacity:1; fill:none\" points=\"\n  1101.51,1486.45 1101.51,1467.55 \n  \"/>\n<polyline clip-path=\"url(#clip160)\" style=\"stroke:#000000; stroke-linecap:butt; stroke-linejoin:round; stroke-width:4; stroke-opacity:1; fill:none\" points=\"\n  1695.93,1486.45 1695.93,1467.55 \n  \"/>\n<polyline clip-path=\"url(#clip160)\" style=\"stroke:#000000; stroke-linecap:butt; stroke-linejoin:round; stroke-width:4; stroke-opacity:1; fill:none\" points=\"\n  2290.34,1486.45 2290.34,1467.55 \n  \"/>\n<path clip-path=\"url(#clip160)\" d=\"M507.099 1517.37 Q503.488 1517.37 501.659 1520.93 Q499.853 1524.47 499.853 1531.6 Q499.853 1538.71 501.659 1542.27 Q503.488 1545.82 507.099 1545.82 Q510.733 1545.82 512.539 1542.27 Q514.367 1538.71 514.367 1531.6 Q514.367 1524.47 512.539 1520.93 Q510.733 1517.37 507.099 1517.37 M507.099 1513.66 Q512.909 1513.66 515.964 1518.27 Q519.043 1522.85 519.043 1531.6 Q519.043 1540.33 515.964 1544.94 Q512.909 1549.52 507.099 1549.52 Q501.289 1549.52 498.21 1544.94 Q495.154 1540.33 495.154 1531.6 Q495.154 1522.85 498.21 1518.27 Q501.289 1513.66 507.099 1513.66 Z\" fill=\"#000000\" fill-rule=\"evenodd\" fill-opacity=\"1\" /><path clip-path=\"url(#clip160)\" d=\"M1096.17 1544.91 L1112.49 1544.91 L1112.49 1548.85 L1090.54 1548.85 L1090.54 1544.91 Q1093.2 1542.16 1097.79 1537.53 Q1102.39 1532.88 1103.57 1531.53 Q1105.82 1529.01 1106.7 1527.27 Q1107.6 1525.51 1107.6 1523.82 Q1107.6 1521.07 1105.66 1519.33 Q1103.74 1517.6 1100.63 1517.6 Q1098.43 1517.6 1095.98 1518.36 Q1093.55 1519.13 1090.77 1520.68 L1090.77 1515.95 Q1093.6 1514.82 1096.05 1514.24 Q1098.5 1513.66 1100.54 1513.66 Q1105.91 1513.66 1109.11 1516.35 Q1112.3 1519.03 1112.3 1523.52 Q1112.3 1525.65 1111.49 1527.57 Q1110.7 1529.47 1108.6 1532.07 Q1108.02 1532.74 1104.92 1535.95 Q1101.81 1539.15 1096.17 1544.91 Z\" fill=\"#000000\" fill-rule=\"evenodd\" fill-opacity=\"1\" /><path clip-path=\"url(#clip160)\" d=\"M1698.94 1518.36 L1687.13 1536.81 L1698.94 1536.81 L1698.94 1518.36 M1697.71 1514.29 L1703.59 1514.29 L1703.59 1536.81 L1708.52 1536.81 L1708.52 1540.7 L1703.59 1540.7 L1703.59 1548.85 L1698.94 1548.85 L1698.94 1540.7 L1683.34 1540.7 L1683.34 1536.19 L1697.71 1514.29 Z\" fill=\"#000000\" fill-rule=\"evenodd\" fill-opacity=\"1\" /><path clip-path=\"url(#clip160)\" d=\"M2290.75 1529.7 Q2287.6 1529.7 2285.75 1531.86 Q2283.92 1534.01 2283.92 1537.76 Q2283.92 1541.49 2285.75 1543.66 Q2287.6 1545.82 2290.75 1545.82 Q2293.9 1545.82 2295.72 1543.66 Q2297.58 1541.49 2297.58 1537.76 Q2297.58 1534.01 2295.72 1531.86 Q2293.9 1529.7 2290.75 1529.7 M2300.03 1515.05 L2300.03 1519.31 Q2298.27 1518.48 2296.47 1518.04 Q2294.68 1517.6 2292.92 1517.6 Q2288.29 1517.6 2285.84 1520.72 Q2283.41 1523.85 2283.06 1530.17 Q2284.43 1528.15 2286.49 1527.09 Q2288.55 1526 2291.03 1526 Q2296.23 1526 2299.24 1529.17 Q2302.28 1532.32 2302.28 1537.76 Q2302.28 1543.08 2299.13 1546.3 Q2295.98 1549.52 2290.75 1549.52 Q2284.75 1549.52 2281.58 1544.94 Q2278.41 1540.33 2278.41 1531.6 Q2278.41 1523.41 2282.3 1518.55 Q2286.19 1513.66 2292.74 1513.66 Q2294.5 1513.66 2296.28 1514.01 Q2298.09 1514.36 2300.03 1515.05 Z\" fill=\"#000000\" fill-rule=\"evenodd\" fill-opacity=\"1\" /><polyline clip-path=\"url(#clip162)\" style=\"stroke:#000000; stroke-linecap:butt; stroke-linejoin:round; stroke-width:2; stroke-opacity:0.1; fill:none\" points=\"\n  147.478,1445.72 2352.76,1445.72 \n  \"/>\n<polyline clip-path=\"url(#clip162)\" style=\"stroke:#000000; stroke-linecap:butt; stroke-linejoin:round; stroke-width:2; stroke-opacity:0.1; fill:none\" points=\"\n  147.478,1174.17 2352.76,1174.17 \n  \"/>\n<polyline clip-path=\"url(#clip162)\" style=\"stroke:#000000; stroke-linecap:butt; stroke-linejoin:round; stroke-width:2; stroke-opacity:0.1; fill:none\" points=\"\n  147.478,902.62 2352.76,902.62 \n  \"/>\n<polyline clip-path=\"url(#clip162)\" style=\"stroke:#000000; stroke-linecap:butt; stroke-linejoin:round; stroke-width:2; stroke-opacity:0.1; fill:none\" points=\"\n  147.478,631.072 2352.76,631.072 \n  \"/>\n<polyline clip-path=\"url(#clip162)\" style=\"stroke:#000000; stroke-linecap:butt; stroke-linejoin:round; stroke-width:2; stroke-opacity:0.1; fill:none\" points=\"\n  147.478,359.524 2352.76,359.524 \n  \"/>\n<polyline clip-path=\"url(#clip162)\" style=\"stroke:#000000; stroke-linecap:butt; stroke-linejoin:round; stroke-width:2; stroke-opacity:0.1; fill:none\" points=\"\n  147.478,87.9763 2352.76,87.9763 \n  \"/>\n<polyline clip-path=\"url(#clip160)\" style=\"stroke:#000000; stroke-linecap:butt; stroke-linejoin:round; stroke-width:4; stroke-opacity:1; fill:none\" points=\"\n  147.478,1486.45 147.478,47.2441 \n  \"/>\n<polyline clip-path=\"url(#clip160)\" style=\"stroke:#000000; stroke-linecap:butt; stroke-linejoin:round; stroke-width:4; stroke-opacity:1; fill:none\" points=\"\n  147.478,1445.72 166.376,1445.72 \n  \"/>\n<polyline clip-path=\"url(#clip160)\" style=\"stroke:#000000; stroke-linecap:butt; stroke-linejoin:round; stroke-width:4; stroke-opacity:1; fill:none\" points=\"\n  147.478,1174.17 166.376,1174.17 \n  \"/>\n<polyline clip-path=\"url(#clip160)\" style=\"stroke:#000000; stroke-linecap:butt; stroke-linejoin:round; stroke-width:4; stroke-opacity:1; fill:none\" points=\"\n  147.478,902.62 166.376,902.62 \n  \"/>\n<polyline clip-path=\"url(#clip160)\" style=\"stroke:#000000; stroke-linecap:butt; stroke-linejoin:round; stroke-width:4; stroke-opacity:1; fill:none\" points=\"\n  147.478,631.072 166.376,631.072 \n  \"/>\n<polyline clip-path=\"url(#clip160)\" style=\"stroke:#000000; stroke-linecap:butt; stroke-linejoin:round; stroke-width:4; stroke-opacity:1; fill:none\" points=\"\n  147.478,359.524 166.376,359.524 \n  \"/>\n<polyline clip-path=\"url(#clip160)\" style=\"stroke:#000000; stroke-linecap:butt; stroke-linejoin:round; stroke-width:4; stroke-opacity:1; fill:none\" points=\"\n  147.478,87.9763 166.376,87.9763 \n  \"/>\n<path clip-path=\"url(#clip160)\" d=\"M51.3625 1446.17 L81.0383 1446.17 L81.0383 1450.1 L51.3625 1450.1 L51.3625 1446.17 Z\" fill=\"#000000\" fill-rule=\"evenodd\" fill-opacity=\"1\" /><path clip-path=\"url(#clip160)\" d=\"M95.1586 1459.06 L111.478 1459.06 L111.478 1463 L89.5336 1463 L89.5336 1459.06 Q92.1956 1456.31 96.7789 1451.68 Q101.385 1447.02 102.566 1445.68 Q104.811 1443.16 105.691 1441.42 Q106.594 1439.66 106.594 1437.97 Q106.594 1435.22 104.649 1433.48 Q102.728 1431.75 99.6261 1431.75 Q97.4271 1431.75 94.9734 1432.51 Q92.5428 1433.27 89.7651 1434.82 L89.7651 1430.1 Q92.5891 1428.97 95.0428 1428.39 Q97.4965 1427.81 99.5335 1427.81 Q104.904 1427.81 108.098 1430.5 Q111.293 1433.18 111.293 1437.67 Q111.293 1439.8 110.483 1441.72 Q109.696 1443.62 107.589 1446.21 Q107.01 1446.88 103.909 1450.1 Q100.807 1453.3 95.1586 1459.06 Z\" fill=\"#000000\" fill-rule=\"evenodd\" fill-opacity=\"1\" /><path clip-path=\"url(#clip160)\" d=\"M50.9921 1174.62 L80.6679 1174.62 L80.6679 1178.55 L50.9921 1178.55 L50.9921 1174.62 Z\" fill=\"#000000\" fill-rule=\"evenodd\" fill-opacity=\"1\" /><path clip-path=\"url(#clip160)\" d=\"M91.5706 1187.51 L99.2095 1187.51 L99.2095 1161.15 L90.8993 1162.81 L90.8993 1158.55 L99.1632 1156.89 L103.839 1156.89 L103.839 1187.51 L111.478 1187.51 L111.478 1191.45 L91.5706 1191.45 L91.5706 1187.51 Z\" fill=\"#000000\" fill-rule=\"evenodd\" fill-opacity=\"1\" /><path clip-path=\"url(#clip160)\" d=\"M99.5335 888.419 Q95.9224 888.419 94.0937 891.983 Q92.2882 895.525 92.2882 902.655 Q92.2882 909.761 94.0937 913.326 Q95.9224 916.868 99.5335 916.868 Q103.168 916.868 104.973 913.326 Q106.802 909.761 106.802 902.655 Q106.802 895.525 104.973 891.983 Q103.168 888.419 99.5335 888.419 M99.5335 884.715 Q105.344 884.715 108.399 889.321 Q111.478 893.905 111.478 902.655 Q111.478 911.381 108.399 915.988 Q105.344 920.571 99.5335 920.571 Q93.7234 920.571 90.6447 915.988 Q87.5892 911.381 87.5892 902.655 Q87.5892 893.905 90.6447 889.321 Q93.7234 884.715 99.5335 884.715 Z\" fill=\"#000000\" fill-rule=\"evenodd\" fill-opacity=\"1\" /><path clip-path=\"url(#clip160)\" d=\"M91.5706 644.417 L99.2095 644.417 L99.2095 618.051 L90.8993 619.718 L90.8993 615.459 L99.1632 613.792 L103.839 613.792 L103.839 644.417 L111.478 644.417 L111.478 648.352 L91.5706 648.352 L91.5706 644.417 Z\" fill=\"#000000\" fill-rule=\"evenodd\" fill-opacity=\"1\" /><path clip-path=\"url(#clip160)\" d=\"M95.1586 372.869 L111.478 372.869 L111.478 376.804 L89.5336 376.804 L89.5336 372.869 Q92.1956 370.114 96.7789 365.485 Q101.385 360.832 102.566 359.489 Q104.811 356.966 105.691 355.23 Q106.594 353.471 106.594 351.781 Q106.594 349.027 104.649 347.29 Q102.728 345.554 99.6261 345.554 Q97.4271 345.554 94.9734 346.318 Q92.5428 347.082 89.7651 348.633 L89.7651 343.911 Q92.5891 342.777 95.0428 342.198 Q97.4965 341.619 99.5335 341.619 Q104.904 341.619 108.098 344.304 Q111.293 346.99 111.293 351.48 Q111.293 353.61 110.483 355.531 Q109.696 357.429 107.589 360.022 Q107.01 360.693 103.909 363.911 Q100.807 367.105 95.1586 372.869 Z\" fill=\"#000000\" fill-rule=\"evenodd\" fill-opacity=\"1\" /><path clip-path=\"url(#clip160)\" d=\"M104.348 86.6221 Q107.705 87.3397 109.58 89.6082 Q111.478 91.8767 111.478 95.21 Q111.478 100.326 107.959 103.127 Q104.441 105.928 97.9595 105.928 Q95.7836 105.928 93.4688 105.488 Q91.1771 105.071 88.7234 104.215 L88.7234 99.7008 Q90.6678 100.835 92.9826 101.414 Q95.2974 101.992 97.8206 101.992 Q102.219 101.992 104.51 100.256 Q106.825 98.5202 106.825 95.21 Q106.825 92.1545 104.672 90.4415 Q102.543 88.7054 98.7234 88.7054 L94.6956 88.7054 L94.6956 84.8629 L98.9085 84.8629 Q102.358 84.8629 104.186 83.4971 Q106.015 82.1083 106.015 79.5157 Q106.015 76.8537 104.117 75.4416 Q102.242 74.0064 98.7234 74.0064 Q96.8021 74.0064 94.603 74.4231 Q92.4039 74.8398 89.7651 75.7194 L89.7651 71.5528 Q92.4271 70.812 94.7419 70.4416 Q97.0798 70.0713 99.14 70.0713 Q104.464 70.0713 107.566 72.5018 Q110.668 74.9092 110.668 79.0296 Q110.668 81.8999 109.024 83.8907 Q107.381 85.8582 104.348 86.6221 Z\" fill=\"#000000\" fill-rule=\"evenodd\" fill-opacity=\"1\" /><path clip-path=\"url(#clip162)\" d=\"M501.155 676.762 L414.555 626.762 L414.555 526.762 L501.155 476.762 L587.755 526.762 L587.755 626.762 Z\" fill=\"#009af9\" fill-rule=\"evenodd\" fill-opacity=\"1\" stroke=\"#000000\" stroke-opacity=\"1\" stroke-width=\"3.2\"/>\n<path clip-path=\"url(#clip162)\" d=\"M685.423 676.762 L598.823 626.762 L598.823 526.762 L685.423 476.762 L772.023 526.762 L772.023 626.762 Z\" fill=\"#009af9\" fill-rule=\"evenodd\" fill-opacity=\"1\" stroke=\"#000000\" stroke-opacity=\"1\" stroke-width=\"3.2\"/>\n<path clip-path=\"url(#clip162)\" d=\"M869.692 676.762 L783.092 626.762 L783.092 526.762 L869.692 476.762 L956.292 526.762 L956.292 626.762 Z\" fill=\"#009af9\" fill-rule=\"evenodd\" fill-opacity=\"1\" stroke=\"#000000\" stroke-opacity=\"1\" stroke-width=\"3.2\"/>\n<path clip-path=\"url(#clip162)\" d=\"M411.992 839.691 L325.392 789.691 L325.392 689.691 L411.992 639.691 L498.592 689.691 L498.592 789.691 Z\" fill=\"#009af9\" fill-rule=\"evenodd\" fill-opacity=\"1\" stroke=\"#000000\" stroke-opacity=\"1\" stroke-width=\"3.2\"/>\n<path clip-path=\"url(#clip162)\" d=\"M780.529 839.691 L693.929 789.691 L693.929 689.691 L780.529 639.691 L867.129 689.691 L867.129 789.691 Z\" fill=\"#009af9\" fill-rule=\"evenodd\" fill-opacity=\"1\" stroke=\"#000000\" stroke-opacity=\"1\" stroke-width=\"3.2\"/>\n<path clip-path=\"url(#clip162)\" d=\"M1149.07 839.691 L1062.47 789.691 L1062.47 689.691 L1149.07 639.691 L1235.67 689.691 L1235.67 789.691 Z\" fill=\"#009af9\" fill-rule=\"evenodd\" fill-opacity=\"1\" stroke=\"#000000\" stroke-opacity=\"1\" stroke-width=\"3.2\"/>\n<path clip-path=\"url(#clip162)\" d=\"M1333.33 839.691 L1246.73 789.691 L1246.73 689.691 L1333.33 639.691 L1419.93 689.691 L1419.93 789.691 Z\" fill=\"#009af9\" fill-rule=\"evenodd\" fill-opacity=\"1\" stroke=\"#000000\" stroke-opacity=\"1\" stroke-width=\"3.2\"/>\n<path clip-path=\"url(#clip162)\" d=\"M507.099 1002.62 L420.499 952.62 L420.499 852.62 L507.099 802.62 L593.699 852.62 L593.699 952.62 Z\" fill=\"#009af9\" fill-rule=\"evenodd\" fill-opacity=\"1\" stroke=\"#000000\" stroke-opacity=\"1\" stroke-width=\"3.2\"/>\n<path clip-path=\"url(#clip162)\" d=\"M691.367 1002.62 L604.767 952.62 L604.767 852.62 L691.367 802.62 L777.967 852.62 L777.967 952.62 Z\" fill=\"#009af9\" fill-rule=\"evenodd\" fill-opacity=\"1\" stroke=\"#000000\" stroke-opacity=\"1\" stroke-width=\"3.2\"/>\n<path clip-path=\"url(#clip162)\" d=\"M875.636 1002.62 L789.036 952.62 L789.036 852.62 L875.636 802.62 L962.236 852.62 L962.236 952.62 Z\" fill=\"#009af9\" fill-rule=\"evenodd\" fill-opacity=\"1\" stroke=\"#000000\" stroke-opacity=\"1\" stroke-width=\"3.2\"/>\n<path clip-path=\"url(#clip162)\" d=\"M1059.9 1002.62 L973.304 952.62 L973.304 852.62 L1059.9 802.62 L1146.5 852.62 L1146.5 952.62 Z\" fill=\"#009af9\" fill-rule=\"evenodd\" fill-opacity=\"1\" stroke=\"#000000\" stroke-opacity=\"1\" stroke-width=\"3.2\"/>\n<path clip-path=\"url(#clip162)\" d=\"M1244.17 1002.62 L1157.57 952.62 L1157.57 852.62 L1244.17 802.62 L1330.77 852.62 L1330.77 952.62 Z\" fill=\"#009af9\" fill-rule=\"evenodd\" fill-opacity=\"1\" stroke=\"#000000\" stroke-opacity=\"1\" stroke-width=\"3.2\"/>\n<path clip-path=\"url(#clip162)\" d=\"\nM209.891 1445.72 L2290.34 1445.72 L2290.34 87.9763 L209.891 87.9763 L209.891 1445.72  Z\n  \" fill=\"#e26f46\" fill-rule=\"evenodd\" fill-opacity=\"0\"/>\n<polyline clip-path=\"url(#clip162)\" style=\"stroke:#000000; stroke-linecap:butt; stroke-linejoin:round; stroke-width:4; stroke-opacity:0; fill:none\" points=\"\n  209.891,1445.72 2290.34,1445.72 2290.34,87.9763 209.891,87.9763 209.891,1445.72 \n  \"/>\n</svg>\n",
            "text/html": [
              "<?xml version=\"1.0\" encoding=\"utf-8\"?>\n",
              "<svg xmlns=\"http://www.w3.org/2000/svg\" xmlns:xlink=\"http://www.w3.org/1999/xlink\" width=\"600\" height=\"400\" viewBox=\"0 0 2400 1600\">\n",
              "<defs>\n",
              "  <clipPath id=\"clip210\">\n",
              "    <rect x=\"0\" y=\"0\" width=\"2400\" height=\"1600\"/>\n",
              "  </clipPath>\n",
              "</defs>\n",
              "<path clip-path=\"url(#clip210)\" d=\"\n",
              "M0 1600 L2400 1600 L2400 0 L0 0  Z\n",
              "  \" fill=\"#ffffff\" fill-rule=\"evenodd\" fill-opacity=\"1\"/>\n",
              "<defs>\n",
              "  <clipPath id=\"clip211\">\n",
              "    <rect x=\"480\" y=\"0\" width=\"1681\" height=\"1600\"/>\n",
              "  </clipPath>\n",
              "</defs>\n",
              "<path clip-path=\"url(#clip210)\" d=\"\n",
              "M147.478 1486.45 L2352.76 1486.45 L2352.76 47.2441 L147.478 47.2441  Z\n",
              "  \" fill=\"#ffffff\" fill-rule=\"evenodd\" fill-opacity=\"1\"/>\n",
              "<defs>\n",
              "  <clipPath id=\"clip212\">\n",
              "    <rect x=\"147\" y=\"47\" width=\"2206\" height=\"1440\"/>\n",
              "  </clipPath>\n",
              "</defs>\n",
              "<polyline clip-path=\"url(#clip212)\" style=\"stroke:#000000; stroke-linecap:butt; stroke-linejoin:round; stroke-width:2; stroke-opacity:0.1; fill:none\" points=\"\n",
              "  507.099,1486.45 507.099,47.2441 \n",
              "  \"/>\n",
              "<polyline clip-path=\"url(#clip212)\" style=\"stroke:#000000; stroke-linecap:butt; stroke-linejoin:round; stroke-width:2; stroke-opacity:0.1; fill:none\" points=\"\n",
              "  1101.51,1486.45 1101.51,47.2441 \n",
              "  \"/>\n",
              "<polyline clip-path=\"url(#clip212)\" style=\"stroke:#000000; stroke-linecap:butt; stroke-linejoin:round; stroke-width:2; stroke-opacity:0.1; fill:none\" points=\"\n",
              "  1695.93,1486.45 1695.93,47.2441 \n",
              "  \"/>\n",
              "<polyline clip-path=\"url(#clip212)\" style=\"stroke:#000000; stroke-linecap:butt; stroke-linejoin:round; stroke-width:2; stroke-opacity:0.1; fill:none\" points=\"\n",
              "  2290.34,1486.45 2290.34,47.2441 \n",
              "  \"/>\n",
              "<polyline clip-path=\"url(#clip210)\" style=\"stroke:#000000; stroke-linecap:butt; stroke-linejoin:round; stroke-width:4; stroke-opacity:1; fill:none\" points=\"\n",
              "  147.478,1486.45 2352.76,1486.45 \n",
              "  \"/>\n",
              "<polyline clip-path=\"url(#clip210)\" style=\"stroke:#000000; stroke-linecap:butt; stroke-linejoin:round; stroke-width:4; stroke-opacity:1; fill:none\" points=\"\n",
              "  507.099,1486.45 507.099,1467.55 \n",
              "  \"/>\n",
              "<polyline clip-path=\"url(#clip210)\" style=\"stroke:#000000; stroke-linecap:butt; stroke-linejoin:round; stroke-width:4; stroke-opacity:1; fill:none\" points=\"\n",
              "  1101.51,1486.45 1101.51,1467.55 \n",
              "  \"/>\n",
              "<polyline clip-path=\"url(#clip210)\" style=\"stroke:#000000; stroke-linecap:butt; stroke-linejoin:round; stroke-width:4; stroke-opacity:1; fill:none\" points=\"\n",
              "  1695.93,1486.45 1695.93,1467.55 \n",
              "  \"/>\n",
              "<polyline clip-path=\"url(#clip210)\" style=\"stroke:#000000; stroke-linecap:butt; stroke-linejoin:round; stroke-width:4; stroke-opacity:1; fill:none\" points=\"\n",
              "  2290.34,1486.45 2290.34,1467.55 \n",
              "  \"/>\n",
              "<path clip-path=\"url(#clip210)\" d=\"M507.099 1517.37 Q503.488 1517.37 501.659 1520.93 Q499.853 1524.47 499.853 1531.6 Q499.853 1538.71 501.659 1542.27 Q503.488 1545.82 507.099 1545.82 Q510.733 1545.82 512.539 1542.27 Q514.367 1538.71 514.367 1531.6 Q514.367 1524.47 512.539 1520.93 Q510.733 1517.37 507.099 1517.37 M507.099 1513.66 Q512.909 1513.66 515.964 1518.27 Q519.043 1522.85 519.043 1531.6 Q519.043 1540.33 515.964 1544.94 Q512.909 1549.52 507.099 1549.52 Q501.289 1549.52 498.21 1544.94 Q495.154 1540.33 495.154 1531.6 Q495.154 1522.85 498.21 1518.27 Q501.289 1513.66 507.099 1513.66 Z\" fill=\"#000000\" fill-rule=\"evenodd\" fill-opacity=\"1\" /><path clip-path=\"url(#clip210)\" d=\"M1096.17 1544.91 L1112.49 1544.91 L1112.49 1548.85 L1090.54 1548.85 L1090.54 1544.91 Q1093.2 1542.16 1097.79 1537.53 Q1102.39 1532.88 1103.57 1531.53 Q1105.82 1529.01 1106.7 1527.27 Q1107.6 1525.51 1107.6 1523.82 Q1107.6 1521.07 1105.66 1519.33 Q1103.74 1517.6 1100.63 1517.6 Q1098.43 1517.6 1095.98 1518.36 Q1093.55 1519.13 1090.77 1520.68 L1090.77 1515.95 Q1093.6 1514.82 1096.05 1514.24 Q1098.5 1513.66 1100.54 1513.66 Q1105.91 1513.66 1109.11 1516.35 Q1112.3 1519.03 1112.3 1523.52 Q1112.3 1525.65 1111.49 1527.57 Q1110.7 1529.47 1108.6 1532.07 Q1108.02 1532.74 1104.92 1535.95 Q1101.81 1539.15 1096.17 1544.91 Z\" fill=\"#000000\" fill-rule=\"evenodd\" fill-opacity=\"1\" /><path clip-path=\"url(#clip210)\" d=\"M1698.94 1518.36 L1687.13 1536.81 L1698.94 1536.81 L1698.94 1518.36 M1697.71 1514.29 L1703.59 1514.29 L1703.59 1536.81 L1708.52 1536.81 L1708.52 1540.7 L1703.59 1540.7 L1703.59 1548.85 L1698.94 1548.85 L1698.94 1540.7 L1683.34 1540.7 L1683.34 1536.19 L1697.71 1514.29 Z\" fill=\"#000000\" fill-rule=\"evenodd\" fill-opacity=\"1\" /><path clip-path=\"url(#clip210)\" d=\"M2290.75 1529.7 Q2287.6 1529.7 2285.75 1531.86 Q2283.92 1534.01 2283.92 1537.76 Q2283.92 1541.49 2285.75 1543.66 Q2287.6 1545.82 2290.75 1545.82 Q2293.9 1545.82 2295.72 1543.66 Q2297.58 1541.49 2297.58 1537.76 Q2297.58 1534.01 2295.72 1531.86 Q2293.9 1529.7 2290.75 1529.7 M2300.03 1515.05 L2300.03 1519.31 Q2298.27 1518.48 2296.47 1518.04 Q2294.68 1517.6 2292.92 1517.6 Q2288.29 1517.6 2285.84 1520.72 Q2283.41 1523.85 2283.06 1530.17 Q2284.43 1528.15 2286.49 1527.09 Q2288.55 1526 2291.03 1526 Q2296.23 1526 2299.24 1529.17 Q2302.28 1532.32 2302.28 1537.76 Q2302.28 1543.08 2299.13 1546.3 Q2295.98 1549.52 2290.75 1549.52 Q2284.75 1549.52 2281.58 1544.94 Q2278.41 1540.33 2278.41 1531.6 Q2278.41 1523.41 2282.3 1518.55 Q2286.19 1513.66 2292.74 1513.66 Q2294.5 1513.66 2296.28 1514.01 Q2298.09 1514.36 2300.03 1515.05 Z\" fill=\"#000000\" fill-rule=\"evenodd\" fill-opacity=\"1\" /><polyline clip-path=\"url(#clip212)\" style=\"stroke:#000000; stroke-linecap:butt; stroke-linejoin:round; stroke-width:2; stroke-opacity:0.1; fill:none\" points=\"\n",
              "  147.478,1445.72 2352.76,1445.72 \n",
              "  \"/>\n",
              "<polyline clip-path=\"url(#clip212)\" style=\"stroke:#000000; stroke-linecap:butt; stroke-linejoin:round; stroke-width:2; stroke-opacity:0.1; fill:none\" points=\"\n",
              "  147.478,1174.17 2352.76,1174.17 \n",
              "  \"/>\n",
              "<polyline clip-path=\"url(#clip212)\" style=\"stroke:#000000; stroke-linecap:butt; stroke-linejoin:round; stroke-width:2; stroke-opacity:0.1; fill:none\" points=\"\n",
              "  147.478,902.62 2352.76,902.62 \n",
              "  \"/>\n",
              "<polyline clip-path=\"url(#clip212)\" style=\"stroke:#000000; stroke-linecap:butt; stroke-linejoin:round; stroke-width:2; stroke-opacity:0.1; fill:none\" points=\"\n",
              "  147.478,631.072 2352.76,631.072 \n",
              "  \"/>\n",
              "<polyline clip-path=\"url(#clip212)\" style=\"stroke:#000000; stroke-linecap:butt; stroke-linejoin:round; stroke-width:2; stroke-opacity:0.1; fill:none\" points=\"\n",
              "  147.478,359.524 2352.76,359.524 \n",
              "  \"/>\n",
              "<polyline clip-path=\"url(#clip212)\" style=\"stroke:#000000; stroke-linecap:butt; stroke-linejoin:round; stroke-width:2; stroke-opacity:0.1; fill:none\" points=\"\n",
              "  147.478,87.9763 2352.76,87.9763 \n",
              "  \"/>\n",
              "<polyline clip-path=\"url(#clip210)\" style=\"stroke:#000000; stroke-linecap:butt; stroke-linejoin:round; stroke-width:4; stroke-opacity:1; fill:none\" points=\"\n",
              "  147.478,1486.45 147.478,47.2441 \n",
              "  \"/>\n",
              "<polyline clip-path=\"url(#clip210)\" style=\"stroke:#000000; stroke-linecap:butt; stroke-linejoin:round; stroke-width:4; stroke-opacity:1; fill:none\" points=\"\n",
              "  147.478,1445.72 166.376,1445.72 \n",
              "  \"/>\n",
              "<polyline clip-path=\"url(#clip210)\" style=\"stroke:#000000; stroke-linecap:butt; stroke-linejoin:round; stroke-width:4; stroke-opacity:1; fill:none\" points=\"\n",
              "  147.478,1174.17 166.376,1174.17 \n",
              "  \"/>\n",
              "<polyline clip-path=\"url(#clip210)\" style=\"stroke:#000000; stroke-linecap:butt; stroke-linejoin:round; stroke-width:4; stroke-opacity:1; fill:none\" points=\"\n",
              "  147.478,902.62 166.376,902.62 \n",
              "  \"/>\n",
              "<polyline clip-path=\"url(#clip210)\" style=\"stroke:#000000; stroke-linecap:butt; stroke-linejoin:round; stroke-width:4; stroke-opacity:1; fill:none\" points=\"\n",
              "  147.478,631.072 166.376,631.072 \n",
              "  \"/>\n",
              "<polyline clip-path=\"url(#clip210)\" style=\"stroke:#000000; stroke-linecap:butt; stroke-linejoin:round; stroke-width:4; stroke-opacity:1; fill:none\" points=\"\n",
              "  147.478,359.524 166.376,359.524 \n",
              "  \"/>\n",
              "<polyline clip-path=\"url(#clip210)\" style=\"stroke:#000000; stroke-linecap:butt; stroke-linejoin:round; stroke-width:4; stroke-opacity:1; fill:none\" points=\"\n",
              "  147.478,87.9763 166.376,87.9763 \n",
              "  \"/>\n",
              "<path clip-path=\"url(#clip210)\" d=\"M51.3625 1446.17 L81.0383 1446.17 L81.0383 1450.1 L51.3625 1450.1 L51.3625 1446.17 Z\" fill=\"#000000\" fill-rule=\"evenodd\" fill-opacity=\"1\" /><path clip-path=\"url(#clip210)\" d=\"M95.1586 1459.06 L111.478 1459.06 L111.478 1463 L89.5336 1463 L89.5336 1459.06 Q92.1956 1456.31 96.7789 1451.68 Q101.385 1447.02 102.566 1445.68 Q104.811 1443.16 105.691 1441.42 Q106.594 1439.66 106.594 1437.97 Q106.594 1435.22 104.649 1433.48 Q102.728 1431.75 99.6261 1431.75 Q97.4271 1431.75 94.9734 1432.51 Q92.5428 1433.27 89.7651 1434.82 L89.7651 1430.1 Q92.5891 1428.97 95.0428 1428.39 Q97.4965 1427.81 99.5335 1427.81 Q104.904 1427.81 108.098 1430.5 Q111.293 1433.18 111.293 1437.67 Q111.293 1439.8 110.483 1441.72 Q109.696 1443.62 107.589 1446.21 Q107.01 1446.88 103.909 1450.1 Q100.807 1453.3 95.1586 1459.06 Z\" fill=\"#000000\" fill-rule=\"evenodd\" fill-opacity=\"1\" /><path clip-path=\"url(#clip210)\" d=\"M50.9921 1174.62 L80.6679 1174.62 L80.6679 1178.55 L50.9921 1178.55 L50.9921 1174.62 Z\" fill=\"#000000\" fill-rule=\"evenodd\" fill-opacity=\"1\" /><path clip-path=\"url(#clip210)\" d=\"M91.5706 1187.51 L99.2095 1187.51 L99.2095 1161.15 L90.8993 1162.81 L90.8993 1158.55 L99.1632 1156.89 L103.839 1156.89 L103.839 1187.51 L111.478 1187.51 L111.478 1191.45 L91.5706 1191.45 L91.5706 1187.51 Z\" fill=\"#000000\" fill-rule=\"evenodd\" fill-opacity=\"1\" /><path clip-path=\"url(#clip210)\" d=\"M99.5335 888.419 Q95.9224 888.419 94.0937 891.983 Q92.2882 895.525 92.2882 902.655 Q92.2882 909.761 94.0937 913.326 Q95.9224 916.868 99.5335 916.868 Q103.168 916.868 104.973 913.326 Q106.802 909.761 106.802 902.655 Q106.802 895.525 104.973 891.983 Q103.168 888.419 99.5335 888.419 M99.5335 884.715 Q105.344 884.715 108.399 889.321 Q111.478 893.905 111.478 902.655 Q111.478 911.381 108.399 915.988 Q105.344 920.571 99.5335 920.571 Q93.7234 920.571 90.6447 915.988 Q87.5892 911.381 87.5892 902.655 Q87.5892 893.905 90.6447 889.321 Q93.7234 884.715 99.5335 884.715 Z\" fill=\"#000000\" fill-rule=\"evenodd\" fill-opacity=\"1\" /><path clip-path=\"url(#clip210)\" d=\"M91.5706 644.417 L99.2095 644.417 L99.2095 618.051 L90.8993 619.718 L90.8993 615.459 L99.1632 613.792 L103.839 613.792 L103.839 644.417 L111.478 644.417 L111.478 648.352 L91.5706 648.352 L91.5706 644.417 Z\" fill=\"#000000\" fill-rule=\"evenodd\" fill-opacity=\"1\" /><path clip-path=\"url(#clip210)\" d=\"M95.1586 372.869 L111.478 372.869 L111.478 376.804 L89.5336 376.804 L89.5336 372.869 Q92.1956 370.114 96.7789 365.485 Q101.385 360.832 102.566 359.489 Q104.811 356.966 105.691 355.23 Q106.594 353.471 106.594 351.781 Q106.594 349.027 104.649 347.29 Q102.728 345.554 99.6261 345.554 Q97.4271 345.554 94.9734 346.318 Q92.5428 347.082 89.7651 348.633 L89.7651 343.911 Q92.5891 342.777 95.0428 342.198 Q97.4965 341.619 99.5335 341.619 Q104.904 341.619 108.098 344.304 Q111.293 346.99 111.293 351.48 Q111.293 353.61 110.483 355.531 Q109.696 357.429 107.589 360.022 Q107.01 360.693 103.909 363.911 Q100.807 367.105 95.1586 372.869 Z\" fill=\"#000000\" fill-rule=\"evenodd\" fill-opacity=\"1\" /><path clip-path=\"url(#clip210)\" d=\"M104.348 86.6221 Q107.705 87.3397 109.58 89.6082 Q111.478 91.8767 111.478 95.21 Q111.478 100.326 107.959 103.127 Q104.441 105.928 97.9595 105.928 Q95.7836 105.928 93.4688 105.488 Q91.1771 105.071 88.7234 104.215 L88.7234 99.7008 Q90.6678 100.835 92.9826 101.414 Q95.2974 101.992 97.8206 101.992 Q102.219 101.992 104.51 100.256 Q106.825 98.5202 106.825 95.21 Q106.825 92.1545 104.672 90.4415 Q102.543 88.7054 98.7234 88.7054 L94.6956 88.7054 L94.6956 84.8629 L98.9085 84.8629 Q102.358 84.8629 104.186 83.4971 Q106.015 82.1083 106.015 79.5157 Q106.015 76.8537 104.117 75.4416 Q102.242 74.0064 98.7234 74.0064 Q96.8021 74.0064 94.603 74.4231 Q92.4039 74.8398 89.7651 75.7194 L89.7651 71.5528 Q92.4271 70.812 94.7419 70.4416 Q97.0798 70.0713 99.14 70.0713 Q104.464 70.0713 107.566 72.5018 Q110.668 74.9092 110.668 79.0296 Q110.668 81.8999 109.024 83.8907 Q107.381 85.8582 104.348 86.6221 Z\" fill=\"#000000\" fill-rule=\"evenodd\" fill-opacity=\"1\" /><path clip-path=\"url(#clip212)\" d=\"M501.155 676.762 L414.555 626.762 L414.555 526.762 L501.155 476.762 L587.755 526.762 L587.755 626.762 Z\" fill=\"#009af9\" fill-rule=\"evenodd\" fill-opacity=\"1\" stroke=\"#000000\" stroke-opacity=\"1\" stroke-width=\"3.2\"/>\n",
              "<path clip-path=\"url(#clip212)\" d=\"M685.423 676.762 L598.823 626.762 L598.823 526.762 L685.423 476.762 L772.023 526.762 L772.023 626.762 Z\" fill=\"#009af9\" fill-rule=\"evenodd\" fill-opacity=\"1\" stroke=\"#000000\" stroke-opacity=\"1\" stroke-width=\"3.2\"/>\n",
              "<path clip-path=\"url(#clip212)\" d=\"M869.692 676.762 L783.092 626.762 L783.092 526.762 L869.692 476.762 L956.292 526.762 L956.292 626.762 Z\" fill=\"#009af9\" fill-rule=\"evenodd\" fill-opacity=\"1\" stroke=\"#000000\" stroke-opacity=\"1\" stroke-width=\"3.2\"/>\n",
              "<path clip-path=\"url(#clip212)\" d=\"M411.992 839.691 L325.392 789.691 L325.392 689.691 L411.992 639.691 L498.592 689.691 L498.592 789.691 Z\" fill=\"#009af9\" fill-rule=\"evenodd\" fill-opacity=\"1\" stroke=\"#000000\" stroke-opacity=\"1\" stroke-width=\"3.2\"/>\n",
              "<path clip-path=\"url(#clip212)\" d=\"M780.529 839.691 L693.929 789.691 L693.929 689.691 L780.529 639.691 L867.129 689.691 L867.129 789.691 Z\" fill=\"#009af9\" fill-rule=\"evenodd\" fill-opacity=\"1\" stroke=\"#000000\" stroke-opacity=\"1\" stroke-width=\"3.2\"/>\n",
              "<path clip-path=\"url(#clip212)\" d=\"M1149.07 839.691 L1062.47 789.691 L1062.47 689.691 L1149.07 639.691 L1235.67 689.691 L1235.67 789.691 Z\" fill=\"#009af9\" fill-rule=\"evenodd\" fill-opacity=\"1\" stroke=\"#000000\" stroke-opacity=\"1\" stroke-width=\"3.2\"/>\n",
              "<path clip-path=\"url(#clip212)\" d=\"M1333.33 839.691 L1246.73 789.691 L1246.73 689.691 L1333.33 639.691 L1419.93 689.691 L1419.93 789.691 Z\" fill=\"#009af9\" fill-rule=\"evenodd\" fill-opacity=\"1\" stroke=\"#000000\" stroke-opacity=\"1\" stroke-width=\"3.2\"/>\n",
              "<path clip-path=\"url(#clip212)\" d=\"M507.099 1002.62 L420.499 952.62 L420.499 852.62 L507.099 802.62 L593.699 852.62 L593.699 952.62 Z\" fill=\"#009af9\" fill-rule=\"evenodd\" fill-opacity=\"1\" stroke=\"#000000\" stroke-opacity=\"1\" stroke-width=\"3.2\"/>\n",
              "<path clip-path=\"url(#clip212)\" d=\"M691.367 1002.62 L604.767 952.62 L604.767 852.62 L691.367 802.62 L777.967 852.62 L777.967 952.62 Z\" fill=\"#009af9\" fill-rule=\"evenodd\" fill-opacity=\"1\" stroke=\"#000000\" stroke-opacity=\"1\" stroke-width=\"3.2\"/>\n",
              "<path clip-path=\"url(#clip212)\" d=\"M875.636 1002.62 L789.036 952.62 L789.036 852.62 L875.636 802.62 L962.236 852.62 L962.236 952.62 Z\" fill=\"#009af9\" fill-rule=\"evenodd\" fill-opacity=\"1\" stroke=\"#000000\" stroke-opacity=\"1\" stroke-width=\"3.2\"/>\n",
              "<path clip-path=\"url(#clip212)\" d=\"M1059.9 1002.62 L973.304 952.62 L973.304 852.62 L1059.9 802.62 L1146.5 852.62 L1146.5 952.62 Z\" fill=\"#009af9\" fill-rule=\"evenodd\" fill-opacity=\"1\" stroke=\"#000000\" stroke-opacity=\"1\" stroke-width=\"3.2\"/>\n",
              "<path clip-path=\"url(#clip212)\" d=\"M1244.17 1002.62 L1157.57 952.62 L1157.57 852.62 L1244.17 802.62 L1330.77 852.62 L1330.77 952.62 Z\" fill=\"#009af9\" fill-rule=\"evenodd\" fill-opacity=\"1\" stroke=\"#000000\" stroke-opacity=\"1\" stroke-width=\"3.2\"/>\n",
              "<path clip-path=\"url(#clip212)\" d=\"\n",
              "M209.891 1445.72 L2290.34 1445.72 L2290.34 87.9763 L209.891 87.9763 L209.891 1445.72  Z\n",
              "  \" fill=\"#e26f46\" fill-rule=\"evenodd\" fill-opacity=\"0\"/>\n",
              "<polyline clip-path=\"url(#clip212)\" style=\"stroke:#000000; stroke-linecap:butt; stroke-linejoin:round; stroke-width:4; stroke-opacity:0; fill:none\" points=\"\n",
              "  209.891,1445.72 2290.34,1445.72 2290.34,87.9763 209.891,87.9763 209.891,1445.72 \n",
              "  \"/>\n",
              "</svg>\n"
            ]
          },
          "metadata": {},
          "output_type": "display_data"
        }
      ],
      "source": [
        "rectangle(w, h, x, y) = Shape(x .+ [0,w,w,0], y .+ [0,0,h,h])\n",
        "\n",
        "function render(PPHW::DecisionMakingProblems.PredatorPreyHexWorldMG)\n",
        "    diff_x = 0.62\n",
        "    diff_y = 0.6\n",
        "    diff_odd = 0.3\n",
        "\n",
        "    S = PPHW.hexes\n",
        "\n",
        "    X = [(s[1] * diff_x + diff_odd * s[2]) for s in S]\n",
        "    Y = [(s[2] * diff_y) for s in S]\n",
        "\n",
        "    scatter(X, Y, \n",
        "        markershape = :hexagon, \n",
        "        markersize = 25, \n",
        "        legend = nothing)\n",
        "    plot!(rectangle(7, 5, -1, -2), opacity = 0.0)\n",
        "end\n",
        "\n",
        "render(pphw)"
      ]
    },
    {
      "cell_type": "code",
      "execution_count": 82,
      "metadata": {},
      "outputs": [
        {
          "data": {
            "text/plain": [
              "render (generic function with 2 methods)"
            ]
          },
          "metadata": {},
          "output_type": "display_data"
        }
      ],
      "source": [
        "function render(pphw::DecisionMakingProblems.PredatorPreyHexWorldMG, π; tit = \"\", current_state = nothing)\n",
        "    # constant setting plot\n",
        "    mg = MG(pphw)\n",
        "    diff_x = 0.62\n",
        "    diff_y = 0.6\n",
        "    diff_odd = 0.3\n",
        "    direct = Dict([(1, (1, 0)), (2, (1, 1)),\n",
        "                (3, (-1, 1)), (4, (-1, 0)),\n",
        "                (5, (-1, -1)), (6, (1, -1))])\n",
        "\n",
        "    S = mg.𝒮    \n",
        "    X = [(s[1] * diff_x + diff_odd * s[2]) for s in pphw.hexes]\n",
        "    Y = [(s[2] * diff_y) for s in pphw.hexes]\n",
        "    function my_color(s)\n",
        "        if current_state == nothing\n",
        "            return :silver\n",
        "        end\n",
        "        if s == pphw.hexes[current_state[1]]\n",
        "            return :tomato2\n",
        "        elseif s == pphw.hexes[current_state[2]]\n",
        "            return :royalblue\n",
        "        else  \n",
        "            return :silver\n",
        "        end\n",
        "    end\n",
        "    colors = [my_color(s) for s in pphw.hexes]\n",
        "    # setup grad color\n",
        "    # IJulia.clear_output(true)\n",
        "    fig = scatter(X, Y, \n",
        "        markershape = :hexagon, \n",
        "        markercolor = colors,\n",
        "        makerstrokewidth = 5,\n",
        "        markersize = 25,\n",
        "        legend = nothing,\n",
        "        axis = nothing,\n",
        "        title = tit\n",
        "        )\n",
        "    if (current_state != nothing && current_state[1] != current_state[2])\n",
        "        for (i, s) in enumerate(current_state)\n",
        "            x = pphw.hexes[s][1] * diff_x + diff_odd * pphw.hexes[s][2]\n",
        "            y = pphw.hexes[s][2] * diff_y\n",
        "            a = rand(SetCategorical(mg.𝒜[i], [π[i](current_state, ai) for ai in mg.𝒜[i]]))\n",
        "            dx, dy = direct[a]\n",
        "            dx /= 100; dy /= 100\n",
        "            x += dx * 15\n",
        "            y += dy * 15\n",
        "            plot!([x, x + dx],\n",
        "                [y, y + dy],\n",
        "                arrow = true,\n",
        "                linewidth = 2,\n",
        "                color = :black\n",
        "            )\n",
        "        end\n",
        "    end\n",
        "    plot!(rectangle(7, 5, -1, -2), opacity = 0.0)\n",
        "    return fig\n",
        "end"
      ]
    },
    {
      "cell_type": "code",
      "execution_count": 92,
      "metadata": {},
      "outputs": [
        {
          "name": "stderr",
          "output_type": "stream",
          "text": [
            "┌ Info: Saved animation to \n",
            "│   fn = f:\\OneDrive - VNU-HCMUS\\Tus\\University\\Junior\\AI\\AI-Decision-Making\\PredatorPreyHexWorld\\simulation.gif\n",
            "└ @ Plots C:\\Users\\tubmt\\.julia\\packages\\Plots\\UeTBV\\src\\animation.jl:114\n"
          ]
        },
        {
          "data": {
            "text/plain": [
              "([(3, 10), (5, 11), (10, 12), (11, 12), (12, 7), (12, 7), (7, 7)], [(0.0, 0.0), (-1.0, -1.0), (-1.0, -1.0), (-1.0, -1.0), (-1.0, -1.0), (-1.0, -1.0), (10.0, -100.0)])"
            ]
          },
          "metadata": {},
          "output_type": "display_data"
        }
      ],
      "source": [
        "Base.:+(a::Tuple{Float64, Float64}, b::Tuple{Float64, Float64}) = (a[1] + b[1], a[2] + b[2])\n",
        "Base.:+(a::Float64, b::Tuple{Float64, Float64}) = (a * b[1], a *  b[2])\n",
        "\n",
        "function next_step(𝒫::MG, π, s)\n",
        "    a = Tuple(rand(SetCategorical(𝒫.𝒜[i], [π[i](s, ai) for ai in 𝒫.𝒜[i]])) for i in 𝒫.ℐ)\n",
        "    s′ = rand(SetCategorical(𝒫.𝒮, [𝒫.T(s, a, s′) for s′ in 𝒫.𝒮]))\n",
        "    r = 𝒫.R(s′, a)\n",
        "    return s′, r\n",
        "end\n",
        "\n",
        "function visualized_simulate(pphw::DecisionMakingProblems.PredatorPreyHexWorldMG, π)\n",
        "    𝒫 = MG(pphw)\n",
        "    # s = rand(𝒫.𝒮)\n",
        "    s = (3, 10)\n",
        "    states, rewards = [s], [(0.0, 0.0)]\n",
        "    tot_reward = (0.0, 0.0)\n",
        "    anim = Animation()\n",
        "    step = 0\n",
        "    while true\n",
        "        frame(anim,\n",
        "            render(pphw, π, tit = string(\"Step: \", step, \"\\nReward: \", tot_reward), current_state = s)\n",
        "        )\n",
        "        if rewards[length(rewards)][1] > 0\n",
        "            gif(anim, \"simulation.gif\", fps = 1)\n",
        "            return states, rewards\n",
        "        end\n",
        "        s′, r = next_step(𝒫, π, s)\n",
        "        s = s′\n",
        "        push!(states, s)\n",
        "        push!(rewards, Tuple(r))\n",
        "        step += 1\n",
        "        tot_reward = tot_reward + ((𝒫.γ ^ step) * r[1], (𝒫.γ ^ step) * r[2]) \n",
        "    end\n",
        "end\n",
        "\n",
        "π = load(\"trained_pi.jld\", \"trained_pi\")\n",
        "pphw = PredatorPreyHexWorld()\n",
        "visualized_simulate(pphw, π)"
      ]
    }
  ],
  "metadata": {
    "accelerator": "GPU",
    "colab": {
      "collapsed_sections": [],
      "name": "test.ipynb",
      "provenance": []
    },
    "kernelspec": {
      "display_name": "Julia 1.6.4",
      "language": "julia",
      "name": "julia-1.6"
    },
    "language_info": {
      "file_extension": ".jl",
      "mimetype": "application/julia",
      "name": "julia",
      "version": "1.6.4"
    }
  },
  "nbformat": 4,
  "nbformat_minor": 0
}
