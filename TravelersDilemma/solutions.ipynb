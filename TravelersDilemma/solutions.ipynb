{
 "cells": [
  {
   "cell_type": "markdown",
   "id": "f172b7e6",
   "metadata": {},
   "source": [
    "# Traveler's Dilemma\n",
    "Simple Game"
   ]
  },
  {
   "cell_type": "code",
   "execution_count": null,
   "id": "fad34be6",
   "metadata": {},
   "outputs": [],
   "source": []
  },
  {
   "cell_type": "code",
   "execution_count": null,
   "id": "347bcbfc",
   "metadata": {},
   "outputs": [],
   "source": []
  }
 ],
 "metadata": {
  "kernelspec": {
   "display_name": "Julia 1.7.1",
   "language": "julia",
   "name": "julia-1.7"
  },
  "language_info": {
   "file_extension": ".jl",
   "mimetype": "application/julia",
   "name": "julia",
   "version": "1.7.1"
  }
 },
 "nbformat": 4,
 "nbformat_minor": 5
}
