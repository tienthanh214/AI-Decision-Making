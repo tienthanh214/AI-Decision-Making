{
 "cells": [
  {
   "cell_type": "markdown",
   "metadata": {},
   "source": [
    "## Hex World\n",
    "Markov Decision Process"
   ]
  },
  {
   "cell_type": "code",
   "execution_count": 9,
   "metadata": {},
   "outputs": [],
   "source": [
    "struct MDP\n",
    "    γ # discount factor\n",
    "    𝒮 # state space\n",
    "    𝒜 # action\n",
    "    T # transition function\n",
    "    R # reward function\n",
    "end\n",
    "\n",
    "struct State\n",
    "    x::Int32\n",
    "    y::Int32\n",
    "end\n",
    "\n",
    "struct Action\n",
    "    x::Int32\n",
    "    y::Int32\n",
    "end\n",
    "\n",
    "Base.:+(s1::State, s2::Action) = State(s1.x + s2.x, s1.y + s2.y)"
   ]
  },
  {
   "cell_type": "code",
   "execution_count": 10,
   "metadata": {},
   "outputs": [
    {
     "data": {
      "text/plain": [
       "Dict{Action, String} with 6 entries:\n",
       "  Action(1, -1) => \"↘\"\n",
       "  Action(0, 1)  => \"↗\"\n",
       "  Action(-1, 0) => \"←\"\n",
       "  Action(1, 0)  => \"→\"\n",
       "  Action(-1, 1) => \"↖\"\n",
       "  Action(0, -1) => \"↙\""
      ]
     },
     "metadata": {},
     "output_type": "display_data"
    }
   ],
   "source": [
    "# 6 direction can take in one action \n",
    "const ACTIONS = [\"→\", \"↗\", \"↖\", \"←\", \"↙\", \"↘\"]\n",
    "const MOVEMENTS = [Action(1, 0), Action(0, 1), Action(-1, 1), Action(-1, 0), Action(0, -1), Action(1, -1)] \n",
    "# terminal state \n",
    "const terminal_state = State(typemin(Int32), typemin(Int32))\n",
    "\n",
    "const MOVE_TO_ARROW = Dict([MOVEMENTS[i] => ACTIONS[i] for i = 1 : length(MOVEMENTS)]) "
   ]
  },
  {
   "cell_type": "code",
   "execution_count": 15,
   "metadata": {},
   "outputs": [],
   "source": [
    "struct HexWorldMDP\n",
    "    mdp::MDP \n",
    "    # constructor\n",
    "    function HexWorldMDP(\n",
    "        γ::Real,                        # discount factor\n",
    "        p_transision::Real,             # probablity of transitioning  to the correct next state\n",
    "        reward_bump_border::Real,       # reward if go outside the hex world\n",
    "        hexes::Vector{State},           # all state in hex world\n",
    "        rewards::Dict{State, Real},     # reward in absorbing hex\n",
    "        )\n",
    "\n",
    "        T, R = constructTR(p_transision, reward_bump_border, hexes, rewards) \n",
    "        \n",
    "        mdp = MDP(γ, hexes, MOVEMENTS, T, R)\n",
    "\n",
    "        return new(mdp)\n",
    "    end\n",
    "\n",
    "    ### construct Transition and Reward table for all state\n",
    "    function constructTR(\n",
    "        p_transition::Real, \n",
    "        reward_bump_border::Real, \n",
    "        hexes::Vector{State}, \n",
    "        rewards::Dict{State, Real})\n",
    "        \n",
    "        nS = length(hexes) + 1  # plus one terminal state\n",
    "        nA = length(MOVEMENTS)  # 6 action\n",
    "\n",
    "        p_veer = (1 - p_transition) / 2     # unintented probablity\n",
    "\n",
    "        R = Dict{Tuple{State, Action}, Real}()\n",
    "        T = Dict{Tuple{State, Action, State}, Real}()\n",
    "        for s in hexes\n",
    "            if s in keys(rewards)    # Action taken from an absorbing hex \n",
    "                for α in MOVEMENTS\n",
    "                    s′ = s + α\n",
    "                    T[(s, α, s′)] = 0.0\n",
    "                    T[(s, α, terminal_state)] = 1.0     # transports to terminal state\n",
    "                    updateR(R, (s, α), rewards[s])            # get the reward\n",
    "                end\n",
    "            else \n",
    "                for (idx, α) in enumerate(MOVEMENTS)\n",
    "                    # correct transition\n",
    "                    s′ = s + α\n",
    "                    updateR(R, (s, α), 0.0)\n",
    "                    updateT(T, (s, α, s′), 0.0)\n",
    "                    updateT(T, (s, α, s), 0.0)\n",
    "\n",
    "                    if !(s′ in hexes)   # out of the map\n",
    "                        s′ = s\n",
    "                        updateR(R, (s, α), reward_bump_border * p_transition)\n",
    "                    end\n",
    "                    updateT(T, (s, α, s′), p_transition)\n",
    "\n",
    "                    # unintented verr left\n",
    "                    s′ = s + MOVEMENTS[mod1(idx + 1, nA)]\n",
    "                    if !(s′ in hexes)   # out of the map\n",
    "                        s′ = s\n",
    "                        updateR(R, (s, α), reward_bump_border * p_veer)\n",
    "                    end\n",
    "                    updateT(T, (s, α, s′), p_veer)\n",
    "\n",
    "                    # unintented verr right\n",
    "                    s′ = s + MOVEMENTS[mod1(idx - 1, nA)]\n",
    "                    if !(s′ in hexes)   # out of the map\n",
    "                        s′ = s\n",
    "                        updateR(R, (s, α), reward_bump_border * p_veer)\n",
    "                    end\n",
    "                    updateT(T, (s, α, s′), p_veer)\n",
    "                end\n",
    "            end\n",
    "        end\n",
    "        # absorbing state stays\n",
    "        for α in MOVEMENTS\n",
    "            T[terminal_state, α, terminal_state] = 1.0\n",
    "        end\n",
    "        \n",
    "        return T, R\n",
    "    end\n",
    "\n",
    "    function updateR(R::Dict{Tuple{State, Action}, Real}, key::Tuple{State, Action}, value::Real)\n",
    "        if (!haskey(R, key))\n",
    "            R[key] = 0.0\n",
    "        end\n",
    "        R[key] += value\n",
    "    end\n",
    "\n",
    "    function updateT(T, key::Tuple{State, Action, State}, value::Real)\n",
    "        if (!haskey(T, key))\n",
    "            T[key] = 0.0\n",
    "        end\n",
    "        T[key] += value\n",
    "    end\n",
    "end"
   ]
  },
  {
   "cell_type": "code",
   "execution_count": 16,
   "metadata": {},
   "outputs": [
    {
     "data": {
      "text/plain": [
       "n_states (generic function with 1 method)"
      ]
     },
     "metadata": {},
     "output_type": "display_data"
    }
   ],
   "source": [
    "# function for hex world mdp\n",
    "inbounds(hexMDP::HexWorldMDP, s::State) = s in hexMDP.mdp.𝒮\n",
    "\n",
    "function T(mdp::MDP, s::State, α::Action, s′::State)\n",
    "    if !haskey(mdp.T, (s, α, s′))\n",
    "        return 0.0\n",
    "    end\n",
    "    return mdp.T[(s, α, s′)]\n",
    "end\n",
    "\n",
    "function R(mdp::MDP, s::State, α::Action)\n",
    "    if !haskey(mdp.R, (s, α))\n",
    "        return 0.0\n",
    "    end\n",
    "    return mdp.R[(s, α)]\n",
    "end\n",
    "\n",
    "is_terminal(s::State) = s == terminal_state \n",
    "n_states(mdp::HexWorldMDP) = length(mdp.mdp.𝒮) + 1  # plus one terminal state"
   ]
  },
  {
   "cell_type": "markdown",
   "metadata": {},
   "source": [
    "## Markov Decision Process - Value Iteration"
   ]
  },
  {
   "cell_type": "code",
   "execution_count": 17,
   "metadata": {},
   "outputs": [
    {
     "data": {
      "text/plain": [
       "lookahead (generic function with 1 method)"
      ]
     },
     "metadata": {},
     "output_type": "display_data"
    }
   ],
   "source": [
    "function lookahead(𝒫::MDP, U, s::State, α::Action)\n",
    "    𝒮, γ = 𝒫.𝒮, 𝒫.γ\n",
    "    return R(𝒫, s, α) + γ * sum(T(𝒫, s, α, s′) * U[i] for (i, s′) in enumerate(𝒮))\n",
    "end "
   ]
  },
  {
   "cell_type": "code",
   "execution_count": 18,
   "metadata": {},
   "outputs": [
    {
     "data": {
      "text/plain": [
       "backup (generic function with 1 method)"
      ]
     },
     "metadata": {},
     "output_type": "display_data"
    }
   ],
   "source": [
    "# backup procedure improve value function U at state s\n",
    "function backup(𝒫::MDP, U, s::State)\n",
    "    u, idx = findmax([lookahead(𝒫, U, s, α) for α in 𝒫.𝒜])\n",
    "    return (u = u, α = 𝒫.𝒜[idx])\n",
    "end"
   ]
  },
  {
   "cell_type": "code",
   "execution_count": null,
   "metadata": {},
   "outputs": [],
   "source": [
    "function iterative_policy_evaluation(𝒫::HexWorldMDP, π, k_max)\n",
    "    𝒮, γ = 𝒫.mdp.𝒮, 𝒫.mdp.γ\n",
    "    U = [0.0 for s in 𝒮]\n",
    "    for k in 1:k_max\n",
    "        U = [lookahead(𝒫.mdp, U, s, π) for s in 𝒮]\n",
    "    end\n",
    "    return U\n",
    "end"
   ]
  },
  {
   "cell_type": "code",
   "execution_count": 19,
   "metadata": {},
   "outputs": [
    {
     "data": {
      "text/plain": [
       "solve (generic function with 1 method)"
      ]
     },
     "metadata": {},
     "output_type": "display_data"
    }
   ],
   "source": [
    "# solve Hex world MDP, repeat until ||U - U′|| < δ\n",
    "δ = 1e-16   # threshold\n",
    "\n",
    "function solve(k_max::Int, 𝒫::HexWorldMDP)\n",
    "    𝒮, γ = 𝒫.mdp.𝒮, 𝒫.mdp.γ\n",
    "    U = zeros(length(𝒮))\n",
    "    π = Dict{State, Action}()\n",
    "    iter = 0\n",
    "    while true\n",
    "        iter += 1\n",
    "        U′ = zeros(length(𝒮))\n",
    "        for (i, s) in enumerate(𝒮)\n",
    "            U′[i], π[s] = backup(𝒫.mdp, U, s)\n",
    "        end\n",
    "        if (sqrt(sum((U - U′) .^ 2)) < δ)\n",
    "            break\n",
    "        end\n",
    "        U = U′\n",
    "    end\n",
    "    # println(\"Total iter = \", iter)\n",
    "    return U, π\n",
    "end"
   ]
  },
  {
   "cell_type": "markdown",
   "metadata": {},
   "source": [
    "Cấu hình cho Hex World cần giải"
   ]
  },
  {
   "cell_type": "code",
   "execution_count": null,
   "metadata": {},
   "outputs": [],
   "source": [
    "discount = 0.5\n",
    "reward_bump_border = -1.0\n",
    "p_trans = 0.7\n",
    "hexes = [   State(0, 0), State(1, 0), State(2, 0), State(3, 0), State(0, 1), State(1, 1), State(2, 1), State(-1, 2), \n",
    "            State(0, 2), State(1, 2), State(2, 2), State(3, 2), State(4, 2), State(5, 2), State(6, 2), State(7, 2), \n",
    "            State(8, 2), State(4, 1), State(5, 0), State(6, 0), State(7, 0), State(7, 1), State(8, 1), State(9, 0) ]\n",
    "rewards = Dict{State, Real}(\n",
    "    State(0, 1) => -5.0, \n",
    "    State(2, 0) => 5.0, \n",
    "    State(9, 0) => 6.0,\n",
    "    State(2, 4) => -1.0)\n",
    "\n",
    "mdp = HexWorldMDP(discount, p_trans, reward_bump_border, hexes, rewards);"
   ]
  },
  {
   "cell_type": "code",
   "execution_count": 20,
   "metadata": {},
   "outputs": [],
   "source": [
    "discount = 0.9\n",
    "reward_bump_border = -1.0\n",
    "p_trans = 0.7\n",
    "hexes = [   State(0, 0), State(1, 0), State(2, 0), State(3, 0), State(0, 1), State(1, 1), State(2, 1), State(-1, 2), \n",
    "            State(0, 2), State(1, 2), State(2, 2), State(3, 2), State(4, 2), State(5, 2), State(6, 2), State(7, 2), \n",
    "            State(8, 2), State(4, 1), State(5, 0), State(6, 0), State(7, 0), State(7, 1), State(8, 1), State(9, 0) ]\n",
    "rewards = Dict{State, Real}(\n",
    "    State(0, 1) => 5.0, \n",
    "    State(2, 0) => -10.0, \n",
    "    State(9, 0) => 10.0)\n",
    "\n",
    "mdp = HexWorldMDP(discount, p_trans, reward_bump_border, hexes, rewards);\n"
   ]
  },
  {
   "cell_type": "code",
   "execution_count": 18,
   "metadata": {},
   "outputs": [
    {
     "name": "stdout",
     "output_type": "stream",
     "text": [
      "  0.881562 seconds (1.53 M allocations: 65.177 MiB, 1.08% gc time, 95.38% compilation time)\n"
     ]
    }
   ],
   "source": [
    "\n",
    "function print_result(hexMDP::HexWorldMDP)\n",
    "    U, π = solve(0, mdp)\n",
    "    S = sort(hexMDP.mdp.𝒮, by = a -> (-a.y, a.x))\n",
    "    for i = 1 : length(S)\n",
    "        print(U[findfirst(h -> h == S[i], hexMDP.mdp.𝒮)], ' ')\n",
    "        # print(MOVE_TO_ARROW[π[S[i]]])\n",
    "        if (i < length(S) && S[i].y != S[i + 1].y)\n",
    "            println()\n",
    "            println(\"---------------------\")\n",
    "        else\n",
    "            if (i < length(S))\n",
    "                print(' ' ^ (S[i + 1].x - S[i].x))\n",
    "            end\n",
    "        end\n",
    "    end\n",
    "\n",
    "    println()\n",
    "    for s in hexMDP.mdp.𝒮\n",
    "        print(findfirst(h -> h == π[s], hexMDP.mdp.𝒜), ' ')\n",
    "    end\n",
    "end\n",
    "\n",
    "@time solve(0, mdp);"
   ]
  },
  {
   "cell_type": "code",
   "execution_count": 21,
   "metadata": {},
   "outputs": [],
   "source": [
    "U, π = solve(0, mdp);"
   ]
  },
  {
   "cell_type": "markdown",
   "metadata": {},
   "source": [
    "## SIMULATOR"
   ]
  },
  {
   "cell_type": "markdown",
   "metadata": {},
   "source": [
    "Các hàm hỗ trợ giả lập ngẫu nhiên"
   ]
  },
  {
   "cell_type": "code",
   "execution_count": 11,
   "metadata": {},
   "outputs": [
    {
     "data": {
      "text/plain": [
       "simulation (generic function with 2 methods)"
      ]
     },
     "metadata": {},
     "output_type": "display_data"
    }
   ],
   "source": [
    "\n",
    "sample(items, weight) = items[findfirst(cumsum(weight) .> rand())]\n",
    "\n",
    "generate_start_state(mdp::HexWorldMDP) = mdp.mdp.𝒮[rand(1:(n_states(mdp) - 1))]\n",
    "\n",
    "function generate_next_state(hexMDP::HexWorldMDP, s::State, α::Action)\n",
    "    𝒜 = hexMDP.mdp.𝒜\n",
    "    probability = []\n",
    "    S′ = []\n",
    "    # generate all posible movement after taken action α from s\n",
    "    for α′ in [𝒜; Action(0, 0)]\n",
    "        s′ = s + α′\n",
    "        if (T(hexMDP.mdp, s, α, s′) > 0.0)\n",
    "            push!(probability, T(hexMDP.mdp, s, α, s′))\n",
    "            push!(S′, s′)\n",
    "        end\n",
    "    end \n",
    "    # check if go to terminal state after receive reward\n",
    "    if T(hexMDP.mdp, s, α, terminal_state) > 0.0\n",
    "        push!(probability, T(hexMDP.mdp, s, α, terminal_state))\n",
    "        push!(S′, terminal_state)\n",
    "    end    \n",
    "    # random select in prob action\n",
    "    s′ = sample(S′, probability)\n",
    "    α′ = Action(s′.x - s.x, s′.y - s.y)\n",
    "    if s′ == s # stay\n",
    "        idx = findfirst(h -> h == α, 𝒜)\n",
    "        for i in [mod1(idx - 1, 6), idx, mod1(idx + 1, 6)]\n",
    "            if !inbounds(hexMDP, s + 𝒜[i])\n",
    "                α′ = 𝒜[i]\n",
    "                break\n",
    "            end\n",
    "        end\n",
    "    elseif s′ == terminal_state\n",
    "        α′ = 𝒜[1]\n",
    "    end\n",
    "    return s′, α′\n",
    "end\n",
    "\n",
    "function simulation(hexMDP::HexWorldMDP, π, start_state::State, show_step = false)\n",
    "    S, R, T, γ = hexMDP.mdp.𝒮, hexMDP.mdp.R, hexMDP.mdp.T, hexMDP.mdp.γ\n",
    "    if !(start_state in S)\n",
    "        return 0.0\n",
    "    end\n",
    "    s = start_state\n",
    "    total_reward = 0.0\n",
    "    step = 0\n",
    "    while true\n",
    "        \n",
    "        if haskey(rewards, s)\n",
    "            total_reward += (γ ^ step) * rewards[s] \n",
    "        end\n",
    "        s′, α′ = generate_next_state(hexMDP, s, π[s])\n",
    "        \n",
    "        # if stay -> bump the border\n",
    "        if s′ == s\n",
    "            total_reward += (γ ^ step) * reward_bump_border\n",
    "        end\n",
    "\n",
    "        if (show_step)  # print out step and direction arrow\n",
    "            print('(', s.x, \", \", s.y, ')')\n",
    "            println(' ', MOVE_TO_ARROW[π[s]], ' ', MOVE_TO_ARROW[α′], ' ', total_reward)\n",
    "        end\n",
    "\n",
    "        # if next state is terminal then terminate game\n",
    "        if is_terminal(s′)\n",
    "            break\n",
    "        end\n",
    "\n",
    "        step += 1\n",
    "        s = s′\n",
    "    end\n",
    "    return total_reward\n",
    "end\n"
   ]
  },
  {
   "cell_type": "code",
   "execution_count": 42,
   "metadata": {},
   "outputs": [
    {
     "name": "stdout",
     "output_type": "stream",
     "text": [
      "(6, 2) → → 0.0\n",
      "(7, 2) ↘ ↙ 0.0\n",
      "(7, 1) → ↗ 0.0\n",
      "(7, 2) ↘ → 0.0\n",
      "(8, 2) ↙ ↙ 0.0\n",
      "(8, 1) ↘ ↘ 0.0\n",
      "(9, 0) → → 5.3144100000000005\n",
      "  0.069397 seconds (50.00 k allocations: 2.911 MiB, 91.64% compilation time)\n"
     ]
    }
   ],
   "source": [
    "U, π = solve(0, mdp);\n",
    "@time simulation(mdp, π, State(6, 2), true);"
   ]
  },
  {
   "cell_type": "markdown",
   "metadata": {},
   "source": [
    "### Monte Carlo Simulation\n",
    "Thực nghiệm trên cùng một bản đồ và trạng thái xuất phát trong Hex World, lấy trung bình cộng của các lần thử nghiệm"
   ]
  },
  {
   "cell_type": "code",
   "execution_count": 38,
   "metadata": {},
   "outputs": [
    {
     "data": {
      "text/plain": [
       "MonteCarloSimulation (generic function with 1 method)"
      ]
     },
     "metadata": {},
     "output_type": "display_data"
    }
   ],
   "source": [
    "function MonteCarloSimulation(hexMDP::HexWorldMDP, num_iter::Int)\n",
    "    𝒮 = hexMDP.mdp.𝒮\n",
    "    start_state = generate_start_state(hexMDP)\n",
    "    # start_state = State(5, 2)\n",
    "    total = 0.0\n",
    "    for iter = 1 : num_iter\n",
    "        total += simulation(mdp, π, start_state)\n",
    "    end\n",
    "    println(\"Start state: \", start_state)\n",
    "    println(\"Mean = \", total / num_iter)\n",
    "    println(\"Expected utility = \", U[findfirst(h -> h == start_state, 𝒮)])\n",
    "end"
   ]
  },
  {
   "cell_type": "code",
   "execution_count": 41,
   "metadata": {},
   "outputs": [
    {
     "name": "stdout",
     "output_type": "stream",
     "text": [
      "Start state: State(5, 0)\n",
      "Mean = 3.368490340612918\n",
      "Expected utility = 3.3712431652980976\n",
      "  3.583794 seconds (50.24 M allocations: 1.585 GiB, 5.07% gc time)\n"
     ]
    }
   ],
   "source": [
    "@time MonteCarloSimulation(mdp, 100000)"
   ]
  },
  {
   "cell_type": "markdown",
   "metadata": {},
   "source": [
    "## Visualization"
   ]
  },
  {
   "cell_type": "code",
   "execution_count": 1,
   "metadata": {},
   "outputs": [],
   "source": [
    "using Plots"
   ]
  },
  {
   "cell_type": "code",
   "execution_count": 74,
   "metadata": {},
   "outputs": [
    {
     "data": {
      "image/png": "[encoded data removed]",
      "image/svg+xml": "<?xml version=\"1.0\" encoding=\"utf-8\"?>\n<svg xmlns=\"http://www.w3.org/2000/svg\" xmlns:xlink=\"http://www.w3.org/1999/xlink\" width=\"600\" height=\"400\" viewBox=\"0 0 2400 1600\">\n<defs>\n  <clipPath id=\"clip290\">\n    <rect x=\"0\" y=\"0\" width=\"2400\" height=\"1600\"/>\n  </clipPath>\n</defs>\n<path clip-path=\"url(#clip290)\" d=\"\nM0 1600 L2400 1600 L2400 0 L0 0  Z\n  \" fill=\"#ffffff\" fill-rule=\"evenodd\" fill-opacity=\"1\"/>\n<defs>\n  <clipPath id=\"clip291\">\n    <rect x=\"480\" y=\"0\" width=\"1681\" height=\"1600\"/>\n  </clipPath>\n</defs>\n<path clip-path=\"url(#clip290)\" d=\"\nM147.478 1486.45 L2352.76 1486.45 L2352.76 47.2441 L147.478 47.2441  Z\n  \" fill=\"#ffffff\" fill-rule=\"evenodd\" fill-opacity=\"1\"/>\n<defs>\n  <clipPath id=\"clip292\">\n    <rect x=\"147\" y=\"47\" width=\"2206\" height=\"1440\"/>\n  </clipPath>\n</defs>\n<polyline clip-path=\"url(#clip292)\" style=\"stroke:#000000; stroke-linecap:butt; stroke-linejoin:round; stroke-width:2; stroke-opacity:0.1; fill:none\" points=\"\n  507.099,1486.45 507.099,47.2441 \n  \"/>\n<polyline clip-path=\"url(#clip292)\" style=\"stroke:#000000; stroke-linecap:butt; stroke-linejoin:round; stroke-width:2; stroke-opacity:0.1; fill:none\" points=\"\n  1101.51,1486.45 1101.51,47.2441 \n  \"/>\n<polyline clip-path=\"url(#clip292)\" style=\"stroke:#000000; stroke-linecap:butt; stroke-linejoin:round; stroke-width:2; stroke-opacity:0.1; fill:none\" points=\"\n  1695.93,1486.45 1695.93,47.2441 \n  \"/>\n<polyline clip-path=\"url(#clip292)\" style=\"stroke:#000000; stroke-linecap:butt; stroke-linejoin:round; stroke-width:2; stroke-opacity:0.1; fill:none\" points=\"\n  2290.34,1486.45 2290.34,47.2441 \n  \"/>\n<polyline clip-path=\"url(#clip290)\" style=\"stroke:#000000; stroke-linecap:butt; stroke-linejoin:round; stroke-width:4; stroke-opacity:1; fill:none\" points=\"\n  147.478,1486.45 2352.76,1486.45 \n  \"/>\n<polyline clip-path=\"url(#clip290)\" style=\"stroke:#000000; stroke-linecap:butt; stroke-linejoin:round; stroke-width:4; stroke-opacity:1; fill:none\" points=\"\n  507.099,1486.45 507.099,1467.55 \n  \"/>\n<polyline clip-path=\"url(#clip290)\" style=\"stroke:#000000; stroke-linecap:butt; stroke-linejoin:round; stroke-width:4; stroke-opacity:1; fill:none\" points=\"\n  1101.51,1486.45 1101.51,1467.55 \n  \"/>\n<polyline clip-path=\"url(#clip290)\" style=\"stroke:#000000; stroke-linecap:butt; stroke-linejoin:round; stroke-width:4; stroke-opacity:1; fill:none\" points=\"\n  1695.93,1486.45 1695.93,1467.55 \n  \"/>\n<polyline clip-path=\"url(#clip290)\" style=\"stroke:#000000; stroke-linecap:butt; stroke-linejoin:round; stroke-width:4; stroke-opacity:1; fill:none\" points=\"\n  2290.34,1486.45 2290.34,1467.55 \n  \"/>\n<path clip-path=\"url(#clip290)\" d=\"M507.099 1517.37 Q503.488 1517.37 501.659 1520.93 Q499.853 1524.47 499.853 1531.6 Q499.853 1538.71 501.659 1542.27 Q503.488 1545.82 507.099 1545.82 Q510.733 1545.82 512.539 1542.27 Q514.367 1538.71 514.367 1531.6 Q514.367 1524.47 512.539 1520.93 Q510.733 1517.37 507.099 1517.37 M507.099 1513.66 Q512.909 1513.66 515.964 1518.27 Q519.043 1522.85 519.043 1531.6 Q519.043 1540.33 515.964 1544.94 Q512.909 1549.52 507.099 1549.52 Q501.289 1549.52 498.21 1544.94 Q495.154 1540.33 495.154 1531.6 Q495.154 1522.85 498.21 1518.27 Q501.289 1513.66 507.099 1513.66 Z\" fill=\"#000000\" fill-rule=\"evenodd\" fill-opacity=\"1\" /><path clip-path=\"url(#clip290)\" d=\"M1096.17 1544.91 L1112.49 1544.91 L1112.49 1548.85 L1090.54 1548.85 L1090.54 1544.91 Q1093.2 1542.16 1097.79 1537.53 Q1102.39 1532.88 1103.57 1531.53 Q1105.82 1529.01 1106.7 1527.27 Q1107.6 1525.51 1107.6 1523.82 Q1107.6 1521.07 1105.66 1519.33 Q1103.74 1517.6 1100.63 1517.6 Q1098.43 1517.6 1095.98 1518.36 Q1093.55 1519.13 1090.77 1520.68 L1090.77 1515.95 Q1093.6 1514.82 1096.05 1514.24 Q1098.5 1513.66 1100.54 1513.66 Q1105.91 1513.66 1109.11 1516.35 Q1112.3 1519.03 1112.3 1523.52 Q1112.3 1525.65 1111.49 1527.57 Q1110.7 1529.47 1108.6 1532.07 Q1108.02 1532.74 1104.92 1535.95 Q1101.81 1539.15 1096.17 1544.91 Z\" fill=\"#000000\" fill-rule=\"evenodd\" fill-opacity=\"1\" /><path clip-path=\"url(#clip290)\" d=\"M1698.94 1518.36 L1687.13 1536.81 L1698.94 1536.81 L1698.94 1518.36 M1697.71 1514.29 L1703.59 1514.29 L1703.59 1536.81 L1708.52 1536.81 L1708.52 1540.7 L1703.59 1540.7 L1703.59 1548.85 L1698.94 1548.85 L1698.94 1540.7 L1683.34 1540.7 L1683.34 1536.19 L1697.71 1514.29 Z\" fill=\"#000000\" fill-rule=\"evenodd\" fill-opacity=\"1\" /><path clip-path=\"url(#clip290)\" d=\"M2290.75 1529.7 Q2287.6 1529.7 2285.75 1531.86 Q2283.92 1534.01 2283.92 1537.76 Q2283.92 1541.49 2285.75 1543.66 Q2287.6 1545.82 2290.75 1545.82 Q2293.9 1545.82 2295.72 1543.66 Q2297.58 1541.49 2297.58 1537.76 Q2297.58 1534.01 2295.72 1531.86 Q2293.9 1529.7 2290.75 1529.7 M2300.03 1515.05 L2300.03 1519.31 Q2298.27 1518.48 2296.47 1518.04 Q2294.68 1517.6 2292.92 1517.6 Q2288.29 1517.6 2285.84 1520.72 Q2283.41 1523.85 2283.06 1530.17 Q2284.43 1528.15 2286.49 1527.09 Q2288.55 1526 2291.03 1526 Q2296.23 1526 2299.24 1529.17 Q2302.28 1532.32 2302.28 1537.76 Q2302.28 1543.08 2299.13 1546.3 Q2295.98 1549.52 2290.75 1549.52 Q2284.75 1549.52 2281.58 1544.94 Q2278.41 1540.33 2278.41 1531.6 Q2278.41 1523.41 2282.3 1518.55 Q2286.19 1513.66 2292.74 1513.66 Q2294.5 1513.66 2296.28 1514.01 Q2298.09 1514.36 2300.03 1515.05 Z\" fill=\"#000000\" fill-rule=\"evenodd\" fill-opacity=\"1\" /><polyline clip-path=\"url(#clip292)\" style=\"stroke:#000000; stroke-linecap:butt; stroke-linejoin:round; stroke-width:2; stroke-opacity:0.1; fill:none\" points=\"\n  147.478,1445.72 2352.76,1445.72 \n  \"/>\n<polyline clip-path=\"url(#clip292)\" style=\"stroke:#000000; stroke-linecap:butt; stroke-linejoin:round; stroke-width:2; stroke-opacity:0.1; fill:none\" points=\"\n  147.478,1174.17 2352.76,1174.17 \n  \"/>\n<polyline clip-path=\"url(#clip292)\" style=\"stroke:#000000; stroke-linecap:butt; stroke-linejoin:round; stroke-width:2; stroke-opacity:0.1; fill:none\" points=\"\n  147.478,902.62 2352.76,902.62 \n  \"/>\n<polyline clip-path=\"url(#clip292)\" style=\"stroke:#000000; stroke-linecap:butt; stroke-linejoin:round; stroke-width:2; stroke-opacity:0.1; fill:none\" points=\"\n  147.478,631.072 2352.76,631.072 \n  \"/>\n<polyline clip-path=\"url(#clip292)\" style=\"stroke:#000000; stroke-linecap:butt; stroke-linejoin:round; stroke-width:2; stroke-opacity:0.1; fill:none\" points=\"\n  147.478,359.524 2352.76,359.524 \n  \"/>\n<polyline clip-path=\"url(#clip292)\" style=\"stroke:#000000; stroke-linecap:butt; stroke-linejoin:round; stroke-width:2; stroke-opacity:0.1; fill:none\" points=\"\n  147.478,87.9763 2352.76,87.9763 \n  \"/>\n<polyline clip-path=\"url(#clip290)\" style=\"stroke:#000000; stroke-linecap:butt; stroke-linejoin:round; stroke-width:4; stroke-opacity:1; fill:none\" points=\"\n  147.478,1486.45 147.478,47.2441 \n  \"/>\n<polyline clip-path=\"url(#clip290)\" style=\"stroke:#000000; stroke-linecap:butt; stroke-linejoin:round; stroke-width:4; stroke-opacity:1; fill:none\" points=\"\n  147.478,1445.72 166.376,1445.72 \n  \"/>\n<polyline clip-path=\"url(#clip290)\" style=\"stroke:#000000; stroke-linecap:butt; stroke-linejoin:round; stroke-width:4; stroke-opacity:1; fill:none\" points=\"\n  147.478,1174.17 166.376,1174.17 \n  \"/>\n<polyline clip-path=\"url(#clip290)\" style=\"stroke:#000000; stroke-linecap:butt; stroke-linejoin:round; stroke-width:4; stroke-opacity:1; fill:none\" points=\"\n  147.478,902.62 166.376,902.62 \n  \"/>\n<polyline clip-path=\"url(#clip290)\" style=\"stroke:#000000; stroke-linecap:butt; stroke-linejoin:round; stroke-width:4; stroke-opacity:1; fill:none\" points=\"\n  147.478,631.072 166.376,631.072 \n  \"/>\n<polyline clip-path=\"url(#clip290)\" style=\"stroke:#000000; stroke-linecap:butt; stroke-linejoin:round; stroke-width:4; stroke-opacity:1; fill:none\" points=\"\n  147.478,359.524 166.376,359.524 \n  \"/>\n<polyline clip-path=\"url(#clip290)\" style=\"stroke:#000000; stroke-linecap:butt; stroke-linejoin:round; stroke-width:4; stroke-opacity:1; fill:none\" points=\"\n  147.478,87.9763 166.376,87.9763 \n  \"/>\n<path clip-path=\"url(#clip290)\" d=\"M51.3625 1446.17 L81.0383 1446.17 L81.0383 1450.1 L51.3625 1450.1 L51.3625 1446.17 Z\" fill=\"#000000\" fill-rule=\"evenodd\" fill-opacity=\"1\" /><path clip-path=\"url(#clip290)\" d=\"M95.1586 1459.06 L111.478 1459.06 L111.478 1463 L89.5336 1463 L89.5336 1459.06 Q92.1956 1456.31 96.7789 1451.68 Q101.385 1447.02 102.566 1445.68 Q104.811 1443.16 105.691 1441.42 Q106.594 1439.66 106.594 1437.97 Q106.594 1435.22 104.649 1433.48 Q102.728 1431.75 99.6261 1431.75 Q97.4271 1431.75 94.9734 1432.51 Q92.5428 1433.27 89.7651 1434.82 L89.7651 1430.1 Q92.5891 1428.97 95.0428 1428.39 Q97.4965 1427.81 99.5335 1427.81 Q104.904 1427.81 108.098 1430.5 Q111.293 1433.18 111.293 1437.67 Q111.293 1439.8 110.483 1441.72 Q109.696 1443.62 107.589 1446.21 Q107.01 1446.88 103.909 1450.1 Q100.807 1453.3 95.1586 1459.06 Z\" fill=\"#000000\" fill-rule=\"evenodd\" fill-opacity=\"1\" /><path clip-path=\"url(#clip290)\" d=\"M50.9921 1174.62 L80.6679 1174.62 L80.6679 1178.55 L50.9921 1178.55 L50.9921 1174.62 Z\" fill=\"#000000\" fill-rule=\"evenodd\" fill-opacity=\"1\" /><path clip-path=\"url(#clip290)\" d=\"M91.5706 1187.51 L99.2095 1187.51 L99.2095 1161.15 L90.8993 1162.81 L90.8993 1158.55 L99.1632 1156.89 L103.839 1156.89 L103.839 1187.51 L111.478 1187.51 L111.478 1191.45 L91.5706 1191.45 L91.5706 1187.51 Z\" fill=\"#000000\" fill-rule=\"evenodd\" fill-opacity=\"1\" /><path clip-path=\"url(#clip290)\" d=\"M99.5335 888.419 Q95.9224 888.419 94.0937 891.983 Q92.2882 895.525 92.2882 902.655 Q92.2882 909.761 94.0937 913.326 Q95.9224 916.868 99.5335 916.868 Q103.168 916.868 104.973 913.326 Q106.802 909.761 106.802 902.655 Q106.802 895.525 104.973 891.983 Q103.168 888.419 99.5335 888.419 M99.5335 884.715 Q105.344 884.715 108.399 889.321 Q111.478 893.905 111.478 902.655 Q111.478 911.381 108.399 915.988 Q105.344 920.571 99.5335 920.571 Q93.7234 920.571 90.6447 915.988 Q87.5892 911.381 87.5892 902.655 Q87.5892 893.905 90.6447 889.321 Q93.7234 884.715 99.5335 884.715 Z\" fill=\"#000000\" fill-rule=\"evenodd\" fill-opacity=\"1\" /><path clip-path=\"url(#clip290)\" d=\"M91.5706 644.417 L99.2095 644.417 L99.2095 618.051 L90.8993 619.718 L90.8993 615.459 L99.1632 613.792 L103.839 613.792 L103.839 644.417 L111.478 644.417 L111.478 648.352 L91.5706 648.352 L91.5706 644.417 Z\" fill=\"#000000\" fill-rule=\"evenodd\" fill-opacity=\"1\" /><path clip-path=\"url(#clip290)\" d=\"M95.1586 372.869 L111.478 372.869 L111.478 376.804 L89.5336 376.804 L89.5336 372.869 Q92.1956 370.114 96.7789 365.485 Q101.385 360.832 102.566 359.489 Q104.811 356.966 105.691 355.23 Q106.594 353.471 106.594 351.781 Q106.594 349.027 104.649 347.29 Q102.728 345.554 99.6261 345.554 Q97.4271 345.554 94.9734 346.318 Q92.5428 347.082 89.7651 348.633 L89.7651 343.911 Q92.5891 342.777 95.0428 342.198 Q97.4965 341.619 99.5335 341.619 Q104.904 341.619 108.098 344.304 Q111.293 346.99 111.293 351.48 Q111.293 353.61 110.483 355.531 Q109.696 357.429 107.589 360.022 Q107.01 360.693 103.909 363.911 Q100.807 367.105 95.1586 372.869 Z\" fill=\"#000000\" fill-rule=\"evenodd\" fill-opacity=\"1\" /><path clip-path=\"url(#clip290)\" d=\"M104.348 86.6221 Q107.705 87.3397 109.58 89.6082 Q111.478 91.8767 111.478 95.21 Q111.478 100.326 107.959 103.127 Q104.441 105.928 97.9595 105.928 Q95.7836 105.928 93.4688 105.488 Q91.1771 105.071 88.7234 104.215 L88.7234 99.7008 Q90.6678 100.835 92.9826 101.414 Q95.2974 101.992 97.8206 101.992 Q102.219 101.992 104.51 100.256 Q106.825 98.5202 106.825 95.21 Q106.825 92.1545 104.672 90.4415 Q102.543 88.7054 98.7234 88.7054 L94.6956 88.7054 L94.6956 84.8629 L98.9085 84.8629 Q102.358 84.8629 104.186 83.4971 Q106.015 82.1083 106.015 79.5157 Q106.015 76.8537 104.117 75.4416 Q102.242 74.0064 98.7234 74.0064 Q96.8021 74.0064 94.603 74.4231 Q92.4039 74.8398 89.7651 75.7194 L89.7651 71.5528 Q92.4271 70.812 94.7419 70.4416 Q97.0798 70.0713 99.14 70.0713 Q104.464 70.0713 107.566 72.5018 Q110.668 74.9092 110.668 79.0296 Q110.668 81.8999 109.024 83.8907 Q107.381 85.8582 104.348 86.6221 Z\" fill=\"#000000\" fill-rule=\"evenodd\" fill-opacity=\"1\" /><path clip-path=\"url(#clip292)\" d=\"M507.099 1002.62 L420.499 952.62 L420.499 852.62 L507.099 802.62 L593.699 852.62 L593.699 952.62 Z\" fill=\"#009af9\" fill-rule=\"evenodd\" fill-opacity=\"1\" stroke=\"#000000\" stroke-opacity=\"1\" stroke-width=\"3.2\"/>\n<path clip-path=\"url(#clip292)\" d=\"M691.367 1002.62 L604.767 952.62 L604.767 852.62 L691.367 802.62 L777.967 852.62 L777.967 952.62 Z\" fill=\"#009af9\" fill-rule=\"evenodd\" fill-opacity=\"1\" stroke=\"#000000\" stroke-opacity=\"1\" stroke-width=\"3.2\"/>\n<path clip-path=\"url(#clip292)\" d=\"M875.636 1002.62 L789.036 952.62 L789.036 852.62 L875.636 802.62 L962.236 852.62 L962.236 952.62 Z\" fill=\"#009af9\" fill-rule=\"evenodd\" fill-opacity=\"1\" stroke=\"#000000\" stroke-opacity=\"1\" stroke-width=\"3.2\"/>\n<path clip-path=\"url(#clip292)\" d=\"M1059.9 1002.62 L973.304 952.62 L973.304 852.62 L1059.9 802.62 L1146.5 852.62 L1146.5 952.62 Z\" fill=\"#009af9\" fill-rule=\"evenodd\" fill-opacity=\"1\" stroke=\"#000000\" stroke-opacity=\"1\" stroke-width=\"3.2\"/>\n<path clip-path=\"url(#clip292)\" d=\"M596.261 839.691 L509.661 789.691 L509.661 689.691 L596.261 639.691 L682.861 689.691 L682.861 789.691 Z\" fill=\"#009af9\" fill-rule=\"evenodd\" fill-opacity=\"1\" stroke=\"#000000\" stroke-opacity=\"1\" stroke-width=\"3.2\"/>\n<path clip-path=\"url(#clip292)\" d=\"M780.529 839.691 L693.929 789.691 L693.929 689.691 L780.529 639.691 L867.129 689.691 L867.129 789.691 Z\" fill=\"#009af9\" fill-rule=\"evenodd\" fill-opacity=\"1\" stroke=\"#000000\" stroke-opacity=\"1\" stroke-width=\"3.2\"/>\n<path clip-path=\"url(#clip292)\" d=\"M964.798 839.691 L878.198 789.691 L878.198 689.691 L964.798 639.691 L1051.4 689.691 L1051.4 789.691 Z\" fill=\"#009af9\" fill-rule=\"evenodd\" fill-opacity=\"1\" stroke=\"#000000\" stroke-opacity=\"1\" stroke-width=\"3.2\"/>\n<path clip-path=\"url(#clip292)\" d=\"M501.155 676.762 L414.555 626.762 L414.555 526.762 L501.155 476.762 L587.755 526.762 L587.755 626.762 Z\" fill=\"#009af9\" fill-rule=\"evenodd\" fill-opacity=\"1\" stroke=\"#000000\" stroke-opacity=\"1\" stroke-width=\"3.2\"/>\n<path clip-path=\"url(#clip292)\" d=\"M685.423 676.762 L598.823 626.762 L598.823 526.762 L685.423 476.762 L772.023 526.762 L772.023 626.762 Z\" fill=\"#009af9\" fill-rule=\"evenodd\" fill-opacity=\"1\" stroke=\"#000000\" stroke-opacity=\"1\" stroke-width=\"3.2\"/>\n<path clip-path=\"url(#clip292)\" d=\"M869.692 676.762 L783.092 626.762 L783.092 526.762 L869.692 476.762 L956.292 526.762 L956.292 626.762 Z\" fill=\"#009af9\" fill-rule=\"evenodd\" fill-opacity=\"1\" stroke=\"#000000\" stroke-opacity=\"1\" stroke-width=\"3.2\"/>\n<path clip-path=\"url(#clip292)\" d=\"M1053.96 676.762 L967.36 626.762 L967.36 526.762 L1053.96 476.762 L1140.56 526.762 L1140.56 626.762 Z\" fill=\"#009af9\" fill-rule=\"evenodd\" fill-opacity=\"1\" stroke=\"#000000\" stroke-opacity=\"1\" stroke-width=\"3.2\"/>\n<path clip-path=\"url(#clip292)\" d=\"M1238.23 676.762 L1151.63 626.762 L1151.63 526.762 L1238.23 476.762 L1324.83 526.762 L1324.83 626.762 Z\" fill=\"#009af9\" fill-rule=\"evenodd\" fill-opacity=\"1\" stroke=\"#000000\" stroke-opacity=\"1\" stroke-width=\"3.2\"/>\n<path clip-path=\"url(#clip292)\" d=\"M1422.5 676.762 L1335.9 626.762 L1335.9 526.762 L1422.5 476.762 L1509.1 526.762 L1509.1 626.762 Z\" fill=\"#009af9\" fill-rule=\"evenodd\" fill-opacity=\"1\" stroke=\"#000000\" stroke-opacity=\"1\" stroke-width=\"3.2\"/>\n<path clip-path=\"url(#clip292)\" d=\"M1606.77 676.762 L1520.17 626.762 L1520.17 526.762 L1606.77 476.762 L1693.37 526.762 L1693.37 626.762 Z\" fill=\"#009af9\" fill-rule=\"evenodd\" fill-opacity=\"1\" stroke=\"#000000\" stroke-opacity=\"1\" stroke-width=\"3.2\"/>\n<path clip-path=\"url(#clip292)\" d=\"M1791.03 676.762 L1704.43 626.762 L1704.43 526.762 L1791.03 476.762 L1877.63 526.762 L1877.63 626.762 Z\" fill=\"#009af9\" fill-rule=\"evenodd\" fill-opacity=\"1\" stroke=\"#000000\" stroke-opacity=\"1\" stroke-width=\"3.2\"/>\n<path clip-path=\"url(#clip292)\" d=\"M1975.3 676.762 L1888.7 626.762 L1888.7 526.762 L1975.3 476.762 L2061.9 526.762 L2061.9 626.762 Z\" fill=\"#009af9\" fill-rule=\"evenodd\" fill-opacity=\"1\" stroke=\"#000000\" stroke-opacity=\"1\" stroke-width=\"3.2\"/>\n<path clip-path=\"url(#clip292)\" d=\"M2159.57 676.762 L2072.97 626.762 L2072.97 526.762 L2159.57 476.762 L2246.17 526.762 L2246.17 626.762 Z\" fill=\"#009af9\" fill-rule=\"evenodd\" fill-opacity=\"1\" stroke=\"#000000\" stroke-opacity=\"1\" stroke-width=\"3.2\"/>\n<path clip-path=\"url(#clip292)\" d=\"M1333.33 839.691 L1246.73 789.691 L1246.73 689.691 L1333.33 639.691 L1419.93 689.691 L1419.93 789.691 Z\" fill=\"#009af9\" fill-rule=\"evenodd\" fill-opacity=\"1\" stroke=\"#000000\" stroke-opacity=\"1\" stroke-width=\"3.2\"/>\n<path clip-path=\"url(#clip292)\" d=\"M1428.44 1002.62 L1341.84 952.62 L1341.84 852.62 L1428.44 802.62 L1515.04 852.62 L1515.04 952.62 Z\" fill=\"#009af9\" fill-rule=\"evenodd\" fill-opacity=\"1\" stroke=\"#000000\" stroke-opacity=\"1\" stroke-width=\"3.2\"/>\n<path clip-path=\"url(#clip292)\" d=\"M1612.71 1002.62 L1526.11 952.62 L1526.11 852.62 L1612.71 802.62 L1699.31 852.62 L1699.31 952.62 Z\" fill=\"#009af9\" fill-rule=\"evenodd\" fill-opacity=\"1\" stroke=\"#000000\" stroke-opacity=\"1\" stroke-width=\"3.2\"/>\n<path clip-path=\"url(#clip292)\" d=\"M1796.98 1002.62 L1710.38 952.62 L1710.38 852.62 L1796.98 802.62 L1883.58 852.62 L1883.58 952.62 Z\" fill=\"#009af9\" fill-rule=\"evenodd\" fill-opacity=\"1\" stroke=\"#000000\" stroke-opacity=\"1\" stroke-width=\"3.2\"/>\n<path clip-path=\"url(#clip292)\" d=\"M1886.14 839.691 L1799.54 789.691 L1799.54 689.691 L1886.14 639.691 L1972.74 689.691 L1972.74 789.691 Z\" fill=\"#009af9\" fill-rule=\"evenodd\" fill-opacity=\"1\" stroke=\"#000000\" stroke-opacity=\"1\" stroke-width=\"3.2\"/>\n<path clip-path=\"url(#clip292)\" d=\"M2070.41 839.691 L1983.81 789.691 L1983.81 689.691 L2070.41 639.691 L2157.01 689.691 L2157.01 789.691 Z\" fill=\"#009af9\" fill-rule=\"evenodd\" fill-opacity=\"1\" stroke=\"#000000\" stroke-opacity=\"1\" stroke-width=\"3.2\"/>\n<path clip-path=\"url(#clip292)\" d=\"M2165.52 1002.62 L2078.92 952.62 L2078.92 852.62 L2165.52 802.62 L2252.12 852.62 L2252.12 952.62 Z\" fill=\"#009af9\" fill-rule=\"evenodd\" fill-opacity=\"1\" stroke=\"#000000\" stroke-opacity=\"1\" stroke-width=\"3.2\"/>\n<path clip-path=\"url(#clip292)\" d=\"\nM209.891 1445.72 L2290.34 1445.72 L2290.34 87.9763 L209.891 87.9763 L209.891 1445.72  Z\n  \" fill=\"#e26f46\" fill-rule=\"evenodd\" fill-opacity=\"0\"/>\n<polyline clip-path=\"url(#clip292)\" style=\"stroke:#000000; stroke-linecap:butt; stroke-linejoin:round; stroke-width:4; stroke-opacity:0; fill:none\" points=\"\n  209.891,1445.72 2290.34,1445.72 2290.34,87.9763 209.891,87.9763 209.891,1445.72 \n  \"/>\n</svg>\n",
      "text/html": [
       "<?xml version=\"1.0\" encoding=\"utf-8\"?>\n",
       "<svg xmlns=\"http://www.w3.org/2000/svg\" xmlns:xlink=\"http://www.w3.org/1999/xlink\" width=\"600\" height=\"400\" viewBox=\"0 0 2400 1600\">\n",
       "<defs>\n",
       "  <clipPath id=\"clip340\">\n",
       "    <rect x=\"0\" y=\"0\" width=\"2400\" height=\"1600\"/>\n",
       "  </clipPath>\n",
       "</defs>\n",
       "<path clip-path=\"url(#clip340)\" d=\"\n",
       "M0 1600 L2400 1600 L2400 0 L0 0  Z\n",
       "  \" fill=\"#ffffff\" fill-rule=\"evenodd\" fill-opacity=\"1\"/>\n",
       "<defs>\n",
       "  <clipPath id=\"clip341\">\n",
       "    <rect x=\"480\" y=\"0\" width=\"1681\" height=\"1600\"/>\n",
       "  </clipPath>\n",
       "</defs>\n",
       "<path clip-path=\"url(#clip340)\" d=\"\n",
       "M147.478 1486.45 L2352.76 1486.45 L2352.76 47.2441 L147.478 47.2441  Z\n",
       "  \" fill=\"#ffffff\" fill-rule=\"evenodd\" fill-opacity=\"1\"/>\n",
       "<defs>\n",
       "  <clipPath id=\"clip342\">\n",
       "    <rect x=\"147\" y=\"47\" width=\"2206\" height=\"1440\"/>\n",
       "  </clipPath>\n",
       "</defs>\n",
       "<polyline clip-path=\"url(#clip342)\" style=\"stroke:#000000; stroke-linecap:butt; stroke-linejoin:round; stroke-width:2; stroke-opacity:0.1; fill:none\" points=\"\n",
       "  507.099,1486.45 507.099,47.2441 \n",
       "  \"/>\n",
       "<polyline clip-path=\"url(#clip342)\" style=\"stroke:#000000; stroke-linecap:butt; stroke-linejoin:round; stroke-width:2; stroke-opacity:0.1; fill:none\" points=\"\n",
       "  1101.51,1486.45 1101.51,47.2441 \n",
       "  \"/>\n",
       "<polyline clip-path=\"url(#clip342)\" style=\"stroke:#000000; stroke-linecap:butt; stroke-linejoin:round; stroke-width:2; stroke-opacity:0.1; fill:none\" points=\"\n",
       "  1695.93,1486.45 1695.93,47.2441 \n",
       "  \"/>\n",
       "<polyline clip-path=\"url(#clip342)\" style=\"stroke:#000000; stroke-linecap:butt; stroke-linejoin:round; stroke-width:2; stroke-opacity:0.1; fill:none\" points=\"\n",
       "  2290.34,1486.45 2290.34,47.2441 \n",
       "  \"/>\n",
       "<polyline clip-path=\"url(#clip340)\" style=\"stroke:#000000; stroke-linecap:butt; stroke-linejoin:round; stroke-width:4; stroke-opacity:1; fill:none\" points=\"\n",
       "  147.478,1486.45 2352.76,1486.45 \n",
       "  \"/>\n",
       "<polyline clip-path=\"url(#clip340)\" style=\"stroke:#000000; stroke-linecap:butt; stroke-linejoin:round; stroke-width:4; stroke-opacity:1; fill:none\" points=\"\n",
       "  507.099,1486.45 507.099,1467.55 \n",
       "  \"/>\n",
       "<polyline clip-path=\"url(#clip340)\" style=\"stroke:#000000; stroke-linecap:butt; stroke-linejoin:round; stroke-width:4; stroke-opacity:1; fill:none\" points=\"\n",
       "  1101.51,1486.45 1101.51,1467.55 \n",
       "  \"/>\n",
       "<polyline clip-path=\"url(#clip340)\" style=\"stroke:#000000; stroke-linecap:butt; stroke-linejoin:round; stroke-width:4; stroke-opacity:1; fill:none\" points=\"\n",
       "  1695.93,1486.45 1695.93,1467.55 \n",
       "  \"/>\n",
       "<polyline clip-path=\"url(#clip340)\" style=\"stroke:#000000; stroke-linecap:butt; stroke-linejoin:round; stroke-width:4; stroke-opacity:1; fill:none\" points=\"\n",
       "  2290.34,1486.45 2290.34,1467.55 \n",
       "  \"/>\n",
       "<path clip-path=\"url(#clip340)\" d=\"M507.099 1517.37 Q503.488 1517.37 501.659 1520.93 Q499.853 1524.47 499.853 1531.6 Q499.853 1538.71 501.659 1542.27 Q503.488 1545.82 507.099 1545.82 Q510.733 1545.82 512.539 1542.27 Q514.367 1538.71 514.367 1531.6 Q514.367 1524.47 512.539 1520.93 Q510.733 1517.37 507.099 1517.37 M507.099 1513.66 Q512.909 1513.66 515.964 1518.27 Q519.043 1522.85 519.043 1531.6 Q519.043 1540.33 515.964 1544.94 Q512.909 1549.52 507.099 1549.52 Q501.289 1549.52 498.21 1544.94 Q495.154 1540.33 495.154 1531.6 Q495.154 1522.85 498.21 1518.27 Q501.289 1513.66 507.099 1513.66 Z\" fill=\"#000000\" fill-rule=\"evenodd\" fill-opacity=\"1\" /><path clip-path=\"url(#clip340)\" d=\"M1096.17 1544.91 L1112.49 1544.91 L1112.49 1548.85 L1090.54 1548.85 L1090.54 1544.91 Q1093.2 1542.16 1097.79 1537.53 Q1102.39 1532.88 1103.57 1531.53 Q1105.82 1529.01 1106.7 1527.27 Q1107.6 1525.51 1107.6 1523.82 Q1107.6 1521.07 1105.66 1519.33 Q1103.74 1517.6 1100.63 1517.6 Q1098.43 1517.6 1095.98 1518.36 Q1093.55 1519.13 1090.77 1520.68 L1090.77 1515.95 Q1093.6 1514.82 1096.05 1514.24 Q1098.5 1513.66 1100.54 1513.66 Q1105.91 1513.66 1109.11 1516.35 Q1112.3 1519.03 1112.3 1523.52 Q1112.3 1525.65 1111.49 1527.57 Q1110.7 1529.47 1108.6 1532.07 Q1108.02 1532.74 1104.92 1535.95 Q1101.81 1539.15 1096.17 1544.91 Z\" fill=\"#000000\" fill-rule=\"evenodd\" fill-opacity=\"1\" /><path clip-path=\"url(#clip340)\" d=\"M1698.94 1518.36 L1687.13 1536.81 L1698.94 1536.81 L1698.94 1518.36 M1697.71 1514.29 L1703.59 1514.29 L1703.59 1536.81 L1708.52 1536.81 L1708.52 1540.7 L1703.59 1540.7 L1703.59 1548.85 L1698.94 1548.85 L1698.94 1540.7 L1683.34 1540.7 L1683.34 1536.19 L1697.71 1514.29 Z\" fill=\"#000000\" fill-rule=\"evenodd\" fill-opacity=\"1\" /><path clip-path=\"url(#clip340)\" d=\"M2290.75 1529.7 Q2287.6 1529.7 2285.75 1531.86 Q2283.92 1534.01 2283.92 1537.76 Q2283.92 1541.49 2285.75 1543.66 Q2287.6 1545.82 2290.75 1545.82 Q2293.9 1545.82 2295.72 1543.66 Q2297.58 1541.49 2297.58 1537.76 Q2297.58 1534.01 2295.72 1531.86 Q2293.9 1529.7 2290.75 1529.7 M2300.03 1515.05 L2300.03 1519.31 Q2298.27 1518.48 2296.47 1518.04 Q2294.68 1517.6 2292.92 1517.6 Q2288.29 1517.6 2285.84 1520.72 Q2283.41 1523.85 2283.06 1530.17 Q2284.43 1528.15 2286.49 1527.09 Q2288.55 1526 2291.03 1526 Q2296.23 1526 2299.24 1529.17 Q2302.28 1532.32 2302.28 1537.76 Q2302.28 1543.08 2299.13 1546.3 Q2295.98 1549.52 2290.75 1549.52 Q2284.75 1549.52 2281.58 1544.94 Q2278.41 1540.33 2278.41 1531.6 Q2278.41 1523.41 2282.3 1518.55 Q2286.19 1513.66 2292.74 1513.66 Q2294.5 1513.66 2296.28 1514.01 Q2298.09 1514.36 2300.03 1515.05 Z\" fill=\"#000000\" fill-rule=\"evenodd\" fill-opacity=\"1\" /><polyline clip-path=\"url(#clip342)\" style=\"stroke:#000000; stroke-linecap:butt; stroke-linejoin:round; stroke-width:2; stroke-opacity:0.1; fill:none\" points=\"\n",
       "  147.478,1445.72 2352.76,1445.72 \n",
       "  \"/>\n",
       "<polyline clip-path=\"url(#clip342)\" style=\"stroke:#000000; stroke-linecap:butt; stroke-linejoin:round; stroke-width:2; stroke-opacity:0.1; fill:none\" points=\"\n",
       "  147.478,1174.17 2352.76,1174.17 \n",
       "  \"/>\n",
       "<polyline clip-path=\"url(#clip342)\" style=\"stroke:#000000; stroke-linecap:butt; stroke-linejoin:round; stroke-width:2; stroke-opacity:0.1; fill:none\" points=\"\n",
       "  147.478,902.62 2352.76,902.62 \n",
       "  \"/>\n",
       "<polyline clip-path=\"url(#clip342)\" style=\"stroke:#000000; stroke-linecap:butt; stroke-linejoin:round; stroke-width:2; stroke-opacity:0.1; fill:none\" points=\"\n",
       "  147.478,631.072 2352.76,631.072 \n",
       "  \"/>\n",
       "<polyline clip-path=\"url(#clip342)\" style=\"stroke:#000000; stroke-linecap:butt; stroke-linejoin:round; stroke-width:2; stroke-opacity:0.1; fill:none\" points=\"\n",
       "  147.478,359.524 2352.76,359.524 \n",
       "  \"/>\n",
       "<polyline clip-path=\"url(#clip342)\" style=\"stroke:#000000; stroke-linecap:butt; stroke-linejoin:round; stroke-width:2; stroke-opacity:0.1; fill:none\" points=\"\n",
       "  147.478,87.9763 2352.76,87.9763 \n",
       "  \"/>\n",
       "<polyline clip-path=\"url(#clip340)\" style=\"stroke:#000000; stroke-linecap:butt; stroke-linejoin:round; stroke-width:4; stroke-opacity:1; fill:none\" points=\"\n",
       "  147.478,1486.45 147.478,47.2441 \n",
       "  \"/>\n",
       "<polyline clip-path=\"url(#clip340)\" style=\"stroke:#000000; stroke-linecap:butt; stroke-linejoin:round; stroke-width:4; stroke-opacity:1; fill:none\" points=\"\n",
       "  147.478,1445.72 166.376,1445.72 \n",
       "  \"/>\n",
       "<polyline clip-path=\"url(#clip340)\" style=\"stroke:#000000; stroke-linecap:butt; stroke-linejoin:round; stroke-width:4; stroke-opacity:1; fill:none\" points=\"\n",
       "  147.478,1174.17 166.376,1174.17 \n",
       "  \"/>\n",
       "<polyline clip-path=\"url(#clip340)\" style=\"stroke:#000000; stroke-linecap:butt; stroke-linejoin:round; stroke-width:4; stroke-opacity:1; fill:none\" points=\"\n",
       "  147.478,902.62 166.376,902.62 \n",
       "  \"/>\n",
       "<polyline clip-path=\"url(#clip340)\" style=\"stroke:#000000; stroke-linecap:butt; stroke-linejoin:round; stroke-width:4; stroke-opacity:1; fill:none\" points=\"\n",
       "  147.478,631.072 166.376,631.072 \n",
       "  \"/>\n",
       "<polyline clip-path=\"url(#clip340)\" style=\"stroke:#000000; stroke-linecap:butt; stroke-linejoin:round; stroke-width:4; stroke-opacity:1; fill:none\" points=\"\n",
       "  147.478,359.524 166.376,359.524 \n",
       "  \"/>\n",
       "<polyline clip-path=\"url(#clip340)\" style=\"stroke:#000000; stroke-linecap:butt; stroke-linejoin:round; stroke-width:4; stroke-opacity:1; fill:none\" points=\"\n",
       "  147.478,87.9763 166.376,87.9763 \n",
       "  \"/>\n",
       "<path clip-path=\"url(#clip340)\" d=\"M51.3625 1446.17 L81.0383 1446.17 L81.0383 1450.1 L51.3625 1450.1 L51.3625 1446.17 Z\" fill=\"#000000\" fill-rule=\"evenodd\" fill-opacity=\"1\" /><path clip-path=\"url(#clip340)\" d=\"M95.1586 1459.06 L111.478 1459.06 L111.478 1463 L89.5336 1463 L89.5336 1459.06 Q92.1956 1456.31 96.7789 1451.68 Q101.385 1447.02 102.566 1445.68 Q104.811 1443.16 105.691 1441.42 Q106.594 1439.66 106.594 1437.97 Q106.594 1435.22 104.649 1433.48 Q102.728 1431.75 99.6261 1431.75 Q97.4271 1431.75 94.9734 1432.51 Q92.5428 1433.27 89.7651 1434.82 L89.7651 1430.1 Q92.5891 1428.97 95.0428 1428.39 Q97.4965 1427.81 99.5335 1427.81 Q104.904 1427.81 108.098 1430.5 Q111.293 1433.18 111.293 1437.67 Q111.293 1439.8 110.483 1441.72 Q109.696 1443.62 107.589 1446.21 Q107.01 1446.88 103.909 1450.1 Q100.807 1453.3 95.1586 1459.06 Z\" fill=\"#000000\" fill-rule=\"evenodd\" fill-opacity=\"1\" /><path clip-path=\"url(#clip340)\" d=\"M50.9921 1174.62 L80.6679 1174.62 L80.6679 1178.55 L50.9921 1178.55 L50.9921 1174.62 Z\" fill=\"#000000\" fill-rule=\"evenodd\" fill-opacity=\"1\" /><path clip-path=\"url(#clip340)\" d=\"M91.5706 1187.51 L99.2095 1187.51 L99.2095 1161.15 L90.8993 1162.81 L90.8993 1158.55 L99.1632 1156.89 L103.839 1156.89 L103.839 1187.51 L111.478 1187.51 L111.478 1191.45 L91.5706 1191.45 L91.5706 1187.51 Z\" fill=\"#000000\" fill-rule=\"evenodd\" fill-opacity=\"1\" /><path clip-path=\"url(#clip340)\" d=\"M99.5335 888.419 Q95.9224 888.419 94.0937 891.983 Q92.2882 895.525 92.2882 902.655 Q92.2882 909.761 94.0937 913.326 Q95.9224 916.868 99.5335 916.868 Q103.168 916.868 104.973 913.326 Q106.802 909.761 106.802 902.655 Q106.802 895.525 104.973 891.983 Q103.168 888.419 99.5335 888.419 M99.5335 884.715 Q105.344 884.715 108.399 889.321 Q111.478 893.905 111.478 902.655 Q111.478 911.381 108.399 915.988 Q105.344 920.571 99.5335 920.571 Q93.7234 920.571 90.6447 915.988 Q87.5892 911.381 87.5892 902.655 Q87.5892 893.905 90.6447 889.321 Q93.7234 884.715 99.5335 884.715 Z\" fill=\"#000000\" fill-rule=\"evenodd\" fill-opacity=\"1\" /><path clip-path=\"url(#clip340)\" d=\"M91.5706 644.417 L99.2095 644.417 L99.2095 618.051 L90.8993 619.718 L90.8993 615.459 L99.1632 613.792 L103.839 613.792 L103.839 644.417 L111.478 644.417 L111.478 648.352 L91.5706 648.352 L91.5706 644.417 Z\" fill=\"#000000\" fill-rule=\"evenodd\" fill-opacity=\"1\" /><path clip-path=\"url(#clip340)\" d=\"M95.1586 372.869 L111.478 372.869 L111.478 376.804 L89.5336 376.804 L89.5336 372.869 Q92.1956 370.114 96.7789 365.485 Q101.385 360.832 102.566 359.489 Q104.811 356.966 105.691 355.23 Q106.594 353.471 106.594 351.781 Q106.594 349.027 104.649 347.29 Q102.728 345.554 99.6261 345.554 Q97.4271 345.554 94.9734 346.318 Q92.5428 347.082 89.7651 348.633 L89.7651 343.911 Q92.5891 342.777 95.0428 342.198 Q97.4965 341.619 99.5335 341.619 Q104.904 341.619 108.098 344.304 Q111.293 346.99 111.293 351.48 Q111.293 353.61 110.483 355.531 Q109.696 357.429 107.589 360.022 Q107.01 360.693 103.909 363.911 Q100.807 367.105 95.1586 372.869 Z\" fill=\"#000000\" fill-rule=\"evenodd\" fill-opacity=\"1\" /><path clip-path=\"url(#clip340)\" d=\"M104.348 86.6221 Q107.705 87.3397 109.58 89.6082 Q111.478 91.8767 111.478 95.21 Q111.478 100.326 107.959 103.127 Q104.441 105.928 97.9595 105.928 Q95.7836 105.928 93.4688 105.488 Q91.1771 105.071 88.7234 104.215 L88.7234 99.7008 Q90.6678 100.835 92.9826 101.414 Q95.2974 101.992 97.8206 101.992 Q102.219 101.992 104.51 100.256 Q106.825 98.5202 106.825 95.21 Q106.825 92.1545 104.672 90.4415 Q102.543 88.7054 98.7234 88.7054 L94.6956 88.7054 L94.6956 84.8629 L98.9085 84.8629 Q102.358 84.8629 104.186 83.4971 Q106.015 82.1083 106.015 79.5157 Q106.015 76.8537 104.117 75.4416 Q102.242 74.0064 98.7234 74.0064 Q96.8021 74.0064 94.603 74.4231 Q92.4039 74.8398 89.7651 75.7194 L89.7651 71.5528 Q92.4271 70.812 94.7419 70.4416 Q97.0798 70.0713 99.14 70.0713 Q104.464 70.0713 107.566 72.5018 Q110.668 74.9092 110.668 79.0296 Q110.668 81.8999 109.024 83.8907 Q107.381 85.8582 104.348 86.6221 Z\" fill=\"#000000\" fill-rule=\"evenodd\" fill-opacity=\"1\" /><path clip-path=\"url(#clip342)\" d=\"M507.099 1002.62 L420.499 952.62 L420.499 852.62 L507.099 802.62 L593.699 852.62 L593.699 952.62 Z\" fill=\"#009af9\" fill-rule=\"evenodd\" fill-opacity=\"1\" stroke=\"#000000\" stroke-opacity=\"1\" stroke-width=\"3.2\"/>\n",
       "<path clip-path=\"url(#clip342)\" d=\"M691.367 1002.62 L604.767 952.62 L604.767 852.62 L691.367 802.62 L777.967 852.62 L777.967 952.62 Z\" fill=\"#009af9\" fill-rule=\"evenodd\" fill-opacity=\"1\" stroke=\"#000000\" stroke-opacity=\"1\" stroke-width=\"3.2\"/>\n",
       "<path clip-path=\"url(#clip342)\" d=\"M875.636 1002.62 L789.036 952.62 L789.036 852.62 L875.636 802.62 L962.236 852.62 L962.236 952.62 Z\" fill=\"#009af9\" fill-rule=\"evenodd\" fill-opacity=\"1\" stroke=\"#000000\" stroke-opacity=\"1\" stroke-width=\"3.2\"/>\n",
       "<path clip-path=\"url(#clip342)\" d=\"M1059.9 1002.62 L973.304 952.62 L973.304 852.62 L1059.9 802.62 L1146.5 852.62 L1146.5 952.62 Z\" fill=\"#009af9\" fill-rule=\"evenodd\" fill-opacity=\"1\" stroke=\"#000000\" stroke-opacity=\"1\" stroke-width=\"3.2\"/>\n",
       "<path clip-path=\"url(#clip342)\" d=\"M596.261 839.691 L509.661 789.691 L509.661 689.691 L596.261 639.691 L682.861 689.691 L682.861 789.691 Z\" fill=\"#009af9\" fill-rule=\"evenodd\" fill-opacity=\"1\" stroke=\"#000000\" stroke-opacity=\"1\" stroke-width=\"3.2\"/>\n",
       "<path clip-path=\"url(#clip342)\" d=\"M780.529 839.691 L693.929 789.691 L693.929 689.691 L780.529 639.691 L867.129 689.691 L867.129 789.691 Z\" fill=\"#009af9\" fill-rule=\"evenodd\" fill-opacity=\"1\" stroke=\"#000000\" stroke-opacity=\"1\" stroke-width=\"3.2\"/>\n",
       "<path clip-path=\"url(#clip342)\" d=\"M964.798 839.691 L878.198 789.691 L878.198 689.691 L964.798 639.691 L1051.4 689.691 L1051.4 789.691 Z\" fill=\"#009af9\" fill-rule=\"evenodd\" fill-opacity=\"1\" stroke=\"#000000\" stroke-opacity=\"1\" stroke-width=\"3.2\"/>\n",
       "<path clip-path=\"url(#clip342)\" d=\"M501.155 676.762 L414.555 626.762 L414.555 526.762 L501.155 476.762 L587.755 526.762 L587.755 626.762 Z\" fill=\"#009af9\" fill-rule=\"evenodd\" fill-opacity=\"1\" stroke=\"#000000\" stroke-opacity=\"1\" stroke-width=\"3.2\"/>\n",
       "<path clip-path=\"url(#clip342)\" d=\"M685.423 676.762 L598.823 626.762 L598.823 526.762 L685.423 476.762 L772.023 526.762 L772.023 626.762 Z\" fill=\"#009af9\" fill-rule=\"evenodd\" fill-opacity=\"1\" stroke=\"#000000\" stroke-opacity=\"1\" stroke-width=\"3.2\"/>\n",
       "<path clip-path=\"url(#clip342)\" d=\"M869.692 676.762 L783.092 626.762 L783.092 526.762 L869.692 476.762 L956.292 526.762 L956.292 626.762 Z\" fill=\"#009af9\" fill-rule=\"evenodd\" fill-opacity=\"1\" stroke=\"#000000\" stroke-opacity=\"1\" stroke-width=\"3.2\"/>\n",
       "<path clip-path=\"url(#clip342)\" d=\"M1053.96 676.762 L967.36 626.762 L967.36 526.762 L1053.96 476.762 L1140.56 526.762 L1140.56 626.762 Z\" fill=\"#009af9\" fill-rule=\"evenodd\" fill-opacity=\"1\" stroke=\"#000000\" stroke-opacity=\"1\" stroke-width=\"3.2\"/>\n",
       "<path clip-path=\"url(#clip342)\" d=\"M1238.23 676.762 L1151.63 626.762 L1151.63 526.762 L1238.23 476.762 L1324.83 526.762 L1324.83 626.762 Z\" fill=\"#009af9\" fill-rule=\"evenodd\" fill-opacity=\"1\" stroke=\"#000000\" stroke-opacity=\"1\" stroke-width=\"3.2\"/>\n",
       "<path clip-path=\"url(#clip342)\" d=\"M1422.5 676.762 L1335.9 626.762 L1335.9 526.762 L1422.5 476.762 L1509.1 526.762 L1509.1 626.762 Z\" fill=\"#009af9\" fill-rule=\"evenodd\" fill-opacity=\"1\" stroke=\"#000000\" stroke-opacity=\"1\" stroke-width=\"3.2\"/>\n",
       "<path clip-path=\"url(#clip342)\" d=\"M1606.77 676.762 L1520.17 626.762 L1520.17 526.762 L1606.77 476.762 L1693.37 526.762 L1693.37 626.762 Z\" fill=\"#009af9\" fill-rule=\"evenodd\" fill-opacity=\"1\" stroke=\"#000000\" stroke-opacity=\"1\" stroke-width=\"3.2\"/>\n",
       "<path clip-path=\"url(#clip342)\" d=\"M1791.03 676.762 L1704.43 626.762 L1704.43 526.762 L1791.03 476.762 L1877.63 526.762 L1877.63 626.762 Z\" fill=\"#009af9\" fill-rule=\"evenodd\" fill-opacity=\"1\" stroke=\"#000000\" stroke-opacity=\"1\" stroke-width=\"3.2\"/>\n",
       "<path clip-path=\"url(#clip342)\" d=\"M1975.3 676.762 L1888.7 626.762 L1888.7 526.762 L1975.3 476.762 L2061.9 526.762 L2061.9 626.762 Z\" fill=\"#009af9\" fill-rule=\"evenodd\" fill-opacity=\"1\" stroke=\"#000000\" stroke-opacity=\"1\" stroke-width=\"3.2\"/>\n",
       "<path clip-path=\"url(#clip342)\" d=\"M2159.57 676.762 L2072.97 626.762 L2072.97 526.762 L2159.57 476.762 L2246.17 526.762 L2246.17 626.762 Z\" fill=\"#009af9\" fill-rule=\"evenodd\" fill-opacity=\"1\" stroke=\"#000000\" stroke-opacity=\"1\" stroke-width=\"3.2\"/>\n",
       "<path clip-path=\"url(#clip342)\" d=\"M1333.33 839.691 L1246.73 789.691 L1246.73 689.691 L1333.33 639.691 L1419.93 689.691 L1419.93 789.691 Z\" fill=\"#009af9\" fill-rule=\"evenodd\" fill-opacity=\"1\" stroke=\"#000000\" stroke-opacity=\"1\" stroke-width=\"3.2\"/>\n",
       "<path clip-path=\"url(#clip342)\" d=\"M1428.44 1002.62 L1341.84 952.62 L1341.84 852.62 L1428.44 802.62 L1515.04 852.62 L1515.04 952.62 Z\" fill=\"#009af9\" fill-rule=\"evenodd\" fill-opacity=\"1\" stroke=\"#000000\" stroke-opacity=\"1\" stroke-width=\"3.2\"/>\n",
       "<path clip-path=\"url(#clip342)\" d=\"M1612.71 1002.62 L1526.11 952.62 L1526.11 852.62 L1612.71 802.62 L1699.31 852.62 L1699.31 952.62 Z\" fill=\"#009af9\" fill-rule=\"evenodd\" fill-opacity=\"1\" stroke=\"#000000\" stroke-opacity=\"1\" stroke-width=\"3.2\"/>\n",
       "<path clip-path=\"url(#clip342)\" d=\"M1796.98 1002.62 L1710.38 952.62 L1710.38 852.62 L1796.98 802.62 L1883.58 852.62 L1883.58 952.62 Z\" fill=\"#009af9\" fill-rule=\"evenodd\" fill-opacity=\"1\" stroke=\"#000000\" stroke-opacity=\"1\" stroke-width=\"3.2\"/>\n",
       "<path clip-path=\"url(#clip342)\" d=\"M1886.14 839.691 L1799.54 789.691 L1799.54 689.691 L1886.14 639.691 L1972.74 689.691 L1972.74 789.691 Z\" fill=\"#009af9\" fill-rule=\"evenodd\" fill-opacity=\"1\" stroke=\"#000000\" stroke-opacity=\"1\" stroke-width=\"3.2\"/>\n",
       "<path clip-path=\"url(#clip342)\" d=\"M2070.41 839.691 L1983.81 789.691 L1983.81 689.691 L2070.41 639.691 L2157.01 689.691 L2157.01 789.691 Z\" fill=\"#009af9\" fill-rule=\"evenodd\" fill-opacity=\"1\" stroke=\"#000000\" stroke-opacity=\"1\" stroke-width=\"3.2\"/>\n",
       "<path clip-path=\"url(#clip342)\" d=\"M2165.52 1002.62 L2078.92 952.62 L2078.92 852.62 L2165.52 802.62 L2252.12 852.62 L2252.12 952.62 Z\" fill=\"#009af9\" fill-rule=\"evenodd\" fill-opacity=\"1\" stroke=\"#000000\" stroke-opacity=\"1\" stroke-width=\"3.2\"/>\n",
       "<path clip-path=\"url(#clip342)\" d=\"\n",
       "M209.891 1445.72 L2290.34 1445.72 L2290.34 87.9763 L209.891 87.9763 L209.891 1445.72  Z\n",
       "  \" fill=\"#e26f46\" fill-rule=\"evenodd\" fill-opacity=\"0\"/>\n",
       "<polyline clip-path=\"url(#clip342)\" style=\"stroke:#000000; stroke-linecap:butt; stroke-linejoin:round; stroke-width:4; stroke-opacity:0; fill:none\" points=\"\n",
       "  209.891,1445.72 2290.34,1445.72 2290.34,87.9763 209.891,87.9763 209.891,1445.72 \n",
       "  \"/>\n",
       "</svg>\n"
      ]
     },
     "metadata": {},
     "output_type": "display_data"
    }
   ],
   "source": [
    "rectangle(w, h, x, y) = Shape(x .+ [0,w,w,0], y .+ [0,0,h,h])\n",
    "\n",
    "function render(hexMDP::HexWorldMDP)\n",
    "    diff_x = 0.62\n",
    "    diff_y = 0.6\n",
    "    diff_odd = 0.3\n",
    "\n",
    "    S = hexMDP.mdp.𝒮    \n",
    "\n",
    "    X = [(s.x * diff_x + diff_odd * s.y) for s in S]\n",
    "    Y = [(s.y * diff_y) for s in S]\n",
    "\n",
    "    scatter(X, Y, \n",
    "        markershape = :hexagon, \n",
    "        markersize = 25, \n",
    "        legend = nothing)\n",
    "    plot!(rectangle(7, 5, -1, -2), opacity = 0.0)\n",
    "end\n",
    "\n",
    "render(mdp)"
   ]
  }
 ],
 "metadata": {
  "kernelspec": {
   "display_name": "Julia 1.6.3",
   "language": "julia",
   "name": "julia-1.6"
  },
  "language_info": {
   "file_extension": ".jl",
   "mimetype": "application/julia",
   "name": "julia",
   "version": "1.6.3"
  },
  "orig_nbformat": 4
 },
 "nbformat": 4,
 "nbformat_minor": 2
}
