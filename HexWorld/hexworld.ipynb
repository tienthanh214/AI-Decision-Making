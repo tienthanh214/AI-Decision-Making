{
 "cells": [
  {
   "cell_type": "markdown",
   "metadata": {},
   "source": [
    "## Hex World\n",
    "Markov Decision Process"
   ]
  },
  {
   "cell_type": "code",
   "execution_count": 1,
   "metadata": {},
   "outputs": [],
   "source": [
    "struct MDP\n",
    "    γ # discount factor\n",
    "    𝒮 # state space\n",
    "    𝒜 # action\n",
    "    T # transition function\n",
    "    R # reward function\n",
    "end\n",
    "\n",
    "struct State\n",
    "    x::Int32\n",
    "    y::Int32\n",
    "end\n",
    "\n",
    "struct Action\n",
    "    x::Int32\n",
    "    y::Int32\n",
    "end\n",
    "\n",
    "Base.:+(s1::State, s2::Action) = State(s1.x + s2.x, s1.y + s2.y)"
   ]
  },
  {
   "cell_type": "code",
   "execution_count": 2,
   "metadata": {},
   "outputs": [
    {
     "data": {
      "text/plain": [
       "Dict{Action, String} with 6 entries:\n",
       "  Action(1, -1) => \"↘\"\n",
       "  Action(0, 1)  => \"↗\"\n",
       "  Action(-1, 0) => \"←\"\n",
       "  Action(1, 0)  => \"→\"\n",
       "  Action(-1, 1) => \"↖\"\n",
       "  Action(0, -1) => \"↙\""
      ]
     },
     "metadata": {},
     "output_type": "display_data"
    }
   ],
   "source": [
    "# 6 direction can take in one action \n",
    "const ACTIONS = [\"→\", \"↗\", \"↖\", \"←\", \"↙\", \"↘\"]\n",
    "const MOVEMENTS = [Action(1, 0), Action(0, 1), Action(-1, 1), Action(-1, 0), Action(0, -1), Action(1, -1)] \n",
    "# terminal state \n",
    "const terminal_state = State(typemin(Int32), typemin(Int32))\n",
    "\n",
    "const MOVE_TO_ARROW = Dict([MOVEMENTS[i] => ACTIONS[i] for i = 1 : length(MOVEMENTS)]) "
   ]
  },
  {
   "cell_type": "markdown",
   "metadata": {},
   "source": [
    "Data structure for a Hex World MDP"
   ]
  },
  {
   "cell_type": "code",
   "execution_count": 3,
   "metadata": {},
   "outputs": [],
   "source": [
    "struct HexWorldMDP\n",
    "    mdp::MDP \n",
    "    # constructor\n",
    "    function HexWorldMDP(\n",
    "        γ::Real,                        # discount factor\n",
    "        p_transision::Real,             # probablity of transitioning  to the correct next state\n",
    "        reward_bump_border::Real,       # reward if go outside the hex world\n",
    "        hexes::Vector{State},           # all state in hex world\n",
    "        rewards::Dict{State, Real},     # reward in absorbing hex\n",
    "        )\n",
    "\n",
    "        T, R = constructTR(p_transision, reward_bump_border, hexes, rewards) \n",
    "        \n",
    "        mdp = MDP(γ, hexes, MOVEMENTS, T, R)\n",
    "\n",
    "        return new(mdp)\n",
    "    end\n",
    "\n",
    "    ### construct Transition and Reward table for all state\n",
    "    function constructTR(\n",
    "        p_transition::Real, \n",
    "        reward_bump_border::Real, \n",
    "        hexes::Vector{State}, \n",
    "        rewards::Dict{State, Real})\n",
    "        \n",
    "        nS = length(hexes) + 1  # plus one terminal state\n",
    "        nA = length(MOVEMENTS)  # 6 action\n",
    "\n",
    "        p_veer = (1 - p_transition) / 2     # unintented probablity\n",
    "\n",
    "        R = Dict{Tuple{State, Action}, Real}()\n",
    "        T = Dict{Tuple{State, Action, State}, Real}()\n",
    "        for s in hexes\n",
    "            if s in keys(rewards)    # Action taken from an absorbing hex \n",
    "                for α in MOVEMENTS\n",
    "                    s′ = s + α\n",
    "                    T[(s, α, s′)] = 0.0\n",
    "                    T[(s, α, terminal_state)] = 1.0     # transports to terminal state\n",
    "                    updateR(R, (s, α), rewards[s])            # get the reward\n",
    "                end\n",
    "            else \n",
    "                for (idx, α) in enumerate(MOVEMENTS)\n",
    "                    # correct transition\n",
    "                    s′ = s + α\n",
    "                    updateR(R, (s, α), 0.0)\n",
    "                    updateT(T, (s, α, s′), 0.0)\n",
    "                    updateT(T, (s, α, s), 0.0)\n",
    "\n",
    "                    if !(s′ in hexes)   # out of the map\n",
    "                        s′ = s\n",
    "                        updateR(R, (s, α), reward_bump_border * p_transition)\n",
    "                    end\n",
    "                    updateT(T, (s, α, s′), p_transition)\n",
    "\n",
    "                    # unintented verr left\n",
    "                    s′ = s + MOVEMENTS[mod1(idx + 1, nA)]\n",
    "                    if !(s′ in hexes)   # out of the map\n",
    "                        s′ = s\n",
    "                        updateR(R, (s, α), reward_bump_border * p_veer)\n",
    "                    end\n",
    "                    updateT(T, (s, α, s′), p_veer)\n",
    "\n",
    "                    # unintented verr right\n",
    "                    s′ = s + MOVEMENTS[mod1(idx - 1, nA)]\n",
    "                    if !(s′ in hexes)   # out of the map\n",
    "                        s′ = s\n",
    "                        updateR(R, (s, α), reward_bump_border * p_veer)\n",
    "                    end\n",
    "                    updateT(T, (s, α, s′), p_veer)\n",
    "                end\n",
    "            end\n",
    "        end\n",
    "        # absorbing state stays\n",
    "        for α in MOVEMENTS\n",
    "            T[terminal_state, α, terminal_state] = 1.0\n",
    "        end\n",
    "        \n",
    "        return T, R\n",
    "    end\n",
    "\n",
    "    function updateR(R::Dict{Tuple{State, Action}, Real}, key::Tuple{State, Action}, value::Real)\n",
    "        if (!haskey(R, key))\n",
    "            R[key] = 0.0\n",
    "        end\n",
    "        R[key] += value\n",
    "    end\n",
    "\n",
    "    function updateT(T, key::Tuple{State, Action, State}, value::Real)\n",
    "        if (!haskey(T, key))\n",
    "            T[key] = 0.0\n",
    "        end\n",
    "        T[key] += value\n",
    "    end\n",
    "end"
   ]
  },
  {
   "cell_type": "code",
   "execution_count": 4,
   "metadata": {},
   "outputs": [
    {
     "data": {
      "text/plain": [
       "n_states (generic function with 1 method)"
      ]
     },
     "metadata": {},
     "output_type": "display_data"
    }
   ],
   "source": [
    "# function for hex world mdp\n",
    "inbounds(hexMDP::HexWorldMDP, s::State) = s in hexMDP.mdp.𝒮\n",
    "\n",
    "function T(mdp::MDP, s::State, α::Action, s′::State)\n",
    "    if !haskey(mdp.T, (s, α, s′))\n",
    "        return 0.0\n",
    "    end\n",
    "    return mdp.T[(s, α, s′)]\n",
    "end\n",
    "\n",
    "function R(mdp::MDP, s::State, α::Action)\n",
    "    if !haskey(mdp.R, (s, α))\n",
    "        return 0.0\n",
    "    end\n",
    "    return mdp.R[(s, α)]\n",
    "end\n",
    "\n",
    "is_terminal(s::State) = s == terminal_state \n",
    "n_states(mdp::HexWorldMDP) = length(mdp.mdp.𝒮) + 1  # plus one terminal state"
   ]
  },
  {
   "cell_type": "markdown",
   "metadata": {},
   "source": [
    "## Markov Decision Process - Value Iteration"
   ]
  },
  {
   "cell_type": "code",
   "execution_count": 5,
   "metadata": {},
   "outputs": [
    {
     "data": {
      "text/plain": [
       "lookahead (generic function with 1 method)"
      ]
     },
     "metadata": {},
     "output_type": "display_data"
    }
   ],
   "source": [
    "# computing lookahead state-action value from s given action α\n",
    "function lookahead(𝒫::MDP, U, s::State, α::Action)\n",
    "    𝒮, γ = 𝒫.𝒮, 𝒫.γ\n",
    "    return R(𝒫, s, α) + γ * sum(T(𝒫, s, α, s′) * U[i] for (i, s′) in enumerate(𝒮))\n",
    "end "
   ]
  },
  {
   "cell_type": "code",
   "execution_count": 6,
   "metadata": {},
   "outputs": [
    {
     "data": {
      "text/plain": [
       "backup (generic function with 1 method)"
      ]
     },
     "metadata": {},
     "output_type": "display_data"
    }
   ],
   "source": [
    "# backup procedure improve value function U at state s\n",
    "# return u, optimal policy α for state s\n",
    "function backup(𝒫::MDP, U, s::State)\n",
    "    u, idx = findmax([lookahead(𝒫, U, s, α) for α in 𝒫.𝒜])\n",
    "    return (u = u, α = 𝒫.𝒜[idx])\n",
    "end"
   ]
  },
  {
   "cell_type": "code",
   "execution_count": 7,
   "metadata": {},
   "outputs": [
    {
     "data": {
      "text/plain": [
       "solve (generic function with 1 method)"
      ]
     },
     "metadata": {},
     "output_type": "display_data"
    }
   ],
   "source": [
    "# solve Hex world MDP, repeat until ||U - U′|| < δ\n",
    "δ = 1e-16   # threshold\n",
    "\n",
    "# return value function, and optimal policy for each state\n",
    "function solve(𝒫::HexWorldMDP)\n",
    "    𝒮, γ = 𝒫.mdp.𝒮, 𝒫.mdp.γ\n",
    "    U = zeros(length(𝒮))\n",
    "    π = Dict{State, Action}()\n",
    "    iter = 0\n",
    "    while true\n",
    "        iter += 1\n",
    "        U′ = zeros(length(𝒮))\n",
    "        for (i, s) in enumerate(𝒮)\n",
    "            U′[i], π[s] = backup(𝒫.mdp, U, s)\n",
    "        end\n",
    "        if (sqrt(sum((U - U′) .^ 2)) < δ)\n",
    "            break\n",
    "        end\n",
    "        U = U′\n",
    "    end\n",
    "    println(\"Total iter = \", iter)\n",
    "    return U, π\n",
    "end"
   ]
  },
  {
   "cell_type": "markdown",
   "metadata": {},
   "source": [
    "Cấu hình cho Hex World cần giải"
   ]
  },
  {
   "cell_type": "code",
   "execution_count": 8,
   "metadata": {},
   "outputs": [],
   "source": [
    "# cấu hình thử nghiệm 1\n",
    "discount = 0.5\n",
    "reward_bump_border = -1.0\n",
    "p_trans = 0.7\n",
    "hexes = [   State(0, 0), State(1, 0), State(2, 0), State(3, 0), State(0, 1), State(1, 1), State(2, 1), State(-1, 2), \n",
    "            State(0, 2), State(1, 2), State(2, 2), State(3, 2), State(4, 2), State(5, 2), State(6, 2), State(7, 2), \n",
    "            State(8, 2), State(4, 1), State(5, 0), State(6, 0), State(7, 0), State(7, 1), State(8, 1), State(9, 0) ]\n",
    "rewards = Dict{State, Real}(\n",
    "    State(0, 1) => -5.0, \n",
    "    State(2, 0) => 5.0, \n",
    "    State(9, 0) => 6.0,\n",
    "    State(2, 4) => -1.0)\n",
    "\n",
    "mdp = HexWorldMDP(discount, p_trans, reward_bump_border, hexes, rewards);"
   ]
  },
  {
   "cell_type": "code",
   "execution_count": 9,
   "metadata": {},
   "outputs": [],
   "source": [
    "# cấu hình thử nghiệm 2\n",
    "discount = 0.9\n",
    "reward_bump_border = -1.0\n",
    "p_trans = 0.7\n",
    "hexes = [   State(0, 0), State(1, 0), State(2, 0), State(3, 0), State(0, 1), State(1, 1), State(2, 1), State(-1, 2), \n",
    "            State(0, 2), State(1, 2), State(2, 2), State(3, 2), State(4, 2), State(5, 2), State(6, 2), State(7, 2), \n",
    "            State(8, 2), State(4, 1), State(5, 0), State(6, 0), State(7, 0), State(7, 1), State(8, 1), State(9, 0) ]\n",
    "rewards = Dict{State, Real}(\n",
    "    State(0, 1) => 5.0, \n",
    "    State(2, 0) => -10.0, \n",
    "    State(9, 0) => 10.0)\n",
    "\n",
    "mdp = HexWorldMDP(discount, p_trans, reward_bump_border, hexes, rewards);"
   ]
  },
  {
   "cell_type": "code",
   "execution_count": 10,
   "metadata": {},
   "outputs": [
    {
     "name": "stdout",
     "output_type": "stream",
     "text": [
      "Total iter = 45\n"
     ]
    }
   ],
   "source": [
    "U, π = solve(mdp);"
   ]
  },
  {
   "cell_type": "markdown",
   "metadata": {},
   "source": [
    "## SIMULATOR"
   ]
  },
  {
   "cell_type": "markdown",
   "metadata": {},
   "source": [
    "Các hàm hỗ trợ giả lập ngẫu nhiên trò chơi"
   ]
  },
  {
   "cell_type": "code",
   "execution_count": 11,
   "metadata": {},
   "outputs": [
    {
     "data": {
      "text/plain": [
       "simulation (generic function with 1 method)"
      ]
     },
     "metadata": {},
     "output_type": "display_data"
    }
   ],
   "source": [
    "\n",
    "sample(items, weight) = items[findfirst(cumsum(weight) .> rand())]\n",
    "\n",
    "generate_start_state(mdp::HexWorldMDP) = mdp.mdp.𝒮[rand(1:(n_states(mdp) - 1))]\n",
    "\n",
    "# generate next state random from state s with action α\n",
    "function generate_next_state(hexMDP::HexWorldMDP, s::State, α::Action)\n",
    "    𝒜 = hexMDP.mdp.𝒜\n",
    "    probability = []\n",
    "    S′ = []\n",
    "    # generate all posible movement after taken action α from s\n",
    "    for α′ in [𝒜; Action(0, 0)]\n",
    "        s′ = s + α′\n",
    "        if (T(hexMDP.mdp, s, α, s′) > 0.0)\n",
    "            push!(probability, T(hexMDP.mdp, s, α, s′))\n",
    "            push!(S′, s′)\n",
    "        end\n",
    "    end \n",
    "    # check if go to terminal state after receive reward\n",
    "    if T(hexMDP.mdp, s, α, terminal_state) > 0.0\n",
    "        push!(probability, T(hexMDP.mdp, s, α, terminal_state))\n",
    "        push!(S′, terminal_state)\n",
    "    end    \n",
    "    # random select in prob action\n",
    "    s′ = sample(S′, probability)\n",
    "    α′ = Action(s′.x - s.x, s′.y - s.y)\n",
    "    if s′ == s # stay\n",
    "        idx = findfirst(h -> h == α, 𝒜)\n",
    "        for i in [mod1(idx - 1, 6), idx, mod1(idx + 1, 6)]\n",
    "            if !inbounds(hexMDP, s + 𝒜[i])\n",
    "                α′ = 𝒜[i]\n",
    "                break\n",
    "            end\n",
    "        end\n",
    "    elseif s′ == terminal_state\n",
    "        α′ = 𝒜[1]\n",
    "    end\n",
    "    return s′, α′\n",
    "end\n",
    "# simulate start at start_state, follow policy π\n",
    "function simulation(hexMDP::HexWorldMDP, π, start_state::State; show_step = false)\n",
    "    S, R, T, γ = hexMDP.mdp.𝒮, hexMDP.mdp.R, hexMDP.mdp.T, hexMDP.mdp.γ\n",
    "    if !(start_state in S)\n",
    "        return 0.0\n",
    "    end\n",
    "    s = start_state\n",
    "    total_reward = 0.0\n",
    "    step = 0\n",
    "    while true\n",
    "        \n",
    "        if haskey(rewards, s)\n",
    "            total_reward += (γ ^ step) * rewards[s] \n",
    "        end\n",
    "        # next state action by random \n",
    "        s′, α′ = generate_next_state(hexMDP, s, π[s])\n",
    "        \n",
    "        # if stay -> bump the border\n",
    "        if s′ == s\n",
    "            total_reward += (γ ^ step) * reward_bump_border\n",
    "        end\n",
    "\n",
    "        if show_step   # print out step and direction arrow\n",
    "            print('(', s.x, \", \", s.y, ')')\n",
    "            println(' ', MOVE_TO_ARROW[π[s]], ' ', MOVE_TO_ARROW[α′], ' ', total_reward)\n",
    "        end\n",
    "\n",
    "        # if next state is terminal then terminate game\n",
    "        if is_terminal(s′)\n",
    "            break\n",
    "        end\n",
    "\n",
    "        step += 1\n",
    "        s = s′\n",
    "    end\n",
    "    return total_reward\n",
    "end\n"
   ]
  },
  {
   "cell_type": "code",
   "execution_count": 12,
   "metadata": {},
   "outputs": [
    {
     "name": "stdout",
     "output_type": "stream",
     "text": [
      "Total iter = "
     ]
    },
    {
     "name": "stdout",
     "output_type": "stream",
     "text": [
      "45\n",
      "(4, 1) ↗ ↗ 0.0\n"
     ]
    },
    {
     "name": "stdout",
     "output_type": "stream",
     "text": [
      "(4, 2) → ↘ -0.9\n",
      "(4, 2) → ↘ -1.71\n",
      "(4, 2) → → -1.71\n",
      "(5, 2) → ↘ -2.3661\n",
      "(5, 2) → → -2.3661\n",
      "(6, 2) → ↘ -2.3661\n",
      "(7, 1) → → -2.3661\n",
      "(8, 1) ↘ ↘ -2.3661\n",
      "(9, 0) → → 1.5081048900000011"
     ]
    },
    {
     "name": "stdout",
     "output_type": "stream",
     "text": [
      "\n",
      "  3.126976 seconds (1.68 M allocations: 99.046 MiB, 0.62% gc time, 24.42% compilation time)\n"
     ]
    }
   ],
   "source": [
    "U, π = solve(mdp);\n",
    "@time simulation(mdp, π, State(4, 1), show_step = true);"
   ]
  },
  {
   "cell_type": "markdown",
   "metadata": {},
   "source": [
    "### Monte Carlo Simulation\n",
    "Thực nghiệm trên cùng một bản đồ và trạng thái xuất phát trong Hex World, lấy trung bình cộng của các lần thử nghiệm"
   ]
  },
  {
   "cell_type": "code",
   "execution_count": 13,
   "metadata": {},
   "outputs": [
    {
     "data": {
      "text/plain": [
       "MonteCarloSimulation (generic function with 1 method)"
      ]
     },
     "metadata": {},
     "output_type": "display_data"
    }
   ],
   "source": [
    "function MonteCarloSimulation(hexMDP::HexWorldMDP, num_iter::Int)\n",
    "    𝒮 = hexMDP.mdp.𝒮\n",
    "    start_state = generate_start_state(hexMDP)\n",
    "    total = 0.0\n",
    "    for iter = 1 : num_iter\n",
    "        total += simulation(mdp, π, start_state)\n",
    "    end\n",
    "    println(\"Number of iteration: \", num_iter)\n",
    "    println(\"Start state: \", start_state)\n",
    "    println(\"Mean = \", total / num_iter)\n",
    "    println(\"Expected utility = \", U[findfirst(h -> h == start_state, 𝒮)])\n",
    "end"
   ]
  },
  {
   "cell_type": "code",
   "execution_count": 14,
   "metadata": {},
   "outputs": [
    {
     "name": "stdout",
     "output_type": "stream",
     "text": [
      "Number of iteration: 100000\n",
      "Start state: "
     ]
    },
    {
     "name": "stdout",
     "output_type": "stream",
     "text": [
      "State(1, 1)\n",
      "Mean = 4.306621292369945\n",
      "Expected utility = 4.308361926449785\n",
      "  2.442034 seconds (16.70 M allocations: 545.223 MiB, 3.37% gc time, 38.49% compilation time)\n"
     ]
    }
   ],
   "source": [
    "@time MonteCarloSimulation(mdp, 100000)"
   ]
  },
  {
   "cell_type": "markdown",
   "metadata": {},
   "source": [
    "## Visualization\n",
    "Các hàm dưới đây dùng để hỗ trợ visualize trực quan kết quả"
   ]
  },
  {
   "cell_type": "code",
   "execution_count": null,
   "metadata": {},
   "outputs": [],
   "source": [
    "import Pkg;\n",
    "if !haskey(Pkg.dependencies(), \"Plots\")\n",
    "    Pkg.add(\"Plots\")\n",
    "end\n",
    "\n",
    "using Plots"
   ]
  },
  {
   "cell_type": "code",
   "execution_count": 16,
   "metadata": {},
   "outputs": [
    {
     "data": {
      "text/plain": [
       "render (generic function with 1 method)"
      ]
     },
     "metadata": {},
     "output_type": "display_data"
    }
   ],
   "source": [
    "rectangle(w, h, x, y) = Shape(x .+ [0,w,w,0], y .+ [0,0,h,h])\n",
    "# render hex world map with value function U, policy π\n",
    "function render(hexMDP::HexWorldMDP, U, π; tit = \"\", current_state = nothing)\n",
    "    # constant setting plot\n",
    "    diff_x = 0.62\n",
    "    diff_y = 0.6\n",
    "    diff_odd = 0.3\n",
    "    direct = Dict([(MOVEMENTS[1], (1, 0)), (MOVEMENTS[2], (1, 1)),\n",
    "                (MOVEMENTS[3], (-1, 1)), (MOVEMENTS[4], (-1, 0)),\n",
    "                (MOVEMENTS[5], (-1, -1)), (MOVEMENTS[6], (1, -1))])\n",
    "\n",
    "    S = hexMDP.mdp.𝒮    \n",
    "    R = hexMDP.mdp.R    \n",
    "    \n",
    "    X = [(s.x * diff_x + diff_odd * s.y) for s in S]\n",
    "    Y = [(s.y * diff_y) for s in S]\n",
    "    # setup grad color\n",
    "    colors = [(u - minimum(values(R))) / (maximum(values(R)) - minimum(values(R))) for u in U]\n",
    "    fig = scatter(X, Y, \n",
    "        m = cgrad(:RdBu_9),\n",
    "        zcolor = colors,\n",
    "        markershape = :hexagon, \n",
    "        makerstrokewidth = 5,\n",
    "        markersize = 25, \n",
    "        legend = nothing,\n",
    "        axis = nothing,\n",
    "        title = tit\n",
    "        )\n",
    "    if current_state != nothing\n",
    "        scatter!([current_state.x * diff_x + diff_odd * current_state.y], \n",
    "                [current_state.y * diff_y],\n",
    "                m = cgrad(:RdBu_9),\n",
    "                zcolor = [colors[findfirst(h -> h == current_state, S)]],\n",
    "                markershape = :hexagon,\n",
    "                markersize = 25,\n",
    "                markerstrokewidth = 5,\n",
    "                markerstrokealpha = 0.0,\n",
    "                markerstrokecolor = :green,\n",
    "                )\n",
    "    end\n",
    "    for s in S\n",
    "        x = s.x * diff_x + diff_odd * s.y\n",
    "        y = s.y * diff_y\n",
    "        dx, dy = direct[π[s]]\n",
    "        dx /= 100; dy /= 100\n",
    "        x += dx * 15\n",
    "        y += dy * 15\n",
    "        plot!([x, x + dx], [y, y + dy], arrow = true, linewidth = 2, color = :black)\n",
    "    end\n",
    "\n",
    "    plot!(rectangle(7, 5, -1, -2), opacity = 0.0)\n",
    "end"
   ]
  },
  {
   "cell_type": "code",
   "execution_count": 17,
   "metadata": {},
   "outputs": [
    {
     "name": "stdout",
     "output_type": "stream",
     "text": [
      "Total iter = 45"
     ]
    },
    {
     "name": "stdout",
     "output_type": "stream",
     "text": [
      "\n"
     ]
    },
    {
     "data": {
      "image/png": "[encoded data removed]",
      "image/svg+xml": "<?xml version=\"1.0\" encoding=\"utf-8\"?>\n<svg xmlns=\"http://www.w3.org/2000/svg\" xmlns:xlink=\"http://www.w3.org/1999/xlink\" width=\"600\" height=\"400\" viewBox=\"0 0 2400 1600\">\n<defs>\n  <clipPath id=\"clip280\">\n    <rect x=\"0\" y=\"0\" width=\"2400\" height=\"1600\"/>\n  </clipPath>\n</defs>\n<path clip-path=\"url(#clip280)\" d=\"\nM0 1600 L2400 1600 L2400 0 L0 0  Z\n  \" fill=\"#ffffff\" fill-rule=\"evenodd\" fill-opacity=\"1\"/>\n<defs>\n  <clipPath id=\"clip281\">\n    <rect x=\"480\" y=\"0\" width=\"1681\" height=\"1600\"/>\n  </clipPath>\n</defs>\n<path clip-path=\"url(#clip280)\" d=\"\nM47.2441 1552.76 L2352.76 1552.76 L2352.76 123.472 L47.2441 123.472  Z\n  \" fill=\"#ffffff\" fill-rule=\"evenodd\" fill-opacity=\"1\"/>\n<defs>\n  <clipPath id=\"clip282\">\n    <rect x=\"47\" y=\"123\" width=\"2307\" height=\"1430\"/>\n  </clipPath>\n</defs>\n<polyline clip-path=\"url(#clip280)\" style=\"stroke:#000000; stroke-linecap:butt; stroke-linejoin:round; stroke-width:4; stroke-opacity:1; fill:none\" points=\"\n  47.2441,1552.76 2352.76,1552.76 \n  \"/>\n<polyline clip-path=\"url(#clip280)\" style=\"stroke:#000000; stroke-linecap:butt; stroke-linejoin:round; stroke-width:4; stroke-opacity:1; fill:none\" points=\"\n  47.2441,1552.76 47.2441,123.472 \n  \"/>\n<path clip-path=\"url(#clip280)\" d=\"M932.174 17.6457 Q923.262 17.6457 917.996 24.2892 Q912.771 30.9327 912.771 42.3968 Q912.771 53.8203 917.996 60.4638 Q923.262 67.1073 932.174 67.1073 Q941.086 67.1073 946.272 60.4638 Q951.497 53.8203 951.497 42.3968 Q951.497 30.9327 946.272 24.2892 Q941.086 17.6457 932.174 17.6457 M932.174 11.0023 Q944.894 11.0023 952.51 19.5497 Q960.126 28.0566 960.126 42.3968 Q960.126 56.6965 952.51 65.2439 Q944.894 73.7508 932.174 73.7508 Q919.414 73.7508 911.758 65.2439 Q904.142 56.737 904.142 42.3968 Q904.142 28.0566 911.758 19.5497 Q919.414 11.0023 932.174 11.0023 Z\" fill=\"#000000\" fill-rule=\"evenodd\" fill-opacity=\"1\" /><path clip-path=\"url(#clip280)\" d=\"M979.813 65.7705 L979.813 89.8329 L972.319 89.8329 L972.319 27.2059 L979.813 27.2059 L979.813 34.0924 Q982.163 30.0415 985.727 28.0971 Q989.333 26.1121 994.315 26.1121 Q1002.58 26.1121 1007.72 32.6746 Q1012.91 39.2371 1012.91 49.9314 Q1012.91 60.6258 1007.72 67.1883 Q1002.58 73.7508 994.315 73.7508 Q989.333 73.7508 985.727 71.8063 Q982.163 69.8214 979.813 65.7705 M1005.17 49.9314 Q1005.17 41.7081 1001.77 37.0496 Q998.407 32.3505 992.492 32.3505 Q986.578 32.3505 983.175 37.0496 Q979.813 41.7081 979.813 49.9314 Q979.813 58.1548 983.175 62.8538 Q986.578 67.5124 992.492 67.5124 Q998.407 67.5124 1001.77 62.8538 Q1005.17 58.1548 1005.17 49.9314 Z\" fill=\"#000000\" fill-rule=\"evenodd\" fill-opacity=\"1\" /><path clip-path=\"url(#clip280)\" d=\"M1032.64 14.324 L1032.64 27.2059 L1047.99 27.2059 L1047.99 32.9987 L1032.64 32.9987 L1032.64 57.6282 Q1032.64 63.1779 1034.14 64.7578 Q1035.68 66.3376 1040.33 66.3376 L1047.99 66.3376 L1047.99 72.576 L1040.33 72.576 Q1031.71 72.576 1028.42 69.3758 Q1025.14 66.1351 1025.14 57.6282 L1025.14 32.9987 L1019.67 32.9987 L1019.67 27.2059 L1025.14 27.2059 L1025.14 14.324 L1032.64 14.324 Z\" fill=\"#000000\" fill-rule=\"evenodd\" fill-opacity=\"1\" /><path clip-path=\"url(#clip280)\" d=\"M1057.79 27.2059 L1065.25 27.2059 L1065.25 72.576 L1057.79 72.576 L1057.79 27.2059 M1057.79 9.54393 L1065.25 9.54393 L1065.25 18.9825 L1057.79 18.9825 L1057.79 9.54393 Z\" fill=\"#000000\" fill-rule=\"evenodd\" fill-opacity=\"1\" /><path clip-path=\"url(#clip280)\" d=\"M1116.17 35.9153 Q1118.96 30.8922 1122.85 28.5022 Q1126.74 26.1121 1132.01 26.1121 Q1139.09 26.1121 1142.94 31.0947 Q1146.79 36.0368 1146.79 45.1919 L1146.79 72.576 L1139.3 72.576 L1139.3 45.4349 Q1139.3 38.913 1136.99 35.7533 Q1134.68 32.5936 1129.94 32.5936 Q1124.15 32.5936 1120.78 36.4419 Q1117.42 40.2903 1117.42 46.9338 L1117.42 72.576 L1109.93 72.576 L1109.93 45.4349 Q1109.93 38.8725 1107.62 35.7533 Q1105.31 32.5936 1100.49 32.5936 Q1094.78 32.5936 1091.42 36.4824 Q1088.05 40.3308 1088.05 46.9338 L1088.05 72.576 L1080.56 72.576 L1080.56 27.2059 L1088.05 27.2059 L1088.05 34.2544 Q1090.61 30.082 1094.17 28.0971 Q1097.73 26.1121 1102.64 26.1121 Q1107.58 26.1121 1111.02 28.6237 Q1114.51 31.1352 1116.17 35.9153 Z\" fill=\"#000000\" fill-rule=\"evenodd\" fill-opacity=\"1\" /><path clip-path=\"url(#clip280)\" d=\"M1182.28 49.7694 Q1173.24 49.7694 1169.76 51.8354 Q1166.28 53.9013 1166.28 58.8839 Q1166.28 62.8538 1168.87 65.2034 Q1171.5 67.5124 1176 67.5124 Q1182.2 67.5124 1185.92 63.1374 Q1189.69 58.7219 1189.69 51.4303 L1189.69 49.7694 L1182.28 49.7694 M1197.14 46.6907 L1197.14 72.576 L1189.69 72.576 L1189.69 65.6895 Q1187.14 69.8214 1183.33 71.8063 Q1179.52 73.7508 1174.01 73.7508 Q1167.05 73.7508 1162.91 69.8619 Q1158.82 65.9325 1158.82 59.3701 Q1158.82 51.7138 1163.93 47.825 Q1169.07 43.9361 1179.24 43.9361 L1189.69 43.9361 L1189.69 43.2069 Q1189.69 38.0623 1186.29 35.2672 Q1182.93 32.4315 1176.81 32.4315 Q1172.92 32.4315 1169.23 33.3632 Q1165.55 34.295 1162.14 36.1584 L1162.14 29.2718 Q1166.24 27.692 1170.08 26.9223 Q1173.93 26.1121 1177.58 26.1121 Q1187.42 26.1121 1192.28 31.2163 Q1197.14 36.3204 1197.14 46.6907 Z\" fill=\"#000000\" fill-rule=\"evenodd\" fill-opacity=\"1\" /><path clip-path=\"url(#clip280)\" d=\"M1212.5 9.54393 L1219.95 9.54393 L1219.95 72.576 L1212.5 72.576 L1212.5 9.54393 Z\" fill=\"#000000\" fill-rule=\"evenodd\" fill-opacity=\"1\" /><path clip-path=\"url(#clip280)\" d=\"M1269.13 65.7705 L1269.13 89.8329 L1261.63 89.8329 L1261.63 27.2059 L1269.13 27.2059 L1269.13 34.0924 Q1271.48 30.0415 1275.04 28.0971 Q1278.65 26.1121 1283.63 26.1121 Q1291.89 26.1121 1297.04 32.6746 Q1302.22 39.2371 1302.22 49.9314 Q1302.22 60.6258 1297.04 67.1883 Q1291.89 73.7508 1283.63 73.7508 Q1278.65 73.7508 1275.04 71.8063 Q1271.48 69.8214 1269.13 65.7705 M1294.49 49.9314 Q1294.49 41.7081 1291.08 37.0496 Q1287.72 32.3505 1281.81 32.3505 Q1275.89 32.3505 1272.49 37.0496 Q1269.13 41.7081 1269.13 49.9314 Q1269.13 58.1548 1272.49 62.8538 Q1275.89 67.5124 1281.81 67.5124 Q1287.72 67.5124 1291.08 62.8538 Q1294.49 58.1548 1294.49 49.9314 Z\" fill=\"#000000\" fill-rule=\"evenodd\" fill-opacity=\"1\" /><path clip-path=\"url(#clip280)\" d=\"M1332.16 32.4315 Q1326.17 32.4315 1322.68 37.1306 Q1319.2 41.7891 1319.2 49.9314 Q1319.2 58.0738 1322.64 62.7728 Q1326.12 67.4314 1332.16 67.4314 Q1338.12 67.4314 1341.6 62.7323 Q1345.08 58.0333 1345.08 49.9314 Q1345.08 41.8701 1341.6 37.1711 Q1338.12 32.4315 1332.16 32.4315 M1332.16 26.1121 Q1341.88 26.1121 1347.43 32.4315 Q1352.98 38.7509 1352.98 49.9314 Q1352.98 61.0714 1347.43 67.4314 Q1341.88 73.7508 1332.16 73.7508 Q1322.4 73.7508 1316.85 67.4314 Q1311.34 61.0714 1311.34 49.9314 Q1311.34 38.7509 1316.85 32.4315 Q1322.4 26.1121 1332.16 26.1121 Z\" fill=\"#000000\" fill-rule=\"evenodd\" fill-opacity=\"1\" /><path clip-path=\"url(#clip280)\" d=\"M1365.34 9.54393 L1372.79 9.54393 L1372.79 72.576 L1365.34 72.576 L1365.34 9.54393 Z\" fill=\"#000000\" fill-rule=\"evenodd\" fill-opacity=\"1\" /><path clip-path=\"url(#clip280)\" d=\"M1388.39 27.2059 L1395.84 27.2059 L1395.84 72.576 L1388.39 72.576 L1388.39 27.2059 M1388.39 9.54393 L1395.84 9.54393 L1395.84 18.9825 L1388.39 18.9825 L1388.39 9.54393 Z\" fill=\"#000000\" fill-rule=\"evenodd\" fill-opacity=\"1\" /><path clip-path=\"url(#clip280)\" d=\"M1444.09 28.9478 L1444.09 35.9153 Q1440.93 34.1734 1437.73 33.3227 Q1434.57 32.4315 1431.33 32.4315 Q1424.08 32.4315 1420.07 37.0496 Q1416.05 41.6271 1416.05 49.9314 Q1416.05 58.2358 1420.07 62.8538 Q1424.08 67.4314 1431.33 67.4314 Q1434.57 67.4314 1437.73 66.5807 Q1440.93 65.6895 1444.09 63.9476 L1444.09 70.8341 Q1440.97 72.2924 1437.61 73.0216 Q1434.28 73.7508 1430.52 73.7508 Q1420.27 73.7508 1414.23 67.3098 Q1408.2 60.8689 1408.2 49.9314 Q1408.2 38.832 1414.27 32.472 Q1420.39 26.1121 1431 26.1121 Q1434.45 26.1121 1437.73 26.8413 Q1441.01 27.5299 1444.09 28.9478 Z\" fill=\"#000000\" fill-rule=\"evenodd\" fill-opacity=\"1\" /><path clip-path=\"url(#clip280)\" d=\"M1475.93 76.7889 Q1472.77 84.8907 1469.77 87.3618 Q1466.77 89.8329 1461.75 89.8329 L1455.79 89.8329 L1455.79 83.5945 L1460.17 83.5945 Q1463.25 83.5945 1464.95 82.1361 Q1466.65 80.6778 1468.72 75.2496 L1470.05 71.8468 L1451.7 27.2059 L1459.6 27.2059 L1473.78 62.6918 L1487.96 27.2059 L1495.86 27.2059 L1475.93 76.7889 Z\" fill=\"#000000\" fill-rule=\"evenodd\" fill-opacity=\"1\" /><path clip-path=\"url(#clip282)\" d=\"M423.21 1072.95 L336.61 1022.95 L336.61 922.952 L423.21 872.952 L509.81 922.952 L509.81 1022.95 Z\" fill=\"#a7d0e4\" fill-rule=\"evenodd\" fill-opacity=\"1\" stroke=\"#000000\" stroke-opacity=\"1\" stroke-width=\"3.2\"/>\n<path clip-path=\"url(#clip282)\" d=\"M615.854 1072.95 L529.254 1022.95 L529.254 922.952 L615.854 872.952 L702.454 922.952 L702.454 1022.95 Z\" fill=\"#a3cee3\" fill-rule=\"evenodd\" fill-opacity=\"1\" stroke=\"#000000\" stroke-opacity=\"1\" stroke-width=\"3.2\"/>\n<path clip-path=\"url(#clip282)\" d=\"M808.498 1072.95 L721.898 1022.95 L721.898 922.952 L808.498 872.952 L895.098 922.952 L895.098 1022.95 Z\" fill=\"#b1172b\" fill-rule=\"evenodd\" fill-opacity=\"1\" stroke=\"#000000\" stroke-opacity=\"1\" stroke-width=\"3.2\"/>\n<path clip-path=\"url(#clip282)\" d=\"M1001.14 1072.95 L914.542 1022.95 L914.542 922.952 L1001.14 872.952 L1087.74 922.952 L1087.74 1022.95 Z\" fill=\"#ecf1f5\" fill-rule=\"evenodd\" fill-opacity=\"1\" stroke=\"#000000\" stroke-opacity=\"1\" stroke-width=\"3.2\"/>\n<path clip-path=\"url(#clip282)\" d=\"M516.425 911.146 L429.825 861.146 L429.825 761.146 L516.425 711.146 L603.025 761.146 L603.025 861.146 Z\" fill=\"#92c5de\" fill-rule=\"evenodd\" fill-opacity=\"1\" stroke=\"#000000\" stroke-opacity=\"1\" stroke-width=\"3.2\"/>\n<path clip-path=\"url(#clip282)\" d=\"M709.069 911.146 L622.469 861.146 L622.469 761.146 L709.069 711.146 L795.669 761.146 L795.669 861.146 Z\" fill=\"#a3cde3\" fill-rule=\"evenodd\" fill-opacity=\"1\" stroke=\"#000000\" stroke-opacity=\"1\" stroke-width=\"3.2\"/>\n<path clip-path=\"url(#clip282)\" d=\"M901.713 911.146 L815.113 861.146 L815.113 761.146 L901.713 711.146 L988.313 761.146 L988.313 861.146 Z\" fill=\"#bbdae9\" fill-rule=\"evenodd\" fill-opacity=\"1\" stroke=\"#000000\" stroke-opacity=\"1\" stroke-width=\"3.2\"/>\n<path clip-path=\"url(#clip282)\" d=\"M416.996 749.341 L330.396 699.341 L330.396 599.341 L416.996 549.341 L503.596 599.341 L503.596 699.341 Z\" fill=\"#a7d0e4\" fill-rule=\"evenodd\" fill-opacity=\"1\" stroke=\"#000000\" stroke-opacity=\"1\" stroke-width=\"3.2\"/>\n<path clip-path=\"url(#clip282)\" d=\"M609.64 749.341 L523.04 699.341 L523.04 599.341 L609.64 549.341 L696.24 599.341 L696.24 699.341 Z\" fill=\"#a3cee3\" fill-rule=\"evenodd\" fill-opacity=\"1\" stroke=\"#000000\" stroke-opacity=\"1\" stroke-width=\"3.2\"/>\n<path clip-path=\"url(#clip282)\" d=\"M802.284 749.341 L715.684 699.341 L715.684 599.341 L802.284 549.341 L888.884 599.341 L888.884 699.341 Z\" fill=\"#b1d5e7\" fill-rule=\"evenodd\" fill-opacity=\"1\" stroke=\"#000000\" stroke-opacity=\"1\" stroke-width=\"3.2\"/>\n<path clip-path=\"url(#clip282)\" d=\"M994.928 749.341 L908.328 699.341 L908.328 599.341 L994.928 549.341 L1081.53 599.341 L1081.53 699.341 Z\" fill=\"#c2ddeb\" fill-rule=\"evenodd\" fill-opacity=\"1\" stroke=\"#000000\" stroke-opacity=\"1\" stroke-width=\"3.2\"/>\n<path clip-path=\"url(#clip282)\" d=\"M1187.57 749.341 L1100.97 699.341 L1100.97 599.341 L1187.57 549.341 L1274.17 599.341 L1274.17 699.341 Z\" fill=\"#c4deec\" fill-rule=\"evenodd\" fill-opacity=\"1\" stroke=\"#000000\" stroke-opacity=\"1\" stroke-width=\"3.2\"/>\n<path clip-path=\"url(#clip282)\" d=\"M1380.22 749.341 L1293.62 699.341 L1293.62 599.341 L1380.22 549.341 L1466.82 599.341 L1466.82 699.341 Z\" fill=\"#b2d5e7\" fill-rule=\"evenodd\" fill-opacity=\"1\" stroke=\"#000000\" stroke-opacity=\"1\" stroke-width=\"3.2\"/>\n<path clip-path=\"url(#clip282)\" d=\"M1572.86 749.341 L1486.26 699.341 L1486.26 599.341 L1572.86 549.341 L1659.46 599.341 L1659.46 699.341 Z\" fill=\"#97c7df\" fill-rule=\"evenodd\" fill-opacity=\"1\" stroke=\"#000000\" stroke-opacity=\"1\" stroke-width=\"3.2\"/>\n<path clip-path=\"url(#clip282)\" d=\"M1765.5 749.341 L1678.9 699.341 L1678.9 599.341 L1765.5 549.341 L1852.1 599.341 L1852.1 699.341 Z\" fill=\"#71b0d2\" fill-rule=\"evenodd\" fill-opacity=\"1\" stroke=\"#000000\" stroke-opacity=\"1\" stroke-width=\"3.2\"/>\n<path clip-path=\"url(#clip282)\" d=\"M1958.15 749.341 L1871.55 699.341 L1871.55 599.341 L1958.15 549.341 L2044.75 599.341 L2044.75 699.341 Z\" fill=\"#519cc8\" fill-rule=\"evenodd\" fill-opacity=\"1\" stroke=\"#000000\" stroke-opacity=\"1\" stroke-width=\"3.2\"/>\n<path clip-path=\"url(#clip282)\" d=\"M2150.79 749.341 L2064.19 699.341 L2064.19 599.341 L2150.79 549.341 L2237.39 599.341 L2237.39 699.341 Z\" fill=\"#559ec9\" fill-rule=\"evenodd\" fill-opacity=\"1\" stroke=\"#000000\" stroke-opacity=\"1\" stroke-width=\"3.2\"/>\n<path clip-path=\"url(#clip282)\" d=\"M1287 911.146 L1200.4 861.146 L1200.4 761.146 L1287 711.146 L1373.6 761.146 L1373.6 861.146 Z\" fill=\"#c4deec\" fill-rule=\"evenodd\" fill-opacity=\"1\" stroke=\"#000000\" stroke-opacity=\"1\" stroke-width=\"3.2\"/>\n<path clip-path=\"url(#clip282)\" d=\"M1386.43 1072.95 L1299.83 1022.95 L1299.83 922.952 L1386.43 872.952 L1473.03 922.952 L1473.03 1022.95 Z\" fill=\"#bbd9e9\" fill-rule=\"evenodd\" fill-opacity=\"1\" stroke=\"#000000\" stroke-opacity=\"1\" stroke-width=\"3.2\"/>\n<path clip-path=\"url(#clip282)\" d=\"M1579.07 1072.95 L1492.47 1022.95 L1492.47 922.952 L1579.07 872.952 L1665.67 922.952 L1665.67 1022.95 Z\" fill=\"#a1cce2\" fill-rule=\"evenodd\" fill-opacity=\"1\" stroke=\"#000000\" stroke-opacity=\"1\" stroke-width=\"3.2\"/>\n<path clip-path=\"url(#clip282)\" d=\"M1771.72 1072.95 L1685.12 1022.95 L1685.12 922.952 L1771.72 872.952 L1858.32 922.952 L1858.32 1022.95 Z\" fill=\"#80b9d8\" fill-rule=\"evenodd\" fill-opacity=\"1\" stroke=\"#000000\" stroke-opacity=\"1\" stroke-width=\"3.2\"/>\n<path clip-path=\"url(#clip282)\" d=\"M1864.93 911.146 L1778.33 861.146 L1778.33 761.146 L1864.93 711.146 L1951.53 761.146 L1951.53 861.146 Z\" fill=\"#559ec9\" fill-rule=\"evenodd\" fill-opacity=\"1\" stroke=\"#000000\" stroke-opacity=\"1\" stroke-width=\"3.2\"/>\n<path clip-path=\"url(#clip282)\" d=\"M2057.58 911.146 L1970.98 861.146 L1970.98 761.146 L2057.58 711.146 L2144.18 761.146 L2144.18 861.146 Z\" fill=\"#3985bc\" fill-rule=\"evenodd\" fill-opacity=\"1\" stroke=\"#000000\" stroke-opacity=\"1\" stroke-width=\"3.2\"/>\n<path clip-path=\"url(#clip282)\" d=\"M2157 1072.95 L2070.4 1022.95 L2070.4 922.952 L2157 872.952 L2243.6 922.952 L2243.6 1022.95 Z\" fill=\"#2066ac\" fill-rule=\"evenodd\" fill-opacity=\"1\" stroke=\"#000000\" stroke-opacity=\"1\" stroke-width=\"3.2\"/>\n<polyline clip-path=\"url(#clip282)\" style=\"stroke:#000000; stroke-linecap:butt; stroke-linejoin:round; stroke-width:8; stroke-opacity:1; fill:none\" points=\"\n  469.818,932.501 472.925,929.804 \n  \"/>\n<polyline clip-path=\"url(#clip282)\" style=\"stroke:#000000; stroke-linecap:butt; stroke-linejoin:round; stroke-width:8; stroke-opacity:1; fill:none\" points=\"\n  433.938,939.807 472.925,929.804 457.535,966.995 \n  \"/>\n<polyline clip-path=\"url(#clip282)\" style=\"stroke:#000000; stroke-linecap:butt; stroke-linejoin:round; stroke-width:8; stroke-opacity:1; fill:none\" points=\"\n  472.925,929.804 469.818,932.501 \n  \"/>\n<polyline clip-path=\"url(#clip282)\" style=\"stroke:#000000; stroke-linecap:butt; stroke-linejoin:round; stroke-width:8; stroke-opacity:1; fill:none\" points=\"\n  569.247,932.501 566.14,929.804 \n  \"/>\n<polyline clip-path=\"url(#clip282)\" style=\"stroke:#000000; stroke-linecap:butt; stroke-linejoin:round; stroke-width:8; stroke-opacity:1; fill:none\" points=\"\n  581.529,966.995 566.14,929.804 605.126,939.807 \n  \"/>\n<polyline clip-path=\"url(#clip282)\" style=\"stroke:#000000; stroke-linecap:butt; stroke-linejoin:round; stroke-width:8; stroke-opacity:1; fill:none\" points=\"\n  566.14,929.804 569.247,932.501 \n  \"/>\n<polyline clip-path=\"url(#clip282)\" style=\"stroke:#000000; stroke-linecap:butt; stroke-linejoin:round; stroke-width:8; stroke-opacity:1; fill:none\" points=\"\n  855.105,972.952 858.213,972.952 \n  \"/>\n<polyline clip-path=\"url(#clip282)\" style=\"stroke:#000000; stroke-linecap:butt; stroke-linejoin:round; stroke-width:8; stroke-opacity:1; fill:none\" points=\"\n  822.213,954.952 858.213,972.952 822.213,990.952 \n  \"/>\n<polyline clip-path=\"url(#clip282)\" style=\"stroke:#000000; stroke-linecap:butt; stroke-linejoin:round; stroke-width:8; stroke-opacity:1; fill:none\" points=\"\n  858.213,972.952 855.105,972.952 \n  \"/>\n<polyline clip-path=\"url(#clip282)\" style=\"stroke:#000000; stroke-linecap:butt; stroke-linejoin:round; stroke-width:8; stroke-opacity:1; fill:none\" points=\"\n  954.534,932.501 951.427,929.804 \n  \"/>\n<polyline clip-path=\"url(#clip282)\" style=\"stroke:#000000; stroke-linecap:butt; stroke-linejoin:round; stroke-width:8; stroke-opacity:1; fill:none\" points=\"\n  966.817,966.995 951.427,929.804 990.414,939.807 \n  \"/>\n<polyline clip-path=\"url(#clip282)\" style=\"stroke:#000000; stroke-linecap:butt; stroke-linejoin:round; stroke-width:8; stroke-opacity:1; fill:none\" points=\"\n  951.427,929.804 954.534,932.501 \n  \"/>\n<polyline clip-path=\"url(#clip282)\" style=\"stroke:#000000; stroke-linecap:butt; stroke-linejoin:round; stroke-width:8; stroke-opacity:1; fill:none\" points=\"\n  563.032,811.146 566.14,811.146 \n  \"/>\n<polyline clip-path=\"url(#clip282)\" style=\"stroke:#000000; stroke-linecap:butt; stroke-linejoin:round; stroke-width:8; stroke-opacity:1; fill:none\" points=\"\n  530.14,793.146 566.14,811.146 530.14,829.146 \n  \"/>\n<polyline clip-path=\"url(#clip282)\" style=\"stroke:#000000; stroke-linecap:butt; stroke-linejoin:round; stroke-width:8; stroke-opacity:1; fill:none\" points=\"\n  566.14,811.146 563.032,811.146 \n  \"/>\n<polyline clip-path=\"url(#clip282)\" style=\"stroke:#000000; stroke-linecap:butt; stroke-linejoin:round; stroke-width:8; stroke-opacity:1; fill:none\" points=\"\n  662.462,811.146 659.354,811.146 \n  \"/>\n<polyline clip-path=\"url(#clip282)\" style=\"stroke:#000000; stroke-linecap:butt; stroke-linejoin:round; stroke-width:8; stroke-opacity:1; fill:none\" points=\"\n  695.354,829.146 659.354,811.146 695.354,793.146 \n  \"/>\n<polyline clip-path=\"url(#clip282)\" style=\"stroke:#000000; stroke-linecap:butt; stroke-linejoin:round; stroke-width:8; stroke-opacity:1; fill:none\" points=\"\n  659.354,811.146 662.462,811.146 \n  \"/>\n<polyline clip-path=\"url(#clip282)\" style=\"stroke:#000000; stroke-linecap:butt; stroke-linejoin:round; stroke-width:8; stroke-opacity:1; fill:none\" points=\"\n  855.105,770.695 851.998,767.998 \n  \"/>\n<polyline clip-path=\"url(#clip282)\" style=\"stroke:#000000; stroke-linecap:butt; stroke-linejoin:round; stroke-width:8; stroke-opacity:1; fill:none\" points=\"\n  867.388,805.189 851.998,767.998 890.985,778.001 \n  \"/>\n<polyline clip-path=\"url(#clip282)\" style=\"stroke:#000000; stroke-linecap:butt; stroke-linejoin:round; stroke-width:8; stroke-opacity:1; fill:none\" points=\"\n  851.998,767.998 855.105,770.695 \n  \"/>\n<polyline clip-path=\"url(#clip282)\" style=\"stroke:#000000; stroke-linecap:butt; stroke-linejoin:round; stroke-width:8; stroke-opacity:1; fill:none\" points=\"\n  463.603,689.792 466.711,692.489 \n  \"/>\n<polyline clip-path=\"url(#clip282)\" style=\"stroke:#000000; stroke-linecap:butt; stroke-linejoin:round; stroke-width:8; stroke-opacity:1; fill:none\" points=\"\n  451.321,655.298 466.711,692.489 427.724,682.486 \n  \"/>\n<polyline clip-path=\"url(#clip282)\" style=\"stroke:#000000; stroke-linecap:butt; stroke-linejoin:round; stroke-width:8; stroke-opacity:1; fill:none\" points=\"\n  466.711,692.489 463.603,689.792 \n  \"/>\n<polyline clip-path=\"url(#clip282)\" style=\"stroke:#000000; stroke-linecap:butt; stroke-linejoin:round; stroke-width:8; stroke-opacity:1; fill:none\" points=\"\n  563.032,689.792 559.925,692.489 \n  \"/>\n<polyline clip-path=\"url(#clip282)\" style=\"stroke:#000000; stroke-linecap:butt; stroke-linejoin:round; stroke-width:8; stroke-opacity:1; fill:none\" points=\"\n  598.912,682.486 559.925,692.489 575.315,655.298 \n  \"/>\n<polyline clip-path=\"url(#clip282)\" style=\"stroke:#000000; stroke-linecap:butt; stroke-linejoin:round; stroke-width:8; stroke-opacity:1; fill:none\" points=\"\n  559.925,692.489 563.032,689.792 \n  \"/>\n<polyline clip-path=\"url(#clip282)\" style=\"stroke:#000000; stroke-linecap:butt; stroke-linejoin:round; stroke-width:8; stroke-opacity:1; fill:none\" points=\"\n  755.676,689.792 752.569,692.489 \n  \"/>\n<polyline clip-path=\"url(#clip282)\" style=\"stroke:#000000; stroke-linecap:butt; stroke-linejoin:round; stroke-width:8; stroke-opacity:1; fill:none\" points=\"\n  791.556,682.486 752.569,692.489 767.959,655.298 \n  \"/>\n<polyline clip-path=\"url(#clip282)\" style=\"stroke:#000000; stroke-linecap:butt; stroke-linejoin:round; stroke-width:8; stroke-opacity:1; fill:none\" points=\"\n  752.569,692.489 755.676,689.792 \n  \"/>\n<polyline clip-path=\"url(#clip282)\" style=\"stroke:#000000; stroke-linecap:butt; stroke-linejoin:round; stroke-width:8; stroke-opacity:1; fill:none\" points=\"\n  948.32,649.341 945.213,649.341 \n  \"/>\n<polyline clip-path=\"url(#clip282)\" style=\"stroke:#000000; stroke-linecap:butt; stroke-linejoin:round; stroke-width:8; stroke-opacity:1; fill:none\" points=\"\n  981.213,667.341 945.213,649.341 981.213,631.341 \n  \"/>\n<polyline clip-path=\"url(#clip282)\" style=\"stroke:#000000; stroke-linecap:butt; stroke-linejoin:round; stroke-width:8; stroke-opacity:1; fill:none\" points=\"\n  945.213,649.341 948.32,649.341 \n  \"/>\n<polyline clip-path=\"url(#clip282)\" style=\"stroke:#000000; stroke-linecap:butt; stroke-linejoin:round; stroke-width:8; stroke-opacity:1; fill:none\" points=\"\n  1234.18,649.341 1237.29,649.341 \n  \"/>\n<polyline clip-path=\"url(#clip282)\" style=\"stroke:#000000; stroke-linecap:butt; stroke-linejoin:round; stroke-width:8; stroke-opacity:1; fill:none\" points=\"\n  1201.29,631.341 1237.29,649.341 1201.29,667.341 \n  \"/>\n<polyline clip-path=\"url(#clip282)\" style=\"stroke:#000000; stroke-linecap:butt; stroke-linejoin:round; stroke-width:8; stroke-opacity:1; fill:none\" points=\"\n  1237.29,649.341 1234.18,649.341 \n  \"/>\n<polyline clip-path=\"url(#clip282)\" style=\"stroke:#000000; stroke-linecap:butt; stroke-linejoin:round; stroke-width:8; stroke-opacity:1; fill:none\" points=\"\n  1426.82,649.341 1429.93,649.341 \n  \"/>\n<polyline clip-path=\"url(#clip282)\" style=\"stroke:#000000; stroke-linecap:butt; stroke-linejoin:round; stroke-width:8; stroke-opacity:1; fill:none\" points=\"\n  1393.93,631.341 1429.93,649.341 1393.93,667.341 \n  \"/>\n<polyline clip-path=\"url(#clip282)\" style=\"stroke:#000000; stroke-linecap:butt; stroke-linejoin:round; stroke-width:8; stroke-opacity:1; fill:none\" points=\"\n  1429.93,649.341 1426.82,649.341 \n  \"/>\n<polyline clip-path=\"url(#clip282)\" style=\"stroke:#000000; stroke-linecap:butt; stroke-linejoin:round; stroke-width:8; stroke-opacity:1; fill:none\" points=\"\n  1619.47,649.341 1622.57,649.341 \n  \"/>\n<polyline clip-path=\"url(#clip282)\" style=\"stroke:#000000; stroke-linecap:butt; stroke-linejoin:round; stroke-width:8; stroke-opacity:1; fill:none\" points=\"\n  1586.57,631.341 1622.57,649.341 1586.57,667.341 \n  \"/>\n<polyline clip-path=\"url(#clip282)\" style=\"stroke:#000000; stroke-linecap:butt; stroke-linejoin:round; stroke-width:8; stroke-opacity:1; fill:none\" points=\"\n  1622.57,649.341 1619.47,649.341 \n  \"/>\n<polyline clip-path=\"url(#clip282)\" style=\"stroke:#000000; stroke-linecap:butt; stroke-linejoin:round; stroke-width:8; stroke-opacity:1; fill:none\" points=\"\n  1812.11,649.341 1815.22,649.341 \n  \"/>\n<polyline clip-path=\"url(#clip282)\" style=\"stroke:#000000; stroke-linecap:butt; stroke-linejoin:round; stroke-width:8; stroke-opacity:1; fill:none\" points=\"\n  1779.22,631.341 1815.22,649.341 1779.22,667.341 \n  \"/>\n<polyline clip-path=\"url(#clip282)\" style=\"stroke:#000000; stroke-linecap:butt; stroke-linejoin:round; stroke-width:8; stroke-opacity:1; fill:none\" points=\"\n  1815.22,649.341 1812.11,649.341 \n  \"/>\n<polyline clip-path=\"url(#clip282)\" style=\"stroke:#000000; stroke-linecap:butt; stroke-linejoin:round; stroke-width:8; stroke-opacity:1; fill:none\" points=\"\n  2004.75,689.792 2007.86,692.489 \n  \"/>\n<polyline clip-path=\"url(#clip282)\" style=\"stroke:#000000; stroke-linecap:butt; stroke-linejoin:round; stroke-width:8; stroke-opacity:1; fill:none\" points=\"\n  1992.47,655.298 2007.86,692.489 1968.87,682.486 \n  \"/>\n<polyline clip-path=\"url(#clip282)\" style=\"stroke:#000000; stroke-linecap:butt; stroke-linejoin:round; stroke-width:8; stroke-opacity:1; fill:none\" points=\"\n  2007.86,692.489 2004.75,689.792 \n  \"/>\n<polyline clip-path=\"url(#clip282)\" style=\"stroke:#000000; stroke-linecap:butt; stroke-linejoin:round; stroke-width:8; stroke-opacity:1; fill:none\" points=\"\n  2104.18,689.792 2101.08,692.489 \n  \"/>\n<polyline clip-path=\"url(#clip282)\" style=\"stroke:#000000; stroke-linecap:butt; stroke-linejoin:round; stroke-width:8; stroke-opacity:1; fill:none\" points=\"\n  2140.06,682.486 2101.08,692.489 2116.47,655.298 \n  \"/>\n<polyline clip-path=\"url(#clip282)\" style=\"stroke:#000000; stroke-linecap:butt; stroke-linejoin:round; stroke-width:8; stroke-opacity:1; fill:none\" points=\"\n  2101.08,692.489 2104.18,689.792 \n  \"/>\n<polyline clip-path=\"url(#clip282)\" style=\"stroke:#000000; stroke-linecap:butt; stroke-linejoin:round; stroke-width:8; stroke-opacity:1; fill:none\" points=\"\n  1333.61,770.695 1336.71,767.998 \n  \"/>\n<polyline clip-path=\"url(#clip282)\" style=\"stroke:#000000; stroke-linecap:butt; stroke-linejoin:round; stroke-width:8; stroke-opacity:1; fill:none\" points=\"\n  1297.73,778.001 1336.71,767.998 1321.33,805.189 \n  \"/>\n<polyline clip-path=\"url(#clip282)\" style=\"stroke:#000000; stroke-linecap:butt; stroke-linejoin:round; stroke-width:8; stroke-opacity:1; fill:none\" points=\"\n  1336.71,767.998 1333.61,770.695 \n  \"/>\n<polyline clip-path=\"url(#clip282)\" style=\"stroke:#000000; stroke-linecap:butt; stroke-linejoin:round; stroke-width:8; stroke-opacity:1; fill:none\" points=\"\n  1433.04,972.952 1436.14,972.952 \n  \"/>\n<polyline clip-path=\"url(#clip282)\" style=\"stroke:#000000; stroke-linecap:butt; stroke-linejoin:round; stroke-width:8; stroke-opacity:1; fill:none\" points=\"\n  1400.14,954.952 1436.14,972.952 1400.14,990.952 \n  \"/>\n<polyline clip-path=\"url(#clip282)\" style=\"stroke:#000000; stroke-linecap:butt; stroke-linejoin:round; stroke-width:8; stroke-opacity:1; fill:none\" points=\"\n  1436.14,972.952 1433.04,972.952 \n  \"/>\n<polyline clip-path=\"url(#clip282)\" style=\"stroke:#000000; stroke-linecap:butt; stroke-linejoin:round; stroke-width:8; stroke-opacity:1; fill:none\" points=\"\n  1625.68,972.952 1628.79,972.952 \n  \"/>\n<polyline clip-path=\"url(#clip282)\" style=\"stroke:#000000; stroke-linecap:butt; stroke-linejoin:round; stroke-width:8; stroke-opacity:1; fill:none\" points=\"\n  1592.79,954.952 1628.79,972.952 1592.79,990.952 \n  \"/>\n<polyline clip-path=\"url(#clip282)\" style=\"stroke:#000000; stroke-linecap:butt; stroke-linejoin:round; stroke-width:8; stroke-opacity:1; fill:none\" points=\"\n  1628.79,972.952 1625.68,972.952 \n  \"/>\n<polyline clip-path=\"url(#clip282)\" style=\"stroke:#000000; stroke-linecap:butt; stroke-linejoin:round; stroke-width:8; stroke-opacity:1; fill:none\" points=\"\n  1818.32,932.501 1821.43,929.804 \n  \"/>\n<polyline clip-path=\"url(#clip282)\" style=\"stroke:#000000; stroke-linecap:butt; stroke-linejoin:round; stroke-width:8; stroke-opacity:1; fill:none\" points=\"\n  1782.45,939.807 1821.43,929.804 1806.04,966.995 \n  \"/>\n<polyline clip-path=\"url(#clip282)\" style=\"stroke:#000000; stroke-linecap:butt; stroke-linejoin:round; stroke-width:8; stroke-opacity:1; fill:none\" points=\"\n  1821.43,929.804 1818.32,932.501 \n  \"/>\n<polyline clip-path=\"url(#clip282)\" style=\"stroke:#000000; stroke-linecap:butt; stroke-linejoin:round; stroke-width:8; stroke-opacity:1; fill:none\" points=\"\n  1911.54,811.146 1914.65,811.146 \n  \"/>\n<polyline clip-path=\"url(#clip282)\" style=\"stroke:#000000; stroke-linecap:butt; stroke-linejoin:round; stroke-width:8; stroke-opacity:1; fill:none\" points=\"\n  1878.65,793.146 1914.65,811.146 1878.65,829.146 \n  \"/>\n<polyline clip-path=\"url(#clip282)\" style=\"stroke:#000000; stroke-linecap:butt; stroke-linejoin:round; stroke-width:8; stroke-opacity:1; fill:none\" points=\"\n  1914.65,811.146 1911.54,811.146 \n  \"/>\n<polyline clip-path=\"url(#clip282)\" style=\"stroke:#000000; stroke-linecap:butt; stroke-linejoin:round; stroke-width:8; stroke-opacity:1; fill:none\" points=\"\n  2104.18,851.598 2107.29,854.295 \n  \"/>\n<polyline clip-path=\"url(#clip282)\" style=\"stroke:#000000; stroke-linecap:butt; stroke-linejoin:round; stroke-width:8; stroke-opacity:1; fill:none\" points=\"\n  2091.9,817.104 2107.29,854.295 2068.3,844.292 \n  \"/>\n<polyline clip-path=\"url(#clip282)\" style=\"stroke:#000000; stroke-linecap:butt; stroke-linejoin:round; stroke-width:8; stroke-opacity:1; fill:none\" points=\"\n  2107.29,854.295 2104.18,851.598 \n  \"/>\n<polyline clip-path=\"url(#clip282)\" style=\"stroke:#000000; stroke-linecap:butt; stroke-linejoin:round; stroke-width:8; stroke-opacity:1; fill:none\" points=\"\n  2203.61,972.952 2206.72,972.952 \n  \"/>\n<polyline clip-path=\"url(#clip282)\" style=\"stroke:#000000; stroke-linecap:butt; stroke-linejoin:round; stroke-width:8; stroke-opacity:1; fill:none\" points=\"\n  2170.72,954.952 2206.72,972.952 2170.72,990.952 \n  \"/>\n<polyline clip-path=\"url(#clip282)\" style=\"stroke:#000000; stroke-linecap:butt; stroke-linejoin:round; stroke-width:8; stroke-opacity:1; fill:none\" points=\"\n  2206.72,972.952 2203.61,972.952 \n  \"/>\n<path clip-path=\"url(#clip282)\" d=\"\nM112.494 1512.3 L2287.51 1512.3 L2287.51 163.924 L112.494 163.924 L112.494 1512.3  Z\n  \" fill=\"#8e971d\" fill-rule=\"evenodd\" fill-opacity=\"0\"/>\n<polyline clip-path=\"url(#clip282)\" style=\"stroke:#000000; stroke-linecap:butt; stroke-linejoin:round; stroke-width:4; stroke-opacity:0; fill:none\" points=\"\n  112.494,1512.3 2287.51,1512.3 2287.51,163.924 112.494,163.924 112.494,1512.3 \n  \"/>\n</svg>\n",
      "text/html": [
       "<?xml version=\"1.0\" encoding=\"utf-8\"?>\n",
       "<svg xmlns=\"http://www.w3.org/2000/svg\" xmlns:xlink=\"http://www.w3.org/1999/xlink\" width=\"600\" height=\"400\" viewBox=\"0 0 2400 1600\">\n",
       "<defs>\n",
       "  <clipPath id=\"clip330\">\n",
       "    <rect x=\"0\" y=\"0\" width=\"2400\" height=\"1600\"/>\n",
       "  </clipPath>\n",
       "</defs>\n",
       "<path clip-path=\"url(#clip330)\" d=\"\n",
       "M0 1600 L2400 1600 L2400 0 L0 0  Z\n",
       "  \" fill=\"#ffffff\" fill-rule=\"evenodd\" fill-opacity=\"1\"/>\n",
       "<defs>\n",
       "  <clipPath id=\"clip331\">\n",
       "    <rect x=\"480\" y=\"0\" width=\"1681\" height=\"1600\"/>\n",
       "  </clipPath>\n",
       "</defs>\n",
       "<path clip-path=\"url(#clip330)\" d=\"\n",
       "M47.2441 1552.76 L2352.76 1552.76 L2352.76 123.472 L47.2441 123.472  Z\n",
       "  \" fill=\"#ffffff\" fill-rule=\"evenodd\" fill-opacity=\"1\"/>\n",
       "<defs>\n",
       "  <clipPath id=\"clip332\">\n",
       "    <rect x=\"47\" y=\"123\" width=\"2307\" height=\"1430\"/>\n",
       "  </clipPath>\n",
       "</defs>\n",
       "<polyline clip-path=\"url(#clip330)\" style=\"stroke:#000000; stroke-linecap:butt; stroke-linejoin:round; stroke-width:4; stroke-opacity:1; fill:none\" points=\"\n",
       "  47.2441,1552.76 2352.76,1552.76 \n",
       "  \"/>\n",
       "<polyline clip-path=\"url(#clip330)\" style=\"stroke:#000000; stroke-linecap:butt; stroke-linejoin:round; stroke-width:4; stroke-opacity:1; fill:none\" points=\"\n",
       "  47.2441,1552.76 47.2441,123.472 \n",
       "  \"/>\n",
       "<path clip-path=\"url(#clip330)\" d=\"M932.174 17.6457 Q923.262 17.6457 917.996 24.2892 Q912.771 30.9327 912.771 42.3968 Q912.771 53.8203 917.996 60.4638 Q923.262 67.1073 932.174 67.1073 Q941.086 67.1073 946.272 60.4638 Q951.497 53.8203 951.497 42.3968 Q951.497 30.9327 946.272 24.2892 Q941.086 17.6457 932.174 17.6457 M932.174 11.0023 Q944.894 11.0023 952.51 19.5497 Q960.126 28.0566 960.126 42.3968 Q960.126 56.6965 952.51 65.2439 Q944.894 73.7508 932.174 73.7508 Q919.414 73.7508 911.758 65.2439 Q904.142 56.737 904.142 42.3968 Q904.142 28.0566 911.758 19.5497 Q919.414 11.0023 932.174 11.0023 Z\" fill=\"#000000\" fill-rule=\"evenodd\" fill-opacity=\"1\" /><path clip-path=\"url(#clip330)\" d=\"M979.813 65.7705 L979.813 89.8329 L972.319 89.8329 L972.319 27.2059 L979.813 27.2059 L979.813 34.0924 Q982.163 30.0415 985.727 28.0971 Q989.333 26.1121 994.315 26.1121 Q1002.58 26.1121 1007.72 32.6746 Q1012.91 39.2371 1012.91 49.9314 Q1012.91 60.6258 1007.72 67.1883 Q1002.58 73.7508 994.315 73.7508 Q989.333 73.7508 985.727 71.8063 Q982.163 69.8214 979.813 65.7705 M1005.17 49.9314 Q1005.17 41.7081 1001.77 37.0496 Q998.407 32.3505 992.492 32.3505 Q986.578 32.3505 983.175 37.0496 Q979.813 41.7081 979.813 49.9314 Q979.813 58.1548 983.175 62.8538 Q986.578 67.5124 992.492 67.5124 Q998.407 67.5124 1001.77 62.8538 Q1005.17 58.1548 1005.17 49.9314 Z\" fill=\"#000000\" fill-rule=\"evenodd\" fill-opacity=\"1\" /><path clip-path=\"url(#clip330)\" d=\"M1032.64 14.324 L1032.64 27.2059 L1047.99 27.2059 L1047.99 32.9987 L1032.64 32.9987 L1032.64 57.6282 Q1032.64 63.1779 1034.14 64.7578 Q1035.68 66.3376 1040.33 66.3376 L1047.99 66.3376 L1047.99 72.576 L1040.33 72.576 Q1031.71 72.576 1028.42 69.3758 Q1025.14 66.1351 1025.14 57.6282 L1025.14 32.9987 L1019.67 32.9987 L1019.67 27.2059 L1025.14 27.2059 L1025.14 14.324 L1032.64 14.324 Z\" fill=\"#000000\" fill-rule=\"evenodd\" fill-opacity=\"1\" /><path clip-path=\"url(#clip330)\" d=\"M1057.79 27.2059 L1065.25 27.2059 L1065.25 72.576 L1057.79 72.576 L1057.79 27.2059 M1057.79 9.54393 L1065.25 9.54393 L1065.25 18.9825 L1057.79 18.9825 L1057.79 9.54393 Z\" fill=\"#000000\" fill-rule=\"evenodd\" fill-opacity=\"1\" /><path clip-path=\"url(#clip330)\" d=\"M1116.17 35.9153 Q1118.96 30.8922 1122.85 28.5022 Q1126.74 26.1121 1132.01 26.1121 Q1139.09 26.1121 1142.94 31.0947 Q1146.79 36.0368 1146.79 45.1919 L1146.79 72.576 L1139.3 72.576 L1139.3 45.4349 Q1139.3 38.913 1136.99 35.7533 Q1134.68 32.5936 1129.94 32.5936 Q1124.15 32.5936 1120.78 36.4419 Q1117.42 40.2903 1117.42 46.9338 L1117.42 72.576 L1109.93 72.576 L1109.93 45.4349 Q1109.93 38.8725 1107.62 35.7533 Q1105.31 32.5936 1100.49 32.5936 Q1094.78 32.5936 1091.42 36.4824 Q1088.05 40.3308 1088.05 46.9338 L1088.05 72.576 L1080.56 72.576 L1080.56 27.2059 L1088.05 27.2059 L1088.05 34.2544 Q1090.61 30.082 1094.17 28.0971 Q1097.73 26.1121 1102.64 26.1121 Q1107.58 26.1121 1111.02 28.6237 Q1114.51 31.1352 1116.17 35.9153 Z\" fill=\"#000000\" fill-rule=\"evenodd\" fill-opacity=\"1\" /><path clip-path=\"url(#clip330)\" d=\"M1182.28 49.7694 Q1173.24 49.7694 1169.76 51.8354 Q1166.28 53.9013 1166.28 58.8839 Q1166.28 62.8538 1168.87 65.2034 Q1171.5 67.5124 1176 67.5124 Q1182.2 67.5124 1185.92 63.1374 Q1189.69 58.7219 1189.69 51.4303 L1189.69 49.7694 L1182.28 49.7694 M1197.14 46.6907 L1197.14 72.576 L1189.69 72.576 L1189.69 65.6895 Q1187.14 69.8214 1183.33 71.8063 Q1179.52 73.7508 1174.01 73.7508 Q1167.05 73.7508 1162.91 69.8619 Q1158.82 65.9325 1158.82 59.3701 Q1158.82 51.7138 1163.93 47.825 Q1169.07 43.9361 1179.24 43.9361 L1189.69 43.9361 L1189.69 43.2069 Q1189.69 38.0623 1186.29 35.2672 Q1182.93 32.4315 1176.81 32.4315 Q1172.92 32.4315 1169.23 33.3632 Q1165.55 34.295 1162.14 36.1584 L1162.14 29.2718 Q1166.24 27.692 1170.08 26.9223 Q1173.93 26.1121 1177.58 26.1121 Q1187.42 26.1121 1192.28 31.2163 Q1197.14 36.3204 1197.14 46.6907 Z\" fill=\"#000000\" fill-rule=\"evenodd\" fill-opacity=\"1\" /><path clip-path=\"url(#clip330)\" d=\"M1212.5 9.54393 L1219.95 9.54393 L1219.95 72.576 L1212.5 72.576 L1212.5 9.54393 Z\" fill=\"#000000\" fill-rule=\"evenodd\" fill-opacity=\"1\" /><path clip-path=\"url(#clip330)\" d=\"M1269.13 65.7705 L1269.13 89.8329 L1261.63 89.8329 L1261.63 27.2059 L1269.13 27.2059 L1269.13 34.0924 Q1271.48 30.0415 1275.04 28.0971 Q1278.65 26.1121 1283.63 26.1121 Q1291.89 26.1121 1297.04 32.6746 Q1302.22 39.2371 1302.22 49.9314 Q1302.22 60.6258 1297.04 67.1883 Q1291.89 73.7508 1283.63 73.7508 Q1278.65 73.7508 1275.04 71.8063 Q1271.48 69.8214 1269.13 65.7705 M1294.49 49.9314 Q1294.49 41.7081 1291.08 37.0496 Q1287.72 32.3505 1281.81 32.3505 Q1275.89 32.3505 1272.49 37.0496 Q1269.13 41.7081 1269.13 49.9314 Q1269.13 58.1548 1272.49 62.8538 Q1275.89 67.5124 1281.81 67.5124 Q1287.72 67.5124 1291.08 62.8538 Q1294.49 58.1548 1294.49 49.9314 Z\" fill=\"#000000\" fill-rule=\"evenodd\" fill-opacity=\"1\" /><path clip-path=\"url(#clip330)\" d=\"M1332.16 32.4315 Q1326.17 32.4315 1322.68 37.1306 Q1319.2 41.7891 1319.2 49.9314 Q1319.2 58.0738 1322.64 62.7728 Q1326.12 67.4314 1332.16 67.4314 Q1338.12 67.4314 1341.6 62.7323 Q1345.08 58.0333 1345.08 49.9314 Q1345.08 41.8701 1341.6 37.1711 Q1338.12 32.4315 1332.16 32.4315 M1332.16 26.1121 Q1341.88 26.1121 1347.43 32.4315 Q1352.98 38.7509 1352.98 49.9314 Q1352.98 61.0714 1347.43 67.4314 Q1341.88 73.7508 1332.16 73.7508 Q1322.4 73.7508 1316.85 67.4314 Q1311.34 61.0714 1311.34 49.9314 Q1311.34 38.7509 1316.85 32.4315 Q1322.4 26.1121 1332.16 26.1121 Z\" fill=\"#000000\" fill-rule=\"evenodd\" fill-opacity=\"1\" /><path clip-path=\"url(#clip330)\" d=\"M1365.34 9.54393 L1372.79 9.54393 L1372.79 72.576 L1365.34 72.576 L1365.34 9.54393 Z\" fill=\"#000000\" fill-rule=\"evenodd\" fill-opacity=\"1\" /><path clip-path=\"url(#clip330)\" d=\"M1388.39 27.2059 L1395.84 27.2059 L1395.84 72.576 L1388.39 72.576 L1388.39 27.2059 M1388.39 9.54393 L1395.84 9.54393 L1395.84 18.9825 L1388.39 18.9825 L1388.39 9.54393 Z\" fill=\"#000000\" fill-rule=\"evenodd\" fill-opacity=\"1\" /><path clip-path=\"url(#clip330)\" d=\"M1444.09 28.9478 L1444.09 35.9153 Q1440.93 34.1734 1437.73 33.3227 Q1434.57 32.4315 1431.33 32.4315 Q1424.08 32.4315 1420.07 37.0496 Q1416.05 41.6271 1416.05 49.9314 Q1416.05 58.2358 1420.07 62.8538 Q1424.08 67.4314 1431.33 67.4314 Q1434.57 67.4314 1437.73 66.5807 Q1440.93 65.6895 1444.09 63.9476 L1444.09 70.8341 Q1440.97 72.2924 1437.61 73.0216 Q1434.28 73.7508 1430.52 73.7508 Q1420.27 73.7508 1414.23 67.3098 Q1408.2 60.8689 1408.2 49.9314 Q1408.2 38.832 1414.27 32.472 Q1420.39 26.1121 1431 26.1121 Q1434.45 26.1121 1437.73 26.8413 Q1441.01 27.5299 1444.09 28.9478 Z\" fill=\"#000000\" fill-rule=\"evenodd\" fill-opacity=\"1\" /><path clip-path=\"url(#clip330)\" d=\"M1475.93 76.7889 Q1472.77 84.8907 1469.77 87.3618 Q1466.77 89.8329 1461.75 89.8329 L1455.79 89.8329 L1455.79 83.5945 L1460.17 83.5945 Q1463.25 83.5945 1464.95 82.1361 Q1466.65 80.6778 1468.72 75.2496 L1470.05 71.8468 L1451.7 27.2059 L1459.6 27.2059 L1473.78 62.6918 L1487.96 27.2059 L1495.86 27.2059 L1475.93 76.7889 Z\" fill=\"#000000\" fill-rule=\"evenodd\" fill-opacity=\"1\" /><path clip-path=\"url(#clip332)\" d=\"M423.21 1072.95 L336.61 1022.95 L336.61 922.952 L423.21 872.952 L509.81 922.952 L509.81 1022.95 Z\" fill=\"#a7d0e4\" fill-rule=\"evenodd\" fill-opacity=\"1\" stroke=\"#000000\" stroke-opacity=\"1\" stroke-width=\"3.2\"/>\n",
       "<path clip-path=\"url(#clip332)\" d=\"M615.854 1072.95 L529.254 1022.95 L529.254 922.952 L615.854 872.952 L702.454 922.952 L702.454 1022.95 Z\" fill=\"#a3cee3\" fill-rule=\"evenodd\" fill-opacity=\"1\" stroke=\"#000000\" stroke-opacity=\"1\" stroke-width=\"3.2\"/>\n",
       "<path clip-path=\"url(#clip332)\" d=\"M808.498 1072.95 L721.898 1022.95 L721.898 922.952 L808.498 872.952 L895.098 922.952 L895.098 1022.95 Z\" fill=\"#b1172b\" fill-rule=\"evenodd\" fill-opacity=\"1\" stroke=\"#000000\" stroke-opacity=\"1\" stroke-width=\"3.2\"/>\n",
       "<path clip-path=\"url(#clip332)\" d=\"M1001.14 1072.95 L914.542 1022.95 L914.542 922.952 L1001.14 872.952 L1087.74 922.952 L1087.74 1022.95 Z\" fill=\"#ecf1f5\" fill-rule=\"evenodd\" fill-opacity=\"1\" stroke=\"#000000\" stroke-opacity=\"1\" stroke-width=\"3.2\"/>\n",
       "<path clip-path=\"url(#clip332)\" d=\"M516.425 911.146 L429.825 861.146 L429.825 761.146 L516.425 711.146 L603.025 761.146 L603.025 861.146 Z\" fill=\"#92c5de\" fill-rule=\"evenodd\" fill-opacity=\"1\" stroke=\"#000000\" stroke-opacity=\"1\" stroke-width=\"3.2\"/>\n",
       "<path clip-path=\"url(#clip332)\" d=\"M709.069 911.146 L622.469 861.146 L622.469 761.146 L709.069 711.146 L795.669 761.146 L795.669 861.146 Z\" fill=\"#a3cde3\" fill-rule=\"evenodd\" fill-opacity=\"1\" stroke=\"#000000\" stroke-opacity=\"1\" stroke-width=\"3.2\"/>\n",
       "<path clip-path=\"url(#clip332)\" d=\"M901.713 911.146 L815.113 861.146 L815.113 761.146 L901.713 711.146 L988.313 761.146 L988.313 861.146 Z\" fill=\"#bbdae9\" fill-rule=\"evenodd\" fill-opacity=\"1\" stroke=\"#000000\" stroke-opacity=\"1\" stroke-width=\"3.2\"/>\n",
       "<path clip-path=\"url(#clip332)\" d=\"M416.996 749.341 L330.396 699.341 L330.396 599.341 L416.996 549.341 L503.596 599.341 L503.596 699.341 Z\" fill=\"#a7d0e4\" fill-rule=\"evenodd\" fill-opacity=\"1\" stroke=\"#000000\" stroke-opacity=\"1\" stroke-width=\"3.2\"/>\n",
       "<path clip-path=\"url(#clip332)\" d=\"M609.64 749.341 L523.04 699.341 L523.04 599.341 L609.64 549.341 L696.24 599.341 L696.24 699.341 Z\" fill=\"#a3cee3\" fill-rule=\"evenodd\" fill-opacity=\"1\" stroke=\"#000000\" stroke-opacity=\"1\" stroke-width=\"3.2\"/>\n",
       "<path clip-path=\"url(#clip332)\" d=\"M802.284 749.341 L715.684 699.341 L715.684 599.341 L802.284 549.341 L888.884 599.341 L888.884 699.341 Z\" fill=\"#b1d5e7\" fill-rule=\"evenodd\" fill-opacity=\"1\" stroke=\"#000000\" stroke-opacity=\"1\" stroke-width=\"3.2\"/>\n",
       "<path clip-path=\"url(#clip332)\" d=\"M994.928 749.341 L908.328 699.341 L908.328 599.341 L994.928 549.341 L1081.53 599.341 L1081.53 699.341 Z\" fill=\"#c2ddeb\" fill-rule=\"evenodd\" fill-opacity=\"1\" stroke=\"#000000\" stroke-opacity=\"1\" stroke-width=\"3.2\"/>\n",
       "<path clip-path=\"url(#clip332)\" d=\"M1187.57 749.341 L1100.97 699.341 L1100.97 599.341 L1187.57 549.341 L1274.17 599.341 L1274.17 699.341 Z\" fill=\"#c4deec\" fill-rule=\"evenodd\" fill-opacity=\"1\" stroke=\"#000000\" stroke-opacity=\"1\" stroke-width=\"3.2\"/>\n",
       "<path clip-path=\"url(#clip332)\" d=\"M1380.22 749.341 L1293.62 699.341 L1293.62 599.341 L1380.22 549.341 L1466.82 599.341 L1466.82 699.341 Z\" fill=\"#b2d5e7\" fill-rule=\"evenodd\" fill-opacity=\"1\" stroke=\"#000000\" stroke-opacity=\"1\" stroke-width=\"3.2\"/>\n",
       "<path clip-path=\"url(#clip332)\" d=\"M1572.86 749.341 L1486.26 699.341 L1486.26 599.341 L1572.86 549.341 L1659.46 599.341 L1659.46 699.341 Z\" fill=\"#97c7df\" fill-rule=\"evenodd\" fill-opacity=\"1\" stroke=\"#000000\" stroke-opacity=\"1\" stroke-width=\"3.2\"/>\n",
       "<path clip-path=\"url(#clip332)\" d=\"M1765.5 749.341 L1678.9 699.341 L1678.9 599.341 L1765.5 549.341 L1852.1 599.341 L1852.1 699.341 Z\" fill=\"#71b0d2\" fill-rule=\"evenodd\" fill-opacity=\"1\" stroke=\"#000000\" stroke-opacity=\"1\" stroke-width=\"3.2\"/>\n",
       "<path clip-path=\"url(#clip332)\" d=\"M1958.15 749.341 L1871.55 699.341 L1871.55 599.341 L1958.15 549.341 L2044.75 599.341 L2044.75 699.341 Z\" fill=\"#519cc8\" fill-rule=\"evenodd\" fill-opacity=\"1\" stroke=\"#000000\" stroke-opacity=\"1\" stroke-width=\"3.2\"/>\n",
       "<path clip-path=\"url(#clip332)\" d=\"M2150.79 749.341 L2064.19 699.341 L2064.19 599.341 L2150.79 549.341 L2237.39 599.341 L2237.39 699.341 Z\" fill=\"#559ec9\" fill-rule=\"evenodd\" fill-opacity=\"1\" stroke=\"#000000\" stroke-opacity=\"1\" stroke-width=\"3.2\"/>\n",
       "<path clip-path=\"url(#clip332)\" d=\"M1287 911.146 L1200.4 861.146 L1200.4 761.146 L1287 711.146 L1373.6 761.146 L1373.6 861.146 Z\" fill=\"#c4deec\" fill-rule=\"evenodd\" fill-opacity=\"1\" stroke=\"#000000\" stroke-opacity=\"1\" stroke-width=\"3.2\"/>\n",
       "<path clip-path=\"url(#clip332)\" d=\"M1386.43 1072.95 L1299.83 1022.95 L1299.83 922.952 L1386.43 872.952 L1473.03 922.952 L1473.03 1022.95 Z\" fill=\"#bbd9e9\" fill-rule=\"evenodd\" fill-opacity=\"1\" stroke=\"#000000\" stroke-opacity=\"1\" stroke-width=\"3.2\"/>\n",
       "<path clip-path=\"url(#clip332)\" d=\"M1579.07 1072.95 L1492.47 1022.95 L1492.47 922.952 L1579.07 872.952 L1665.67 922.952 L1665.67 1022.95 Z\" fill=\"#a1cce2\" fill-rule=\"evenodd\" fill-opacity=\"1\" stroke=\"#000000\" stroke-opacity=\"1\" stroke-width=\"3.2\"/>\n",
       "<path clip-path=\"url(#clip332)\" d=\"M1771.72 1072.95 L1685.12 1022.95 L1685.12 922.952 L1771.72 872.952 L1858.32 922.952 L1858.32 1022.95 Z\" fill=\"#80b9d8\" fill-rule=\"evenodd\" fill-opacity=\"1\" stroke=\"#000000\" stroke-opacity=\"1\" stroke-width=\"3.2\"/>\n",
       "<path clip-path=\"url(#clip332)\" d=\"M1864.93 911.146 L1778.33 861.146 L1778.33 761.146 L1864.93 711.146 L1951.53 761.146 L1951.53 861.146 Z\" fill=\"#559ec9\" fill-rule=\"evenodd\" fill-opacity=\"1\" stroke=\"#000000\" stroke-opacity=\"1\" stroke-width=\"3.2\"/>\n",
       "<path clip-path=\"url(#clip332)\" d=\"M2057.58 911.146 L1970.98 861.146 L1970.98 761.146 L2057.58 711.146 L2144.18 761.146 L2144.18 861.146 Z\" fill=\"#3985bc\" fill-rule=\"evenodd\" fill-opacity=\"1\" stroke=\"#000000\" stroke-opacity=\"1\" stroke-width=\"3.2\"/>\n",
       "<path clip-path=\"url(#clip332)\" d=\"M2157 1072.95 L2070.4 1022.95 L2070.4 922.952 L2157 872.952 L2243.6 922.952 L2243.6 1022.95 Z\" fill=\"#2066ac\" fill-rule=\"evenodd\" fill-opacity=\"1\" stroke=\"#000000\" stroke-opacity=\"1\" stroke-width=\"3.2\"/>\n",
       "<polyline clip-path=\"url(#clip332)\" style=\"stroke:#000000; stroke-linecap:butt; stroke-linejoin:round; stroke-width:8; stroke-opacity:1; fill:none\" points=\"\n",
       "  469.818,932.501 472.925,929.804 \n",
       "  \"/>\n",
       "<polyline clip-path=\"url(#clip332)\" style=\"stroke:#000000; stroke-linecap:butt; stroke-linejoin:round; stroke-width:8; stroke-opacity:1; fill:none\" points=\"\n",
       "  433.938,939.807 472.925,929.804 457.535,966.995 \n",
       "  \"/>\n",
       "<polyline clip-path=\"url(#clip332)\" style=\"stroke:#000000; stroke-linecap:butt; stroke-linejoin:round; stroke-width:8; stroke-opacity:1; fill:none\" points=\"\n",
       "  472.925,929.804 469.818,932.501 \n",
       "  \"/>\n",
       "<polyline clip-path=\"url(#clip332)\" style=\"stroke:#000000; stroke-linecap:butt; stroke-linejoin:round; stroke-width:8; stroke-opacity:1; fill:none\" points=\"\n",
       "  569.247,932.501 566.14,929.804 \n",
       "  \"/>\n",
       "<polyline clip-path=\"url(#clip332)\" style=\"stroke:#000000; stroke-linecap:butt; stroke-linejoin:round; stroke-width:8; stroke-opacity:1; fill:none\" points=\"\n",
       "  581.529,966.995 566.14,929.804 605.126,939.807 \n",
       "  \"/>\n",
       "<polyline clip-path=\"url(#clip332)\" style=\"stroke:#000000; stroke-linecap:butt; stroke-linejoin:round; stroke-width:8; stroke-opacity:1; fill:none\" points=\"\n",
       "  566.14,929.804 569.247,932.501 \n",
       "  \"/>\n",
       "<polyline clip-path=\"url(#clip332)\" style=\"stroke:#000000; stroke-linecap:butt; stroke-linejoin:round; stroke-width:8; stroke-opacity:1; fill:none\" points=\"\n",
       "  855.105,972.952 858.213,972.952 \n",
       "  \"/>\n",
       "<polyline clip-path=\"url(#clip332)\" style=\"stroke:#000000; stroke-linecap:butt; stroke-linejoin:round; stroke-width:8; stroke-opacity:1; fill:none\" points=\"\n",
       "  822.213,954.952 858.213,972.952 822.213,990.952 \n",
       "  \"/>\n",
       "<polyline clip-path=\"url(#clip332)\" style=\"stroke:#000000; stroke-linecap:butt; stroke-linejoin:round; stroke-width:8; stroke-opacity:1; fill:none\" points=\"\n",
       "  858.213,972.952 855.105,972.952 \n",
       "  \"/>\n",
       "<polyline clip-path=\"url(#clip332)\" style=\"stroke:#000000; stroke-linecap:butt; stroke-linejoin:round; stroke-width:8; stroke-opacity:1; fill:none\" points=\"\n",
       "  954.534,932.501 951.427,929.804 \n",
       "  \"/>\n",
       "<polyline clip-path=\"url(#clip332)\" style=\"stroke:#000000; stroke-linecap:butt; stroke-linejoin:round; stroke-width:8; stroke-opacity:1; fill:none\" points=\"\n",
       "  966.817,966.995 951.427,929.804 990.414,939.807 \n",
       "  \"/>\n",
       "<polyline clip-path=\"url(#clip332)\" style=\"stroke:#000000; stroke-linecap:butt; stroke-linejoin:round; stroke-width:8; stroke-opacity:1; fill:none\" points=\"\n",
       "  951.427,929.804 954.534,932.501 \n",
       "  \"/>\n",
       "<polyline clip-path=\"url(#clip332)\" style=\"stroke:#000000; stroke-linecap:butt; stroke-linejoin:round; stroke-width:8; stroke-opacity:1; fill:none\" points=\"\n",
       "  563.032,811.146 566.14,811.146 \n",
       "  \"/>\n",
       "<polyline clip-path=\"url(#clip332)\" style=\"stroke:#000000; stroke-linecap:butt; stroke-linejoin:round; stroke-width:8; stroke-opacity:1; fill:none\" points=\"\n",
       "  530.14,793.146 566.14,811.146 530.14,829.146 \n",
       "  \"/>\n",
       "<polyline clip-path=\"url(#clip332)\" style=\"stroke:#000000; stroke-linecap:butt; stroke-linejoin:round; stroke-width:8; stroke-opacity:1; fill:none\" points=\"\n",
       "  566.14,811.146 563.032,811.146 \n",
       "  \"/>\n",
       "<polyline clip-path=\"url(#clip332)\" style=\"stroke:#000000; stroke-linecap:butt; stroke-linejoin:round; stroke-width:8; stroke-opacity:1; fill:none\" points=\"\n",
       "  662.462,811.146 659.354,811.146 \n",
       "  \"/>\n",
       "<polyline clip-path=\"url(#clip332)\" style=\"stroke:#000000; stroke-linecap:butt; stroke-linejoin:round; stroke-width:8; stroke-opacity:1; fill:none\" points=\"\n",
       "  695.354,829.146 659.354,811.146 695.354,793.146 \n",
       "  \"/>\n",
       "<polyline clip-path=\"url(#clip332)\" style=\"stroke:#000000; stroke-linecap:butt; stroke-linejoin:round; stroke-width:8; stroke-opacity:1; fill:none\" points=\"\n",
       "  659.354,811.146 662.462,811.146 \n",
       "  \"/>\n",
       "<polyline clip-path=\"url(#clip332)\" style=\"stroke:#000000; stroke-linecap:butt; stroke-linejoin:round; stroke-width:8; stroke-opacity:1; fill:none\" points=\"\n",
       "  855.105,770.695 851.998,767.998 \n",
       "  \"/>\n",
       "<polyline clip-path=\"url(#clip332)\" style=\"stroke:#000000; stroke-linecap:butt; stroke-linejoin:round; stroke-width:8; stroke-opacity:1; fill:none\" points=\"\n",
       "  867.388,805.189 851.998,767.998 890.985,778.001 \n",
       "  \"/>\n",
       "<polyline clip-path=\"url(#clip332)\" style=\"stroke:#000000; stroke-linecap:butt; stroke-linejoin:round; stroke-width:8; stroke-opacity:1; fill:none\" points=\"\n",
       "  851.998,767.998 855.105,770.695 \n",
       "  \"/>\n",
       "<polyline clip-path=\"url(#clip332)\" style=\"stroke:#000000; stroke-linecap:butt; stroke-linejoin:round; stroke-width:8; stroke-opacity:1; fill:none\" points=\"\n",
       "  463.603,689.792 466.711,692.489 \n",
       "  \"/>\n",
       "<polyline clip-path=\"url(#clip332)\" style=\"stroke:#000000; stroke-linecap:butt; stroke-linejoin:round; stroke-width:8; stroke-opacity:1; fill:none\" points=\"\n",
       "  451.321,655.298 466.711,692.489 427.724,682.486 \n",
       "  \"/>\n",
       "<polyline clip-path=\"url(#clip332)\" style=\"stroke:#000000; stroke-linecap:butt; stroke-linejoin:round; stroke-width:8; stroke-opacity:1; fill:none\" points=\"\n",
       "  466.711,692.489 463.603,689.792 \n",
       "  \"/>\n",
       "<polyline clip-path=\"url(#clip332)\" style=\"stroke:#000000; stroke-linecap:butt; stroke-linejoin:round; stroke-width:8; stroke-opacity:1; fill:none\" points=\"\n",
       "  563.032,689.792 559.925,692.489 \n",
       "  \"/>\n",
       "<polyline clip-path=\"url(#clip332)\" style=\"stroke:#000000; stroke-linecap:butt; stroke-linejoin:round; stroke-width:8; stroke-opacity:1; fill:none\" points=\"\n",
       "  598.912,682.486 559.925,692.489 575.315,655.298 \n",
       "  \"/>\n",
       "<polyline clip-path=\"url(#clip332)\" style=\"stroke:#000000; stroke-linecap:butt; stroke-linejoin:round; stroke-width:8; stroke-opacity:1; fill:none\" points=\"\n",
       "  559.925,692.489 563.032,689.792 \n",
       "  \"/>\n",
       "<polyline clip-path=\"url(#clip332)\" style=\"stroke:#000000; stroke-linecap:butt; stroke-linejoin:round; stroke-width:8; stroke-opacity:1; fill:none\" points=\"\n",
       "  755.676,689.792 752.569,692.489 \n",
       "  \"/>\n",
       "<polyline clip-path=\"url(#clip332)\" style=\"stroke:#000000; stroke-linecap:butt; stroke-linejoin:round; stroke-width:8; stroke-opacity:1; fill:none\" points=\"\n",
       "  791.556,682.486 752.569,692.489 767.959,655.298 \n",
       "  \"/>\n",
       "<polyline clip-path=\"url(#clip332)\" style=\"stroke:#000000; stroke-linecap:butt; stroke-linejoin:round; stroke-width:8; stroke-opacity:1; fill:none\" points=\"\n",
       "  752.569,692.489 755.676,689.792 \n",
       "  \"/>\n",
       "<polyline clip-path=\"url(#clip332)\" style=\"stroke:#000000; stroke-linecap:butt; stroke-linejoin:round; stroke-width:8; stroke-opacity:1; fill:none\" points=\"\n",
       "  948.32,649.341 945.213,649.341 \n",
       "  \"/>\n",
       "<polyline clip-path=\"url(#clip332)\" style=\"stroke:#000000; stroke-linecap:butt; stroke-linejoin:round; stroke-width:8; stroke-opacity:1; fill:none\" points=\"\n",
       "  981.213,667.341 945.213,649.341 981.213,631.341 \n",
       "  \"/>\n",
       "<polyline clip-path=\"url(#clip332)\" style=\"stroke:#000000; stroke-linecap:butt; stroke-linejoin:round; stroke-width:8; stroke-opacity:1; fill:none\" points=\"\n",
       "  945.213,649.341 948.32,649.341 \n",
       "  \"/>\n",
       "<polyline clip-path=\"url(#clip332)\" style=\"stroke:#000000; stroke-linecap:butt; stroke-linejoin:round; stroke-width:8; stroke-opacity:1; fill:none\" points=\"\n",
       "  1234.18,649.341 1237.29,649.341 \n",
       "  \"/>\n",
       "<polyline clip-path=\"url(#clip332)\" style=\"stroke:#000000; stroke-linecap:butt; stroke-linejoin:round; stroke-width:8; stroke-opacity:1; fill:none\" points=\"\n",
       "  1201.29,631.341 1237.29,649.341 1201.29,667.341 \n",
       "  \"/>\n",
       "<polyline clip-path=\"url(#clip332)\" style=\"stroke:#000000; stroke-linecap:butt; stroke-linejoin:round; stroke-width:8; stroke-opacity:1; fill:none\" points=\"\n",
       "  1237.29,649.341 1234.18,649.341 \n",
       "  \"/>\n",
       "<polyline clip-path=\"url(#clip332)\" style=\"stroke:#000000; stroke-linecap:butt; stroke-linejoin:round; stroke-width:8; stroke-opacity:1; fill:none\" points=\"\n",
       "  1426.82,649.341 1429.93,649.341 \n",
       "  \"/>\n",
       "<polyline clip-path=\"url(#clip332)\" style=\"stroke:#000000; stroke-linecap:butt; stroke-linejoin:round; stroke-width:8; stroke-opacity:1; fill:none\" points=\"\n",
       "  1393.93,631.341 1429.93,649.341 1393.93,667.341 \n",
       "  \"/>\n",
       "<polyline clip-path=\"url(#clip332)\" style=\"stroke:#000000; stroke-linecap:butt; stroke-linejoin:round; stroke-width:8; stroke-opacity:1; fill:none\" points=\"\n",
       "  1429.93,649.341 1426.82,649.341 \n",
       "  \"/>\n",
       "<polyline clip-path=\"url(#clip332)\" style=\"stroke:#000000; stroke-linecap:butt; stroke-linejoin:round; stroke-width:8; stroke-opacity:1; fill:none\" points=\"\n",
       "  1619.47,649.341 1622.57,649.341 \n",
       "  \"/>\n",
       "<polyline clip-path=\"url(#clip332)\" style=\"stroke:#000000; stroke-linecap:butt; stroke-linejoin:round; stroke-width:8; stroke-opacity:1; fill:none\" points=\"\n",
       "  1586.57,631.341 1622.57,649.341 1586.57,667.341 \n",
       "  \"/>\n",
       "<polyline clip-path=\"url(#clip332)\" style=\"stroke:#000000; stroke-linecap:butt; stroke-linejoin:round; stroke-width:8; stroke-opacity:1; fill:none\" points=\"\n",
       "  1622.57,649.341 1619.47,649.341 \n",
       "  \"/>\n",
       "<polyline clip-path=\"url(#clip332)\" style=\"stroke:#000000; stroke-linecap:butt; stroke-linejoin:round; stroke-width:8; stroke-opacity:1; fill:none\" points=\"\n",
       "  1812.11,649.341 1815.22,649.341 \n",
       "  \"/>\n",
       "<polyline clip-path=\"url(#clip332)\" style=\"stroke:#000000; stroke-linecap:butt; stroke-linejoin:round; stroke-width:8; stroke-opacity:1; fill:none\" points=\"\n",
       "  1779.22,631.341 1815.22,649.341 1779.22,667.341 \n",
       "  \"/>\n",
       "<polyline clip-path=\"url(#clip332)\" style=\"stroke:#000000; stroke-linecap:butt; stroke-linejoin:round; stroke-width:8; stroke-opacity:1; fill:none\" points=\"\n",
       "  1815.22,649.341 1812.11,649.341 \n",
       "  \"/>\n",
       "<polyline clip-path=\"url(#clip332)\" style=\"stroke:#000000; stroke-linecap:butt; stroke-linejoin:round; stroke-width:8; stroke-opacity:1; fill:none\" points=\"\n",
       "  2004.75,689.792 2007.86,692.489 \n",
       "  \"/>\n",
       "<polyline clip-path=\"url(#clip332)\" style=\"stroke:#000000; stroke-linecap:butt; stroke-linejoin:round; stroke-width:8; stroke-opacity:1; fill:none\" points=\"\n",
       "  1992.47,655.298 2007.86,692.489 1968.87,682.486 \n",
       "  \"/>\n",
       "<polyline clip-path=\"url(#clip332)\" style=\"stroke:#000000; stroke-linecap:butt; stroke-linejoin:round; stroke-width:8; stroke-opacity:1; fill:none\" points=\"\n",
       "  2007.86,692.489 2004.75,689.792 \n",
       "  \"/>\n",
       "<polyline clip-path=\"url(#clip332)\" style=\"stroke:#000000; stroke-linecap:butt; stroke-linejoin:round; stroke-width:8; stroke-opacity:1; fill:none\" points=\"\n",
       "  2104.18,689.792 2101.08,692.489 \n",
       "  \"/>\n",
       "<polyline clip-path=\"url(#clip332)\" style=\"stroke:#000000; stroke-linecap:butt; stroke-linejoin:round; stroke-width:8; stroke-opacity:1; fill:none\" points=\"\n",
       "  2140.06,682.486 2101.08,692.489 2116.47,655.298 \n",
       "  \"/>\n",
       "<polyline clip-path=\"url(#clip332)\" style=\"stroke:#000000; stroke-linecap:butt; stroke-linejoin:round; stroke-width:8; stroke-opacity:1; fill:none\" points=\"\n",
       "  2101.08,692.489 2104.18,689.792 \n",
       "  \"/>\n",
       "<polyline clip-path=\"url(#clip332)\" style=\"stroke:#000000; stroke-linecap:butt; stroke-linejoin:round; stroke-width:8; stroke-opacity:1; fill:none\" points=\"\n",
       "  1333.61,770.695 1336.71,767.998 \n",
       "  \"/>\n",
       "<polyline clip-path=\"url(#clip332)\" style=\"stroke:#000000; stroke-linecap:butt; stroke-linejoin:round; stroke-width:8; stroke-opacity:1; fill:none\" points=\"\n",
       "  1297.73,778.001 1336.71,767.998 1321.33,805.189 \n",
       "  \"/>\n",
       "<polyline clip-path=\"url(#clip332)\" style=\"stroke:#000000; stroke-linecap:butt; stroke-linejoin:round; stroke-width:8; stroke-opacity:1; fill:none\" points=\"\n",
       "  1336.71,767.998 1333.61,770.695 \n",
       "  \"/>\n",
       "<polyline clip-path=\"url(#clip332)\" style=\"stroke:#000000; stroke-linecap:butt; stroke-linejoin:round; stroke-width:8; stroke-opacity:1; fill:none\" points=\"\n",
       "  1433.04,972.952 1436.14,972.952 \n",
       "  \"/>\n",
       "<polyline clip-path=\"url(#clip332)\" style=\"stroke:#000000; stroke-linecap:butt; stroke-linejoin:round; stroke-width:8; stroke-opacity:1; fill:none\" points=\"\n",
       "  1400.14,954.952 1436.14,972.952 1400.14,990.952 \n",
       "  \"/>\n",
       "<polyline clip-path=\"url(#clip332)\" style=\"stroke:#000000; stroke-linecap:butt; stroke-linejoin:round; stroke-width:8; stroke-opacity:1; fill:none\" points=\"\n",
       "  1436.14,972.952 1433.04,972.952 \n",
       "  \"/>\n",
       "<polyline clip-path=\"url(#clip332)\" style=\"stroke:#000000; stroke-linecap:butt; stroke-linejoin:round; stroke-width:8; stroke-opacity:1; fill:none\" points=\"\n",
       "  1625.68,972.952 1628.79,972.952 \n",
       "  \"/>\n",
       "<polyline clip-path=\"url(#clip332)\" style=\"stroke:#000000; stroke-linecap:butt; stroke-linejoin:round; stroke-width:8; stroke-opacity:1; fill:none\" points=\"\n",
       "  1592.79,954.952 1628.79,972.952 1592.79,990.952 \n",
       "  \"/>\n",
       "<polyline clip-path=\"url(#clip332)\" style=\"stroke:#000000; stroke-linecap:butt; stroke-linejoin:round; stroke-width:8; stroke-opacity:1; fill:none\" points=\"\n",
       "  1628.79,972.952 1625.68,972.952 \n",
       "  \"/>\n",
       "<polyline clip-path=\"url(#clip332)\" style=\"stroke:#000000; stroke-linecap:butt; stroke-linejoin:round; stroke-width:8; stroke-opacity:1; fill:none\" points=\"\n",
       "  1818.32,932.501 1821.43,929.804 \n",
       "  \"/>\n",
       "<polyline clip-path=\"url(#clip332)\" style=\"stroke:#000000; stroke-linecap:butt; stroke-linejoin:round; stroke-width:8; stroke-opacity:1; fill:none\" points=\"\n",
       "  1782.45,939.807 1821.43,929.804 1806.04,966.995 \n",
       "  \"/>\n",
       "<polyline clip-path=\"url(#clip332)\" style=\"stroke:#000000; stroke-linecap:butt; stroke-linejoin:round; stroke-width:8; stroke-opacity:1; fill:none\" points=\"\n",
       "  1821.43,929.804 1818.32,932.501 \n",
       "  \"/>\n",
       "<polyline clip-path=\"url(#clip332)\" style=\"stroke:#000000; stroke-linecap:butt; stroke-linejoin:round; stroke-width:8; stroke-opacity:1; fill:none\" points=\"\n",
       "  1911.54,811.146 1914.65,811.146 \n",
       "  \"/>\n",
       "<polyline clip-path=\"url(#clip332)\" style=\"stroke:#000000; stroke-linecap:butt; stroke-linejoin:round; stroke-width:8; stroke-opacity:1; fill:none\" points=\"\n",
       "  1878.65,793.146 1914.65,811.146 1878.65,829.146 \n",
       "  \"/>\n",
       "<polyline clip-path=\"url(#clip332)\" style=\"stroke:#000000; stroke-linecap:butt; stroke-linejoin:round; stroke-width:8; stroke-opacity:1; fill:none\" points=\"\n",
       "  1914.65,811.146 1911.54,811.146 \n",
       "  \"/>\n",
       "<polyline clip-path=\"url(#clip332)\" style=\"stroke:#000000; stroke-linecap:butt; stroke-linejoin:round; stroke-width:8; stroke-opacity:1; fill:none\" points=\"\n",
       "  2104.18,851.598 2107.29,854.295 \n",
       "  \"/>\n",
       "<polyline clip-path=\"url(#clip332)\" style=\"stroke:#000000; stroke-linecap:butt; stroke-linejoin:round; stroke-width:8; stroke-opacity:1; fill:none\" points=\"\n",
       "  2091.9,817.104 2107.29,854.295 2068.3,844.292 \n",
       "  \"/>\n",
       "<polyline clip-path=\"url(#clip332)\" style=\"stroke:#000000; stroke-linecap:butt; stroke-linejoin:round; stroke-width:8; stroke-opacity:1; fill:none\" points=\"\n",
       "  2107.29,854.295 2104.18,851.598 \n",
       "  \"/>\n",
       "<polyline clip-path=\"url(#clip332)\" style=\"stroke:#000000; stroke-linecap:butt; stroke-linejoin:round; stroke-width:8; stroke-opacity:1; fill:none\" points=\"\n",
       "  2203.61,972.952 2206.72,972.952 \n",
       "  \"/>\n",
       "<polyline clip-path=\"url(#clip332)\" style=\"stroke:#000000; stroke-linecap:butt; stroke-linejoin:round; stroke-width:8; stroke-opacity:1; fill:none\" points=\"\n",
       "  2170.72,954.952 2206.72,972.952 2170.72,990.952 \n",
       "  \"/>\n",
       "<polyline clip-path=\"url(#clip332)\" style=\"stroke:#000000; stroke-linecap:butt; stroke-linejoin:round; stroke-width:8; stroke-opacity:1; fill:none\" points=\"\n",
       "  2206.72,972.952 2203.61,972.952 \n",
       "  \"/>\n",
       "<path clip-path=\"url(#clip332)\" d=\"\n",
       "M112.494 1512.3 L2287.51 1512.3 L2287.51 163.924 L112.494 163.924 L112.494 1512.3  Z\n",
       "  \" fill=\"#8e971d\" fill-rule=\"evenodd\" fill-opacity=\"0\"/>\n",
       "<polyline clip-path=\"url(#clip332)\" style=\"stroke:#000000; stroke-linecap:butt; stroke-linejoin:round; stroke-width:4; stroke-opacity:0; fill:none\" points=\"\n",
       "  112.494,1512.3 2287.51,1512.3 2287.51,163.924 112.494,163.924 112.494,1512.3 \n",
       "  \"/>\n",
       "</svg>\n"
      ]
     },
     "metadata": {},
     "output_type": "display_data"
    }
   ],
   "source": [
    "mdp = HexWorldMDP(discount, p_trans, reward_bump_border, hexes, rewards);\n",
    "U, π = solve(mdp);\n",
    "render(mdp, U, π, tit = \"Optimal policy\")"
   ]
  }
 ],
 "metadata": {
  "kernelspec": {
   "display_name": "Julia 1.6.3",
   "language": "julia",
   "name": "julia-1.6"
  },
  "language_info": {
   "file_extension": ".jl",
   "mimetype": "application/julia",
   "name": "julia",
   "version": "1.6.3"
  },
  "orig_nbformat": 4
 },
 "nbformat": 4,
 "nbformat_minor": 2
}
